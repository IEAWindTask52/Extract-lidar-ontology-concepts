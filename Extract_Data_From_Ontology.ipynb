{
 "cells": [
  {
   "cell_type": "markdown",
   "id": "06695f6a",
   "metadata": {},
   "source": [
    "## Connecting wind lidar - Working group (7): Lidar ontology - [IEA Task 52](https://iea-wind.org/task52/)\n",
    "\n",
    "Part of the publication \" \"\n",
    "\n",
    "# Making lidar ontology concepts available and reusable"
   ]
  },
  {
   "cell_type": "markdown",
   "id": "f9c345e9",
   "metadata": {},
   "source": [
    "...Explain how to download the lidar concept..."
   ]
  },
  {
   "cell_type": "code",
   "execution_count": 1,
   "id": "734f4cd9",
   "metadata": {},
   "outputs": [],
   "source": [
    "import pdb\n",
    "import json\n",
    "Preferred_Label,Alternative_Label,Definition='','',''\n",
    "Lidar_Dictionary = {}"
   ]
  },
  {
   "cell_type": "markdown",
   "id": "7688f7ec",
   "metadata": {},
   "source": [
    "Which idiom you want?"
   ]
  },
  {
   "cell_type": "code",
   "execution_count": 2,
   "id": "21a01504",
   "metadata": {},
   "outputs": [
    {
     "name": "stdout",
     "output_type": "stream",
     "text": [
      "Idiom?English\n"
     ]
    }
   ],
   "source": [
    "SelIdiom=input('Idiom? ') # \"English\", \"Spanish\", \"Chinesse\" or \"Italian\"\n"
   ]
  },
  {
   "cell_type": "code",
   "execution_count": 3,
   "id": "e5cb3d39",
   "metadata": {},
   "outputs": [],
   "source": [
    "# Open the file that users download from (https://data.windenergy.dtu.dk/ontologies/view/ontolidar/en/)\n",
    "with open(r'C:\\Users\\fcosta\\Downloads\\VAD_da', encoding='utf-8') as f:\n",
    "    d = json.load(f)"
   ]
  },
  {
   "cell_type": "markdown",
   "id": "fd30fc89",
   "metadata": {},
   "source": [
    "Let's have a quick look to the data "
   ]
  },
  {
   "cell_type": "code",
   "execution_count": 4,
   "id": "7cf28ee1",
   "metadata": {},
   "outputs": [
    {
     "data": {
      "text/plain": [
       "{'@context': {'skos': 'http://www.w3.org/2004/02/skos/core#',\n",
       "  'isothes': 'http://purl.org/iso25964/skos-thes#',\n",
       "  'rdfs': 'http://www.w3.org/2000/01/rdf-schema#',\n",
       "  'owl': 'http://www.w3.org/2002/07/owl#',\n",
       "  'dct': 'http://purl.org/dc/terms/',\n",
       "  'dc11': 'http://purl.org/dc/elements/1.1/',\n",
       "  'uri': '@id',\n",
       "  'type': '@type',\n",
       "  'lang': '@language',\n",
       "  'value': '@value',\n",
       "  'graph': '@graph',\n",
       "  'label': 'rdfs:label',\n",
       "  'prefLabel': 'skos:prefLabel',\n",
       "  'altLabel': 'skos:altLabel',\n",
       "  'hiddenLabel': 'skos:hiddenLabel',\n",
       "  'broader': 'skos:broader',\n",
       "  'narrower': 'skos:narrower',\n",
       "  'related': 'skos:related',\n",
       "  'inScheme': 'skos:inScheme',\n",
       "  'exactMatch': 'skos:exactMatch',\n",
       "  'closeMatch': 'skos:closeMatch',\n",
       "  'broadMatch': 'skos:broadMatch',\n",
       "  'narrowMatch': 'skos:narrowMatch',\n",
       "  'relatedMatch': 'skos:relatedMatch'},\n",
       " 'graph': [{'uri': 'http://vocab.ieawindtask32.org/wind-lidar-ontology/',\n",
       "   'type': 'skos:ConceptScheme',\n",
       "   'prefLabel': {'lang': 'en',\n",
       "    'value': 'IEA Wind Task 32 Wind Lidar Ontology'}},\n",
       "  {'uri': 'http://vocab.ieawindtask32.org/wind-lidar-ontology/VelocityAzimuthDisplay',\n",
       "   'type': 'skos:Concept',\n",
       "   'altLabel': {'lang': 'en', 'value': 'VAD'},\n",
       "   'broader': {'uri': 'http://vocab.ieawindtask32.org/wind-lidar-ontology/WindfieldReconstruction'},\n",
       "   'skos:definition': [{'lang': 'it',\n",
       "     'value': \"Un particolare metodo di analisi dati di un lidar a geometria conica. Data una scansione completa del cono ad una specifica altezza, i punti di misurazione contigui l'uno all'altro nello spazio vengono combinati secondo metodi statistici di interpolazione per ricostruire la velocità del vento.\"},\n",
       "    {'lang': 'cn',\n",
       "     'value': 'VAD是一种测风激光雷达的测量方法，通过倒圆锥形的扫描方式，雷达可以对许多间隔很近的方位角点进行采样，然后使用统计拟合方法将数据用于推算每个高度的风速。'},\n",
       "    {'lang': 'es',\n",
       "     'value': 'VAD es un método de análisis de datos provenientes de un escaneo de geometría cónica en el que varios puntos azimutales estrechamente espaciados son muestreados por el lidar. Dichos datos se utilizan para estimar la velocidad del viento a una determinada altura utilizanso métodos de ajuste estadísticos.'},\n",
       "    {'lang': 'en',\n",
       "     'value': 'VAD is a method of analyzing data from a complete conical scan whereby many closely spaced azimuthal points may be sampled by the lidar, and the data are used to estimate the wind speed at each height using a statistical fitting method.'}],\n",
       "   'skos:editorialNote': [{'lang': 'en',\n",
       "     'value': 'The VAD method is described in Lhermitte (1966) and Browning and Wexler (1968).'},\n",
       "    {'lang': 'it',\n",
       "     'value': 'Il metodo VAD è descritto in Lhermitte (1966) e Bowning e Wexler (1968).'}],\n",
       "   'inScheme': {'uri': 'http://vocab.ieawindtask32.org/wind-lidar-ontology/'},\n",
       "   'prefLabel': [{'lang': 'es', 'value': 'Muestreo de velocidad en azimut'},\n",
       "    {'lang': 'it', 'value': 'Campionamento di velocità in azimut'},\n",
       "    {'lang': 'cn', 'value': '速度-方位角（VAD）测量法'},\n",
       "    {'lang': 'en', 'value': 'Velocity-azimuth display'}]},\n",
       "  {'uri': 'http://vocab.ieawindtask32.org/wind-lidar-ontology/WindfieldReconstruction',\n",
       "   'type': 'skos:Concept',\n",
       "   'narrower': {'uri': 'http://vocab.ieawindtask32.org/wind-lidar-ontology/VelocityAzimuthDisplay'},\n",
       "   'prefLabel': [{'lang': 'cn', 'value': '气流（风）流场重构'},\n",
       "    {'lang': 'de', 'value': 'Windfeld Rekonstruktion'},\n",
       "    {'lang': 'es', 'value': 'Reconstrucción del campo de vientos'},\n",
       "    {'lang': 'it', 'value': 'Ricostruzione del campo di vento'},\n",
       "    {'lang': 'en', 'value': 'Windfield Reconstruction'}]}]}"
      ]
     },
     "execution_count": 4,
     "metadata": {},
     "output_type": "execute_result"
    }
   ],
   "source": [
    "d"
   ]
  },
  {
   "cell_type": "markdown",
   "id": "b27e7533",
   "metadata": {},
   "source": [
    "## Extract data"
   ]
  },
  {
   "cell_type": "code",
   "execution_count": 5,
   "id": "a7b1023b",
   "metadata": {},
   "outputs": [],
   "source": [
    "# Find the index to the correct prefLabel    \n",
    "index_inScheme=1\n",
    "m=d['graph'][index_inScheme].keys()\n",
    "while 'inScheme' not in m:\n",
    "    index_inScheme+=1\n",
    "    m=d['graph'][index_inScheme].keys()\n",
    "    "
   ]
  },
  {
   "cell_type": "markdown",
   "id": "b425b04a",
   "metadata": {},
   "source": [
    "### Get definition of the lidar concept provided by the lidar ontology"
   ]
  },
  {
   "cell_type": "code",
   "execution_count": 6,
   "id": "253c7008",
   "metadata": {},
   "outputs": [],
   "source": [
    "#Getting definition of the concept\n",
    "if 'skos:definition' in d['graph'][index_inScheme].keys():\n",
    "    for index_def in range(len(d['graph'][index_inScheme]['skos:definition'])):                   \n",
    "        items0=d['graph'][index_inScheme]['skos:definition'][index_def].items()\n",
    "        \n",
    "        # Select idiom\n",
    "        if SelIdiom=='English' and ('lang','en') in items0:\n",
    "            Definition = list(d['graph'][index_inScheme]['skos:definition'][index_def].values())[1]\n",
    "        \n",
    "        elif SelIdiom=='Spanish' and ('lang','es') in items0:\n",
    "            Definition = list(d['graph'][index_inScheme]['skos:definition'][index_def].values())[1]\n",
    "        \n",
    "        elif SelIdiom=='Chinesse' and  ('lang','cn') in items0:\n",
    "            Definition= list(d['graph'][index_inScheme]['skos:definition'][index_def].values())[1]\n",
    "        \n",
    "        elif SelIdiom=='Italian' and  ('lang','it') in items0:\n",
    "            Definition= list(d['graph'][index_inScheme]['skos:definition'][index_def].values())[1]\n",
    "\n",
    "#Save in a new dictionary\n",
    "Lidar_Dictionary['Definition']=Definition"
   ]
  },
  {
   "cell_type": "code",
   "execution_count": 7,
   "id": "2eb4f7b4",
   "metadata": {},
   "outputs": [
    {
     "name": "stdout",
     "output_type": "stream",
     "text": [
      "VAD is a method of analyzing data from a complete conical scan whereby many closely spaced azimuthal points may be sampled by the lidar, and the data are used to estimate the wind speed at each height using a statistical fitting method.\n"
     ]
    }
   ],
   "source": [
    "print(Definition)"
   ]
  },
  {
   "cell_type": "markdown",
   "id": "00f89025",
   "metadata": {},
   "source": [
    "### Get the preferred label of the lidar concept provided by the lidar ontology"
   ]
  },
  {
   "cell_type": "code",
   "execution_count": 8,
   "id": "0a0e244b",
   "metadata": {},
   "outputs": [],
   "source": [
    "# Getting preferred label of the concept\n",
    "for ind_1 in range(len(d['graph'][index_inScheme]['prefLabel'])):\n",
    "    dict0=d['graph'][index_inScheme]['prefLabel'][ind_1]\n",
    "\n",
    "    if SelIdiom=='English' and ('lang','en') in dict0.items():\n",
    "        Preferred_Label = list(dict0.values())[1]\n",
    "            \n",
    "    elif SelIdiom=='Spanish' and ('lang','es') in dict0.items():\n",
    "        Preferred_Label = list(dict0.values())[1]\n",
    "           \n",
    "    elif SelIdiom=='Chinesse' and ('lang','cn') in dict0.items():\n",
    "        Preferred_Label = list(dict0.values())[1]\n",
    "    \n",
    "    elif SelIdiom=='Italian' and ('lang','it') in dict0.items():\n",
    "        Preferred_Label = list(dict0.values())[1]\n",
    "\n",
    "#Save in a new dictionary\n",
    "Lidar_Dictionary['Preferred Label']=Preferred_Label"
   ]
  },
  {
   "cell_type": "code",
   "execution_count": 9,
   "id": "dcb3645e",
   "metadata": {},
   "outputs": [
    {
     "name": "stdout",
     "output_type": "stream",
     "text": [
      "Velocity-azimuth display\n"
     ]
    }
   ],
   "source": [
    "print(Preferred_Label)"
   ]
  },
  {
   "cell_type": "markdown",
   "id": "d538ae8f",
   "metadata": {},
   "source": [
    "### Get the alternative label of the lidar concept provided by the lidar ontology"
   ]
  },
  {
   "cell_type": "code",
   "execution_count": 10,
   "id": "a5dba020",
   "metadata": {},
   "outputs": [],
   "source": [
    "# Getting alternative label of the concept\n",
    "if 'altLabel' in d['graph'][index_inScheme].keys():\n",
    "     Alternative_Label = d['graph'][index_inScheme]['altLabel']['value']\n",
    "else:\n",
    "    print('No alternative label available')\n",
    "    \n",
    "#Save in a new dictionary\n",
    "Lidar_Dictionary['Alternative Label']=Alternative_Label"
   ]
  },
  {
   "cell_type": "code",
   "execution_count": 11,
   "id": "16e565a0",
   "metadata": {},
   "outputs": [
    {
     "name": "stdout",
     "output_type": "stream",
     "text": [
      "VAD\n"
     ]
    }
   ],
   "source": [
    "print(Alternative_Label)"
   ]
  },
  {
   "cell_type": "code",
   "execution_count": 12,
   "id": "ddd589cf",
   "metadata": {},
   "outputs": [
    {
     "data": {
      "text/plain": [
       "{'Definition': 'VAD is a method of analyzing data from a complete conical scan whereby many closely spaced azimuthal points may be sampled by the lidar, and the data are used to estimate the wind speed at each height using a statistical fitting method.',\n",
       " 'Preferred Label': 'Velocity-azimuth display',\n",
       " 'Alternative Label': 'VAD'}"
      ]
     },
     "execution_count": 12,
     "metadata": {},
     "output_type": "execute_result"
    }
   ],
   "source": [
    "Lidar_Dictionary"
   ]
  }
 ],
 "metadata": {
  "kernelspec": {
   "display_name": "Python 3",
   "language": "python",
   "name": "python3"
  },
  "language_info": {
   "codemirror_mode": {
    "name": "ipython",
    "version": 3
   },
   "file_extension": ".py",
   "mimetype": "text/x-python",
   "name": "python",
   "nbconvert_exporter": "python",
   "pygments_lexer": "ipython3",
   "version": "3.7.9"
  }
 },
 "nbformat": 4,
 "nbformat_minor": 5
}
