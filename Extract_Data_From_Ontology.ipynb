{
 "cells": [
  {
   "cell_type": "markdown",
   "id": "06695f6a",
   "metadata": {},
   "source": [
    "## Connecting wind lidar - Working group (7): Lidar ontology - [IEA Task 52](https://iea-wind.org/task52/)\n",
    "\n",
    "This tutorial is part of the publication \" \"\n",
    "\n",
    "Authors: \n",
    "\n",
    "# Making lidar ontology concepts available and reusable\n",
    "\n",
    "This tutorial has been developed with the aim of showing a practical application of the lidar ontology e.g., for coding purposes. This particular application can be useful when sharing lidar-related code among researchers/organisations or to simplify the process of creating input files for lidar simulators. \n",
    "The idea is to download a lidar ontology concept and use its ```alternative label``` as input for user's in-built workflow. Along with this idea, users can download also other lidar concept descriptors, like definition, editorial notes, etc.\n",
    "\n",
    "In this tutorial, we only extract three labels (Definition, preferred label and alternative label) from a concept (say, wind velocity). The labels and the concept are further explained as follows:\n",
    "Definition - A detailed explanation of a term used in the context of wind speed measurement lidars, especially for the wind energy applications\n",
    "preferred label - A standard name applied to a variable used frequently in lidar applications\n",
    "alternative label - An abbreviated name for the variable used frequently in the wind energy industry.\n",
    "concept - A defined variable in the lidar ontology"
   ]
  },
  {
   "cell_type": "markdown",
   "id": "f9c345e9",
   "metadata": {},
   "source": [
    "### Downloading a lidar concept\n",
    "**Step 0**. Visit https://data.windenergy.dtu.dk/ontologies/view/ontolidar/en/\n",
    "\n",
    "\n",
    "**Step 1**. Click on the ontology concept you are interested in downloading\n",
    "<div style=\"max-width:1000px;margin-left: 0px; margin-right:200px;margin-top: 20px; margin-bottom:50px;\">\n",
    "<img src=\"Pictures_repo/Fig1.png\" width=\"200px\"/>\n",
    "</div>\n",
    "\n",
    "\n",
    "\n",
    "**Step 2**. Scroll down and click on ```Download this concept``` --> download JSON-LD format\n",
    "User can download other formats, but will be incompatible with this tutorial.\n",
    "\n",
    "<div style=\"max-width:1000px;margin-left: 0px; margin-right:410px;margin-top: 20px; margin-bottom:50px;\">\n",
    "<img src=\"Pictures_repo/Fig2.png\" width=\"550px\"/>\n",
    "</div>\n",
    "\n",
    "\n",
    "**Step 3**. Save the concept \n",
    "\n",
    "<div style=\"max-width:400px;margin-left: 0px; margin-right:auto;margin-top: 20px; margin-bottom:50px;\">\n",
    "<img src=\"./Pictures_repo/Fig3.png\" width=\"500px\"/>\n",
    "</div>\n",
    "\n"
   ]
  },
  {
   "cell_type": "code",
   "execution_count": 1,
   "id": "734f4cd9",
   "metadata": {},
   "outputs": [],
   "source": [
    "import json\n",
    "import sys\n",
    "import yaml\n",
    "import ruamel.yaml\n",
    "import pdb\n",
    "sys.path.append(\"C:/SWE_LOCAL/Task32/Lidar_ontology/Example_coding_efficiency/LidarOntologyConceptsRepo/Extract-lidar-ontology-concepts/fun/\") \n",
    "\n",
    "Preferred_Label,Alternative_Label,Definition='','',''\n",
    "Lidar_Dictionary = {}"
   ]
  },
  {
   "cell_type": "markdown",
   "id": "7688f7ec",
   "metadata": {},
   "source": [
    "Which language you want? The ontology is currently developed for `English`, `Italian`, ``Spanish`` and ``Chinese``. Input these to get the definition in your preferred language. \\\n",
    "Please get in touch with us, if you are interested in developing the ontology for your preferred language."
   ]
  },
  {
   "cell_type": "code",
   "execution_count": 2,
   "id": "21a01504",
   "metadata": {},
   "outputs": [
    {
     "name": "stdout",
     "output_type": "stream",
     "text": [
      "Language? s\n"
     ]
    }
   ],
   "source": [
    "SelIdiom=input('Language? ') # \"English\", \"Spanish\", \"Chinese\" or \"Italian\"\n"
   ]
  },
  {
   "cell_type": "markdown",
   "id": "1e73ba6e",
   "metadata": {},
   "source": [
    "Save your downloaded json or rdf turtle files in the Ontology_Concepts folder. The script Extract_Data_From_Ontology.ipynb (this notebook) will guide you through the basics of lidar ontology use. The following ``dir`` command describes the folder structure. Use the Add_concepts.txt template to let us know if new concepts should be added or there should be any revision in the existing ones. "
   ]
  },
  {
   "cell_type": "code",
   "execution_count": 3,
   "id": "e3164d3d",
   "metadata": {},
   "outputs": [
    {
     "name": "stdout",
     "output_type": "stream",
     "text": [
      " Volume in drive C has no label.\n",
      " Volume Serial Number is 0C54-9785\n",
      "\n",
      " Directory of C:\\SWE_LOCAL\\Task32\\Lidar_ontology\\Example_coding_efficiency\\LidarOntologyConceptsRepo\\Extract-lidar-ontology-concepts\n",
      "\n",
      "08.04.2023  19:49    <DIR>          .\n",
      "08.04.2023  19:49    <DIR>          ..\n",
      "08.02.2023  14:14    <DIR>          .github\n",
      "06.04.2023  11:12                45 .gitignore\n",
      "04.04.2023  16:35    <DIR>          .ipynb_checkpoints\n",
      "08.04.2023  19:49            21.386 Extract_Data_From_Ontology.ipynb\n",
      "08.04.2023  19:51    <DIR>          fun\n",
      "08.02.2023  21:11             7.169 License.md\n",
      "12.12.2022  13:50           569.526 Lidar_ontology.nt\n",
      "04.04.2023  16:35    <DIR>          Ontology_Concepts\n",
      "08.04.2023  19:42             2.322 Ontology_yml.yml\n",
      "03.04.2023  20:31    <DIR>          Pictures_repo\n",
      "03.04.2023  20:31             7.438 README.md\n",
      "01.12.2022  19:47                10 tempCodeRunnerFile.ipynb\n",
      "12.12.2022  13:49    <DIR>          __pycache__\n",
      "               7 File(s)        607.896 bytes\n",
      "               8 Dir(s)  113.613.373.440 bytes free\n"
     ]
    }
   ],
   "source": [
    "!dir"
   ]
  },
  {
   "cell_type": "code",
   "execution_count": 4,
   "id": "e5cb3d39",
   "metadata": {},
   "outputs": [
    {
     "name": "stdout",
     "output_type": "stream",
     "text": [
      "{'@context': {'skos': 'http://www.w3.org/2004/02/skos/core#', 'isothes': 'http://purl.org/iso25964/skos-thes#', 'rdfs': 'http://www.w3.org/2000/01/rdf-schema#', 'owl': 'http://www.w3.org/2002/07/owl#', 'dct': 'http://purl.org/dc/terms/', 'dc11': 'http://purl.org/dc/elements/1.1/', 'uri': '@id', 'type': '@type', 'lang': '@language', 'value': '@value', 'graph': '@graph', 'label': 'rdfs:label', 'prefLabel': 'skos:prefLabel', 'altLabel': 'skos:altLabel', 'hiddenLabel': 'skos:hiddenLabel', 'broader': 'skos:broader', 'narrower': 'skos:narrower', 'related': 'skos:related', 'inScheme': 'skos:inScheme', 'exactMatch': 'skos:exactMatch', 'closeMatch': 'skos:closeMatch', 'broadMatch': 'skos:broadMatch', 'narrowMatch': 'skos:narrowMatch', 'relatedMatch': 'skos:relatedMatch'}, 'graph': [{'uri': 'http://vocab.ieawindtask32.org/wind-lidar-ontology/', 'type': 'skos:ConceptScheme', 'prefLabel': {'lang': 'en', 'value': 'IEA Wind Task 32 Wind Lidar Ontology'}}, {'uri': 'http://vocab.ieawindtask32.org/wind-lidar-ontology/AzimuthAngle', 'type': 'skos:Concept', 'http://vocab.ieawindtask32.org/wind-lidar-ontology/units': {'lang': 'en', 'value': 'degrees'}, 'altLabel': {'lang': 'en', 'value': 'Azimuth'}, 'broader': {'uri': 'http://vocab.ieawindtask32.org/wind-lidar-ontology/ScannerAzimuthPositioningServo'}, 'skos:definition': [{'lang': 'es', 'value': 'Angulo subtendido entre la línea de visión (line-of-sight o LOS, por sus siglas en inglés) del lidar y el vector de referencia del plano de referencia.'}, {'lang': 'it', 'value': \"L'angolo fra la direzione del fascio laser ed un vettore di riferimento in un piano di riferimento.\"}, {'lang': 'en', 'value': 'The angle between the line of sight of the lidar and a reference vector on the reference coordinate system.'}, {'lang': 'cn', 'value': '激光雷达的视线与基准平面上的参考向量之间的夹角。'}], 'skos:editorialNote': [{'lang': 'it', 'value': \"Il vettore di riferimento dell'angolo di azimith è spesso quello che indica il nord geografico. Un qualsiasi altro vettore, in realtà, potrebbe analogamente servire allo scopo.\"}, {'lang': 'es', 'value': 'El vector de referencia desde el que se define el ángulo azimut es a menudo el eje de coordenadas correspondiente al norte geográfico, pero cualquier otra definición es válida siempre y cuando la definición del sistema de coordenadas sea consistente.'}, {'lang': 'en', 'value': 'The reference vector from which the azimuth is defined is often true north, but could be some other defined vector.'}], 'inScheme': {'uri': 'http://vocab.ieawindtask32.org/wind-lidar-ontology/'}, 'prefLabel': [{'lang': 'it', 'value': 'Azimut'}, {'lang': 'es', 'value': 'Azimut'}, {'lang': 'en', 'value': 'Azimuth angle'}, {'lang': 'cn', 'value': '方位角'}]}, {'uri': 'http://vocab.ieawindtask32.org/wind-lidar-ontology/ScannerAzimuthPositioningServo', 'type': 'skos:Concept', 'narrower': {'uri': 'http://vocab.ieawindtask32.org/wind-lidar-ontology/AzimuthAngle'}, 'prefLabel': [{'lang': 'cn', 'value': '扫描器方位定位伺服'}, {'lang': 'es', 'value': 'Servomotor de posicionamiento azimut del escáner'}, {'lang': 'it', 'value': 'Servomotore per la scansione nella direzione azimutale'}, {'lang': 'en', 'value': 'Scanner azimuth positioning servo'}]}]}\n"
     ]
    }
   ],
   "source": [
    "# Open the file that users download from (https://data.windenergy.dtu.dk/ontologies/view/ontolidar/en/)\n",
    "with open(r'.\\Ontology_Concepts\\Azimuth', encoding='utf-8') as f:\n",
    "    d = json.load(f)\n",
    "\n",
    "print(d)"
   ]
  },
  {
   "cell_type": "markdown",
   "id": "fd30fc89",
   "metadata": {},
   "source": [
    "Let's have a quick look to the data. The json file is arranged in a key: value structure such that these can be extracted using the methods shown below"
   ]
  },
  {
   "cell_type": "markdown",
   "id": "b27e7533",
   "metadata": {},
   "source": [
    "## Extract data\n",
    "\n",
    "Within the json structure, the most important elements are arranged under graph.index_inScheme. The keys in this dict, can be accessed using the following scripts. In the subsequent sections, we will use the ``skos:definition``, ``prefLabel`` and ``altLabel`` labels only. However, the user is able to extract other elements by replacing the label keys (``m``)"
   ]
  },
  {
   "cell_type": "code",
   "execution_count": 5,
   "id": "a7b1023b",
   "metadata": {},
   "outputs": [
    {
     "name": "stdout",
     "output_type": "stream",
     "text": [
      "dict_keys(['uri', 'type', 'http://vocab.ieawindtask32.org/wind-lidar-ontology/units', 'altLabel', 'broader', 'skos:definition', 'skos:editorialNote', 'inScheme', 'prefLabel'])\n"
     ]
    }
   ],
   "source": [
    "# Find the index to the correct prefLabel    \n",
    "index_inScheme=1\n",
    "m=d['graph'][index_inScheme].keys()\n",
    "while 'inScheme' not in m:\n",
    "    index_inScheme+=1\n",
    "    m=d['graph'][index_inScheme].keys()\n",
    "print(m)"
   ]
  },
  {
   "cell_type": "markdown",
   "id": "b425b04a",
   "metadata": {},
   "source": [
    "### Get definition of the lidar concept provided by the lidar ontology"
   ]
  },
  {
   "cell_type": "code",
   "execution_count": 6,
   "id": "253c7008",
   "metadata": {},
   "outputs": [
    {
     "name": "stdout",
     "output_type": "stream",
     "text": [
      "Definition: The angle between the line of sight of the lidar and a reference vector on the reference coordinate system.\n"
     ]
    }
   ],
   "source": [
    "#Getting definition of the concept\n",
    "from fun.getLabel import getLabel\n",
    "path = r'./Ontology_Concepts/Azimuth'\n",
    "Alternative_Label = getLabel(path, key = \"altLabel\", lang='en', index_inScheme=1)\n",
    "\n",
    "# get individual key value pairs depending on the key requested\n",
    "Definition        = getLabel(path, key=\"skos:definition\", lang='en', index_inScheme=1)\n",
    "Preferred_Label   = getLabel(path, key=\"prefLabel\", lang='en', index_inScheme=1)\n",
    "Alternative_Label = getLabel(path, key = \"altLabel\", lang='en', index_inScheme=1)\n",
    "\n",
    "#Save in a new dictionary\n",
    "Lidar_Dictionary['Definition']=Definition\n",
    "Lidar_Dictionary['Preferred Label']=Preferred_Label\n",
    "Lidar_Dictionary['Alternative Label']=Alternative_Label\n",
    "print('Definition: '+Definition)\n"
   ]
  },
  {
   "cell_type": "markdown",
   "id": "00f89025",
   "metadata": {},
   "source": [
    "### Get the preferred label of the lidar concept provided by the lidar ontology"
   ]
  },
  {
   "cell_type": "code",
   "execution_count": 7,
   "id": "0a0e244b",
   "metadata": {},
   "outputs": [
    {
     "name": "stdout",
     "output_type": "stream",
     "text": [
      "Preferred label: Azimuth angle\n"
     ]
    }
   ],
   "source": [
    "# Getting preferred label of the concept\n",
    "for ind_1 in range(len(d['graph'][index_inScheme]['prefLabel'])):\n",
    "    dict0=d['graph'][index_inScheme]['prefLabel'][ind_1]\n",
    "\n",
    "    if SelIdiom=='English' and ('lang','en') in dict0.items():\n",
    "        Preferred_Label = list(dict0.values())[1]\n",
    "            \n",
    "    elif SelIdiom=='Spanish' and ('lang','es') in dict0.items():\n",
    "        Preferred_Label = list(dict0.values())[1]\n",
    "           \n",
    "    elif SelIdiom=='Chinesse' and ('lang','cn') in dict0.items():\n",
    "        Preferred_Label = list(dict0.values())[1]\n",
    "    \n",
    "    elif SelIdiom=='Italian' and ('lang','it') in dict0.items():\n",
    "        Preferred_Label = list(dict0.values())[1]\n",
    "\n",
    "#Save in a new dictionary\n",
    "Lidar_Dictionary['Preferred Label']=Preferred_Label\n",
    "print('Preferred label: '+Preferred_Label)"
   ]
  },
  {
   "cell_type": "markdown",
   "id": "d538ae8f",
   "metadata": {},
   "source": [
    "### Get the alternative label of the lidar concept provided by the lidar ontology"
   ]
  },
  {
   "cell_type": "code",
   "execution_count": 8,
   "id": "a5dba020",
   "metadata": {},
   "outputs": [
    {
     "name": "stdout",
     "output_type": "stream",
     "text": [
      "Alternative label: Azimuth\n"
     ]
    }
   ],
   "source": [
    "# Getting alternative label of the concept\n",
    "if 'altLabel' in d['graph'][index_inScheme].keys():\n",
    "     Alternative_Label = d['graph'][index_inScheme]['altLabel']['value']\n",
    "else:\n",
    "    print('No alternative label available')\n",
    "    \n",
    "#Save in a new dictionary\n",
    "Lidar_Dictionary['Alternative Label']=Alternative_Label\n",
    "print('Alternative label: '+Alternative_Label)\n",
    "#d['graph'][index_inScheme]['altLabel']"
   ]
  },
  {
   "cell_type": "markdown",
   "id": "b973caec",
   "metadata": {},
   "source": [
    "### Update user's lidar simulator template with data from ontology"
   ]
  },
  {
   "cell_type": "markdown",
   "id": "c1e88e2b",
   "metadata": {},
   "source": [
    "__1)__ Read our lidar simulator inputs' template. In our case it is called `Ontology_yml.yml`"
   ]
  },
  {
   "cell_type": "code",
   "execution_count": 9,
   "id": "efec6079",
   "metadata": {},
   "outputs": [],
   "source": [
    "Lidar_inputs='./Ontology_yml.yml'"
   ]
  },
  {
   "cell_type": "code",
   "execution_count": 10,
   "id": "4c33b813",
   "metadata": {},
   "outputs": [
    {
     "data": {
      "text/plain": [
       "'./Ontology_yml.yml'"
      ]
     },
     "execution_count": 10,
     "metadata": {},
     "output_type": "execute_result"
    }
   ],
   "source": [
    "Lidar_inputs"
   ]
  },
  {
   "cell_type": "markdown",
   "id": "5d818cde",
   "metadata": {},
   "source": [
    "__2)__ The output is a python dictionary. In our template `Ontology_yml.yml`, the concept `Azimuth angle` is nested under `Components`-->`Scanner module`-->`Azimuth angle`. The variable `nestedfields` contains a list of keys to reach the concept we want to edit."
   ]
  },
  {
   "cell_type": "code",
   "execution_count": 11,
   "id": "a2679887",
   "metadata": {},
   "outputs": [],
   "source": [
    "nestedfields  = [['Components'],['Scanner module'],['Azimuth angle']]"
   ]
  },
  {
   "cell_type": "markdown",
   "id": "137f1bb0",
   "metadata": {},
   "source": [
    "__3)__ From the dictionary where we stored the ontology concepts, `Lidar_Dictionary`, we captured the concept fields we want to edit. The variable `fields2change` contains the keys of the ontology concept fields we want to edit."
   ]
  },
  {
   "cell_type": "code",
   "execution_count": 12,
   "id": "531af356",
   "metadata": {},
   "outputs": [],
   "source": [
    "fields2change=list(Lidar_Dictionary.keys())"
   ]
  },
  {
   "cell_type": "markdown",
   "id": "a93af75d",
   "metadata": {},
   "source": [
    "__4)__ The function `edit_yaml_from_ontology` reads the user's lidar input template, finds the concept and the fields we aim to edit and saves the updated yaml file."
   ]
  },
  {
   "cell_type": "code",
   "execution_count": null,
   "id": "3963f74b",
   "metadata": {},
   "outputs": [
    {
     "name": "stdout",
     "output_type": "stream",
     "text": [
      "> \u001b[1;32mc:\\swe_local\\task32\\lidar_ontology\\example_coding_efficiency\\lidarontologyconceptsrepo\\extract-lidar-ontology-concepts\\fun\\edit_yaml_from_ontology.py\u001b[0m(10)\u001b[0;36medit_yaml_from_ontology\u001b[1;34m()\u001b[0m\n",
      "\u001b[1;32m      8 \u001b[1;33m    \u001b[0mpdb\u001b[0m\u001b[1;33m.\u001b[0m\u001b[0mset_trace\u001b[0m\u001b[1;33m(\u001b[0m\u001b[1;33m)\u001b[0m\u001b[1;33m\u001b[0m\u001b[1;33m\u001b[0m\u001b[0m\n",
      "\u001b[0m\u001b[1;32m      9 \u001b[1;33m    \u001b[1;31m# Use the package ruamel to edit the yaml file\u001b[0m\u001b[1;33m\u001b[0m\u001b[1;33m\u001b[0m\u001b[1;33m\u001b[0m\u001b[0m\n",
      "\u001b[0m\u001b[1;32m---> 10 \u001b[1;33m    \u001b[0mconfig\u001b[0m\u001b[1;33m,\u001b[0m \u001b[0mind\u001b[0m\u001b[1;33m,\u001b[0m \u001b[0mbsi\u001b[0m \u001b[1;33m=\u001b[0m \u001b[0mruamel\u001b[0m\u001b[1;33m.\u001b[0m\u001b[0myaml\u001b[0m\u001b[1;33m.\u001b[0m\u001b[0mutil\u001b[0m\u001b[1;33m.\u001b[0m\u001b[0mload_yaml_guess_indent\u001b[0m\u001b[1;33m(\u001b[0m\u001b[0mopen\u001b[0m\u001b[1;33m(\u001b[0m\u001b[0mfile_name\u001b[0m\u001b[1;33m)\u001b[0m\u001b[1;33m)\u001b[0m\u001b[1;33m\u001b[0m\u001b[1;33m\u001b[0m\u001b[0m\n",
      "\u001b[0m\u001b[1;32m     11 \u001b[1;33m    \u001b[1;31m# Dictionary level where fields we want to change are located\u001b[0m\u001b[1;33m\u001b[0m\u001b[1;33m\u001b[0m\u001b[1;33m\u001b[0m\u001b[0m\n",
      "\u001b[0m\u001b[1;32m     12 \u001b[1;33m    \u001b[0minstances\u001b[0m        \u001b[1;33m=\u001b[0m \u001b[0meval\u001b[0m\u001b[1;33m(\u001b[0m\u001b[0mstr_nestedfields\u001b[0m\u001b[1;33m)\u001b[0m\u001b[1;33m\u001b[0m\u001b[1;33m\u001b[0m\u001b[0m\n",
      "\u001b[0m\n",
      "ipdb> str_nestedfields\n",
      "\"config['Components']['Scanner module']['Azimuth angle']\"\n",
      "ipdb> config, ind, bsi = ruamel.yaml.util.load_yaml_guess_indent(open(file_name))\n",
      "ipdb> config\n",
      "ordereddict([('Main directory', '.'), ('Components', ordereddict([('Scanner module', ordereddict([('Definition', ''), ('Preferred Label', ''), ('Alternative Label', ''), ('Scanning sample rate', ordereddict([('Value', None), ('Units', None), ('Definition', ''), ('Preferred Label', ''), ('Alternative Label', '')])), ('Opening angle', ordereddict([('Value', None), ('Units', None), ('Definition', ''), ('Preferred Label', ''), ('Alternative Label', '')])), ('Azimuth angle', ordereddict([('Value', 91), ('Units', 'Degrees'), ('Definition', 'The angle between the line of sight of the lidar and a reference vector on the reference coordinate system.'), ('Preferred Label', 'Azimuth angle'), ('Alternative Label', 'Azimuth')])), ('Focus distance', ordereddict([('Value', None), ('Units', None), ('Definition', ''), ('Preferred Label', ''), ('Alternative Label', '')]))])), ('Photonics module', ordereddict([('Definition', ''), ('Preferred Label', ''), ('Alternative Label', ''), ('Optical amplifier', ordereddict([('Optical amplifier bandwidth', None), ('Optical amplifier noise figure', None), ('Optical amplifier gain', None), ('Power interval', None), ('Definition', ''), ('Preferred Label', ''), ('Alternative Label', '')])), ('Optical amplifier bandwidth', None)]))])), ('Device', ordereddict([('Manufacturer', ''), ('Model', ''), ('Technology', ''), ('Chassis number', ''), ('Definition', ''), ('Preferred Label', ''), ('Alternative Label', '')]))])\n",
      "ipdb> ind\n",
      "2\n",
      "ipdb> bsi\n",
      "ipdb> config.keys()\n",
      "<ruamel.yaml.comments.CommentedMapKeysView object at 0x00000245125B8A38>\n",
      "ipdb> list(config.keys())\n",
      "*** Error in argument: '(config.keys())'\n",
      "ipdb> type(config)\n",
      "<class 'ruamel.yaml.comments.CommentedMap'>\n",
      "ipdb> config[0]\n",
      "*** KeyError: 0\n",
      "ipdb> config['Components']\n",
      "ordereddict([('Scanner module', ordereddict([('Definition', ''), ('Preferred Label', ''), ('Alternative Label', ''), ('Scanning sample rate', ordereddict([('Value', None), ('Units', None), ('Definition', ''), ('Preferred Label', ''), ('Alternative Label', '')])), ('Opening angle', ordereddict([('Value', None), ('Units', None), ('Definition', ''), ('Preferred Label', ''), ('Alternative Label', '')])), ('Azimuth angle', ordereddict([('Value', 91), ('Units', 'Degrees'), ('Definition', 'The angle between the line of sight of the lidar and a reference vector on the reference coordinate system.'), ('Preferred Label', 'Azimuth angle'), ('Alternative Label', 'Azimuth')])), ('Focus distance', ordereddict([('Value', None), ('Units', None), ('Definition', ''), ('Preferred Label', ''), ('Alternative Label', '')]))])), ('Photonics module', ordereddict([('Definition', ''), ('Preferred Label', ''), ('Alternative Label', ''), ('Optical amplifier', ordereddict([('Optical amplifier bandwidth', None), ('Optical amplifier noise figure', None), ('Optical amplifier gain', None), ('Power interval', None), ('Definition', ''), ('Preferred Label', ''), ('Alternative Label', '')])), ('Optical amplifier bandwidth', None)]))])\n",
      "ipdb> print(config.keys())\n",
      "<ruamel.yaml.comments.CommentedMapKeysView object at 0x00000245125B8A38>\n",
      "ipdb> config.items()\n",
      "<ruamel.yaml.comments.CommentedMapItemsView object at 0x00000245125B8A38>\n",
      "ipdb> config.items\n",
      "<bound method CommentedMap.items of ordereddict([('Main directory', '.'), ('Components', ordereddict([('Scanner module', ordereddict([('Definition', ''), ('Preferred Label', ''), ('Alternative Label', ''), ('Scanning sample rate', ordereddict([('Value', None), ('Units', None), ('Definition', ''), ('Preferred Label', ''), ('Alternative Label', '')])), ('Opening angle', ordereddict([('Value', None), ('Units', None), ('Definition', ''), ('Preferred Label', ''), ('Alternative Label', '')])), ('Azimuth angle', ordereddict([('Value', 91), ('Units', 'Degrees'), ('Definition', 'The angle between the line of sight of the lidar and a reference vector on the reference coordinate system.'), ('Preferred Label', 'Azimuth angle'), ('Alternative Label', 'Azimuth')])), ('Focus distance', ordereddict([('Value', None), ('Units', None), ('Definition', ''), ('Preferred Label', ''), ('Alternative Label', '')]))])), ('Photonics module', ordereddict([('Definition', ''), ('Preferred Label', ''), ('Alternative Label', ''), ('Optical amplifier', ordereddict([('Optical amplifier bandwidth', None), ('Optical amplifier noise figure', None), ('Optical amplifier gain', None), ('Power interval', None), ('Definition', ''), ('Preferred Label', ''), ('Alternative Label', '')])), ('Optical amplifier bandwidth', None)]))])), ('Device', ordereddict([('Manufacturer', ''), ('Model', ''), ('Technology', ''), ('Chassis number', ''), ('Definition', ''), ('Preferred Label', ''), ('Alternative Label', '')]))])>\n",
      "ipdb> config.keys\n",
      "<bound method CommentedMap.keys of ordereddict([('Main directory', '.'), ('Components', ordereddict([('Scanner module', ordereddict([('Definition', ''), ('Preferred Label', ''), ('Alternative Label', ''), ('Scanning sample rate', ordereddict([('Value', None), ('Units', None), ('Definition', ''), ('Preferred Label', ''), ('Alternative Label', '')])), ('Opening angle', ordereddict([('Value', None), ('Units', None), ('Definition', ''), ('Preferred Label', ''), ('Alternative Label', '')])), ('Azimuth angle', ordereddict([('Value', 91), ('Units', 'Degrees'), ('Definition', 'The angle between the line of sight of the lidar and a reference vector on the reference coordinate system.'), ('Preferred Label', 'Azimuth angle'), ('Alternative Label', 'Azimuth')])), ('Focus distance', ordereddict([('Value', None), ('Units', None), ('Definition', ''), ('Preferred Label', ''), ('Alternative Label', '')]))])), ('Photonics module', ordereddict([('Definition', ''), ('Preferred Label', ''), ('Alternative Label', ''), ('Optical amplifier', ordereddict([('Optical amplifier bandwidth', None), ('Optical amplifier noise figure', None), ('Optical amplifier gain', None), ('Power interval', None), ('Definition', ''), ('Preferred Label', ''), ('Alternative Label', '')])), ('Optical amplifier bandwidth', None)]))])), ('Device', ordereddict([('Manufacturer', ''), ('Model', ''), ('Technology', ''), ('Chassis number', ''), ('Definition', ''), ('Preferred Label', ''), ('Alternative Label', '')]))])>\n"
     ]
    }
   ],
   "source": [
    "# 2) Read, edit and save edition on yaml file\n",
    "from fun.edit_yaml_from_ontology import edit_yaml_from_ontology\n",
    "edit_yaml_from_ontology(Lidar_inputs,Lidar_Dictionary,nestedfields,fields2change)"
   ]
  },
  {
   "cell_type": "markdown",
   "id": "5807a8d1",
   "metadata": {},
   "source": [
    "Now, if we want to see the edited data:"
   ]
  },
  {
   "cell_type": "code",
   "execution_count": null,
   "id": "worst-observer",
   "metadata": {},
   "outputs": [],
   "source": [
    "with open(Lidar_inputs, 'r') as fp2:\n",
    "    Edited_yaml = yaml.safe_load(fp2)\n",
    "print(Edited_yaml)"
   ]
  },
  {
   "cell_type": "markdown",
   "id": "0f9dfa9a",
   "metadata": {},
   "source": [
    "--> Following this process overwrites any information contained in the edited field of the original yaml template."
   ]
  },
  {
   "cell_type": "markdown",
   "id": "b071e808",
   "metadata": {},
   "source": [
    "### Save the alternative label as variable name and assign values to the downloaded concept\n",
    "\n",
    "User might want to use the downloaded data for coding purposes. If we download the concept `Azimuth angle` from the ontology and, for constistency to other codes, we want to use its `Alternative Label` for naming our variable `azimuth angle`, we can set our variable name to the `Alternative Label`  of the downloaded concept. We could also take the value from the yaml template and assign it to our variable, thus we can work locally with the renamed variable. Furthermore. this variable will be aligned with the ontology concept through the `Alternative Label`."
   ]
  },
  {
   "cell_type": "code",
   "execution_count": null,
   "id": "71af143c",
   "metadata": {},
   "outputs": [],
   "source": [
    "# Value of my variable and labelling with the alternative label in the ontology\n",
    "setattr(sys.modules[__name__],Lidar_Dictionary['Alternative Label'], Edited_yaml['Components']['Scanner module']['Azimuth angle']['Value'])\n",
    "print(Azimuth)"
   ]
  }
 ],
 "metadata": {
  "kernelspec": {
   "display_name": "Python 3",
   "language": "python",
   "name": "python3"
  },
  "language_info": {
   "codemirror_mode": {
    "name": "ipython",
    "version": 3
   },
   "file_extension": ".py",
   "mimetype": "text/x-python",
   "name": "python",
   "nbconvert_exporter": "python",
   "pygments_lexer": "ipython3",
   "version": "3.7.9"
  },
  "vscode": {
   "interpreter": {
    "hash": "ebb9ef074f1b645e55a315bd95863e3c93fc21be9d9cb40b64821b9a29fc31f1"
   }
  }
 },
 "nbformat": 4,
 "nbformat_minor": 5
}
