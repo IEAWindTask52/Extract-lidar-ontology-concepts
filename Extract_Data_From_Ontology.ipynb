{
 "cells": [
  {
   "cell_type": "markdown",
   "id": "06695f6a",
   "metadata": {},
   "source": [
    "## Connecting wind lidar - Working group (7): Lidar ontology - [IEA Task 52](https://iea-wind.org/task52/)\n",
    "\n",
    "This tutorial is part of the publication \" \"\n",
    "\n",
    "Authors: \n",
    "\n",
    "# Making lidar ontology concepts available and reusable\n",
    "\n",
    "This tutorial has been developed with the aim of showing a practical application of the lidar ontology e.g., for coding purposes. This particular application can be useful when sharing lidar-related code among researchers/organisations or to simplify the process of creating sharable input files for lidar simulators. \n",
    "The idea is to download a lidar ontology concept and use its ```alternative label``` as input for user's in-built workflow. Along with this idea, users can download also other lidar concept descriptors, like definition, editorial notes, etc.\n",
    "\n",
    "In this tutorial, we only extract three labels (Definition, preferred label and alternative label) from a concept (say, wind velocity). The labels and the concept are further explained as follows:\n",
    "Definition - A detailed explanation of a term used in the context of wind speed measurement lidars, especially for the wind energy applications\n",
    "preferred label - A standard name applied to a variable used frequently in lidar applications\n",
    "alternative label - An abbreviated name for the variable used frequently in the wind energy industry.\n",
    "concept - A defined variable in the lidar ontology"
   ]
  },
  {
   "cell_type": "markdown",
   "id": "f9c345e9",
   "metadata": {},
   "source": [
    "### Downloading a lidar concept\n",
    "**Step 0**. Visit https://data.windenergy.dtu.dk/ontologies/view/ontolidar/en/\n",
    "\n",
    "\n",
    "**Step 1**. Click on the ontology concept you are interested in downloading\n",
    "<div style=\"max-width:1000px;margin-left: 0px; margin-right:200px;margin-top: 20px; margin-bottom:50px;\">\n",
    "<img src=\"Pictures_repo/Fig1.png\" width=\"200px\"/>\n",
    "</div>\n",
    "\n",
    "\n",
    "\n",
    "**Step 2**. Scroll down and click on ```Download this concept``` --> download JSON-LD format\n",
    "User can download other formats, but will be incompatible with this tutorial.\n",
    "\n",
    "<div style=\"max-width:1000px;margin-left: 0px; margin-right:410px;margin-top: 20px; margin-bottom:50px;\">\n",
    "<img src=\"Pictures_repo/Fig2.png\" width=\"550px\"/>\n",
    "</div>\n",
    "\n",
    "\n",
    "**Step 3**. Save the concept \n",
    "\n",
    "<div style=\"max-width:400px;margin-left: 0px; margin-right:auto;margin-top: 20px; margin-bottom:50px;\">\n",
    "<img src=\"./Pictures_repo/Fig3.png\" width=\"500px\"/>\n",
    "</div>\n",
    "\n"
   ]
  },
  {
   "cell_type": "code",
   "execution_count": null,
   "id": "734f4cd9",
   "metadata": {},
   "outputs": [],
   "source": [
    "import json\n",
    "import sys\n",
    "#import yaml\n",
    "#import ruamel.yaml\n",
    "import pdb\n",
    "sys.path.append(\"C:/SWE_LOCAL/Task32/Lidar_ontology/Example_coding_efficiency/LidarOntologyConceptsRepo/Extract-lidar-ontology-concepts/fun/\") \n",
    "\n",
    "Preferred_Label,Alternative_Label,Definition='','',''\n",
    "Lidar_Dictionary = {}"
   ]
  },
  {
   "cell_type": "markdown",
   "id": "7688f7ec",
   "metadata": {},
   "source": [
    "Which language you want? The ontology is currently developed for `English`, `Italian`, ``Spanish`` and ``Chinese``. Input these to get the definition in your preferred language. \\\n",
    "Please get in touch with us, if you are interested in developing the ontology for your preferred language."
   ]
  },
  {
   "cell_type": "code",
   "execution_count": null,
   "id": "21a01504",
   "metadata": {},
   "outputs": [],
   "source": [
    "SelIdiom=input('Language? ') # \"English\", \"Spanish\", \"Chinese\" or \"Italian\"\n"
   ]
  },
  {
   "cell_type": "markdown",
   "id": "1e73ba6e",
   "metadata": {},
   "source": [
    "Save your downloaded json or rdf turtle files in the Ontology_Concepts folder. The script Extract_Data_From_Ontology.ipynb (this notebook) will guide you through the basics of lidar ontology use. The following ``dir`` command describes the folder structure. Use the Add_concepts.txt template to let us know if new concepts should be added or there should be any revision in the existing ones. "
   ]
  },
  {
   "cell_type": "code",
   "execution_count": null,
   "id": "e5cb3d39",
   "metadata": {},
   "outputs": [],
   "source": [
    "# Open the file that users download from (https://data.windenergy.dtu.dk/ontologies/view/ontolidar/en/)\n",
    "with open(r'.\\Ontology_Concepts\\VAD_da', encoding='utf-8') as f:\n",
    "    d = json.load(f)\n",
    "\n",
    "print(d)\n",
    "\n",
    "import pprint\n",
    "pp = pprint.PrettyPrinter(indent=4)\n",
    "pp.pprint(d)"
   ]
  },
  {
   "cell_type": "markdown",
   "id": "fd30fc89",
   "metadata": {},
   "source": [
    "Let's have a quick look to the data. The json file is arranged in a key: value structure such that these can be extracted using the methods shown below"
   ]
  },
  {
   "cell_type": "markdown",
   "id": "b27e7533",
   "metadata": {},
   "source": [
    "## Extract data\n",
    "\n",
    "Within the json structure, the most important elements are arranged under graph.index_inScheme. The keys in this dict, can be accessed using the following scripts. In the subsequent sections, we will use the ``skos:definition``, ``prefLabel`` and ``altLabel`` labels only. However, the user is able to extract other elements by replacing the label keys (``m``)"
   ]
  },
  {
   "cell_type": "code",
   "execution_count": null,
   "id": "a7b1023b",
   "metadata": {},
   "outputs": [],
   "source": [
    "# Find the index to the correct prefLabel    \n",
    "index_inScheme=1\n",
    "m=d['graph'][index_inScheme].keys()\n",
    "while 'inScheme' not in m:\n",
    "    index_inScheme+=1\n",
    "    m=d['graph'][index_inScheme].keys()\n",
    "print(m)"
   ]
  },
  {
   "cell_type": "markdown",
   "id": "b425b04a",
   "metadata": {},
   "source": [
    "### Get definition of the lidar concept provided by the lidar ontology"
   ]
  },
  {
   "cell_type": "code",
   "execution_count": null,
   "id": "253c7008",
   "metadata": {},
   "outputs": [],
   "source": [
    "#Getting definition of the concept\n",
    "from fun.getLabel import getLabel\n",
    "path = r'./Ontology_Concepts/VAD_da'\n",
    "Alternative_Label = getLabel(path, key = \"altLabel\", lang='en', index_inScheme=1)\n",
    "\n",
    "# get individual key value pairs depending on the key requested\n",
    "Definition        = getLabel(path, key=\"skos:definition\", lang='en', index_inScheme=1)\n",
    "Preferred_Label   = getLabel(path, key=\"prefLabel\", lang='en', index_inScheme=1)\n",
    "Alternative_Label = getLabel(path, key = \"altLabel\", lang='en', index_inScheme=1)\n",
    "\n",
    "#Save in a new dictionary\n",
    "Lidar_Dictionary['Definition']=Definition\n",
    "Lidar_Dictionary['Preferred Label']=Preferred_Label\n",
    "Lidar_Dictionary['Alternative Label']=Alternative_Label\n",
    "print('Definition: '+Definition)\n"
   ]
  },
  {
   "cell_type": "markdown",
   "id": "00f89025",
   "metadata": {},
   "source": [
    "### Get the preferred label of the lidar concept provided by the lidar ontology"
   ]
  },
  {
   "cell_type": "code",
   "execution_count": null,
   "id": "0a0e244b",
   "metadata": {},
   "outputs": [],
   "source": [
    "# Getting preferred label of the concept\n",
    "for ind_1 in range(len(d['graph'][index_inScheme]['prefLabel'])):\n",
    "    dict0=d['graph'][index_inScheme]['prefLabel'][ind_1]\n",
    "\n",
    "    if SelIdiom=='English' and ('lang','en') in dict0.items():\n",
    "        Preferred_Label = list(dict0.values())[1]\n",
    "            \n",
    "    elif SelIdiom=='Spanish' and ('lang','es') in dict0.items():\n",
    "        Preferred_Label = list(dict0.values())[1]\n",
    "           \n",
    "    elif SelIdiom=='Chinesse' and ('lang','cn') in dict0.items():\n",
    "        Preferred_Label = list(dict0.values())[1]\n",
    "    \n",
    "    elif SelIdiom=='Italian' and ('lang','it') in dict0.items():\n",
    "        Preferred_Label = list(dict0.values())[1]\n",
    "\n",
    "#Save in a new dictionary\n",
    "Lidar_Dictionary['Preferred Label']=Preferred_Label\n",
    "print('Preferred label: '+Preferred_Label)"
   ]
  },
  {
   "cell_type": "markdown",
   "id": "d538ae8f",
   "metadata": {},
   "source": [
    "### Get the alternative label of the lidar concept provided by the lidar ontology"
   ]
  },
  {
   "cell_type": "code",
   "execution_count": null,
   "id": "a5dba020",
   "metadata": {},
   "outputs": [],
   "source": [
    "# Getting alternative label of the concept\n",
    "if 'altLabel' in d['graph'][index_inScheme].keys():\n",
    "     Alternative_Label = d['graph'][index_inScheme]['altLabel']['value']\n",
    "else:\n",
    "    print('No alternative label available')\n",
    "    \n",
    "#Save in a new dictionary\n",
    "Lidar_Dictionary['Alternative Label']=Alternative_Label\n",
    "print('Alternative label: '+Alternative_Label)\n",
    "#d['graph'][index_inScheme]['altLabel']"
   ]
  },
  {
   "cell_type": "markdown",
   "id": "b973caec",
   "metadata": {},
   "source": [
    "### Update user's lidar simulator local template with data from ontology"
   ]
  },
  {
   "cell_type": "markdown",
   "id": "b071e808",
   "metadata": {},
   "source": [
    "Users may wish to use the downloaded data for coding purposes. The following code allows connecting downloaded ontology information to a local yaml resource, which could be used as input for a lidar simulator. A local variable will be aligned to the ontology concept through, for example, the `Alternative Label`."
   ]
  },
  {
   "cell_type": "markdown",
   "id": "c1e88e2b",
   "metadata": {},
   "source": [
    "__1)__ Select our lidar simulator local template. In our case it is called `Ontology_yml.yml`"
   ]
  },
  {
   "cell_type": "code",
   "execution_count": null,
   "id": "efec6079",
   "metadata": {},
   "outputs": [],
   "source": [
    "local_yaml = './Ontology_yml.yml'"
   ]
  },
  {
   "cell_type": "markdown",
   "id": "5d818cde",
   "metadata": {},
   "source": [
    "__2)__ Select the variable to be edited"
   ]
  },
  {
   "cell_type": "code",
   "execution_count": null,
   "id": "a2679887",
   "metadata": {},
   "outputs": [],
   "source": [
    "tag = 'Velocity azimuth display'"
   ]
  },
  {
   "cell_type": "markdown",
   "id": "137f1bb0",
   "metadata": {},
   "source": [
    "__3)__ Select the variable fields to be edited "
   ]
  },
  {
   "cell_type": "code",
   "execution_count": null,
   "id": "531af356",
   "metadata": {},
   "outputs": [],
   "source": [
    "fields2change = ['Definition','Alternative Label','Preferred Label']"
   ]
  },
  {
   "cell_type": "markdown",
   "id": "a93af75d",
   "metadata": {},
   "source": [
    "__4)__ The `edit_yaml_from_ontology.edit` function reads the user's lidar input template, finds and edits items and saves the updated yaml file. Gives priority to the information contained in the yaml file."
   ]
  },
  {
   "cell_type": "code",
   "execution_count": null,
   "id": "86525c89",
   "metadata": {},
   "outputs": [],
   "source": [
    "from fun.edit_yaml_from_ontology import edit\n",
    "edit(local_yaml,tag,fields2change,Lidar_Dictionary) "
   ]
  }
 ],
 "metadata": {
  "kernelspec": {
   "display_name": "Python 3",
   "language": "python",
   "name": "python3"
  },
  "language_info": {
   "codemirror_mode": {
    "name": "ipython",
    "version": 3
   },
   "file_extension": ".py",
   "mimetype": "text/x-python",
   "name": "python",
   "nbconvert_exporter": "python",
   "pygments_lexer": "ipython3",
   "version": "3.7.9"
  },
  "vscode": {
   "interpreter": {
    "hash": "ebb9ef074f1b645e55a315bd95863e3c93fc21be9d9cb40b64821b9a29fc31f1"
   }
  }
 },
 "nbformat": 4,
 "nbformat_minor": 5
}
