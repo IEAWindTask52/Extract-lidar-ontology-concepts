{
 "cells": [
  {
   "cell_type": "markdown",
   "id": "06695f6a",
   "metadata": {},
   "source": [
    "## Connecting wind lidar - Working group (7): Lidar ontology - [IEA Task 52](https://iea-wind.org/task52/)\n",
    "\n",
    "This tutorial is part of the publication \" \"\n",
    "\n",
    "Authors: \n",
    "\n",
    "# Making lidar ontology concepts available and reusable\n",
    "\n",
    "This tutorial has been developed with the aim of showing a practical application of the lidar ontology e.g., for coding purposes. This particular application can be useful when sharing lidar-related code among researchers/organisations or to simplify the process of creating sharable input files for lidar simulators. \n",
    "The idea is to download a lidar ontology concept and use its ```alternative label``` as input for user's in-built workflow. Along with this idea, users can download also other lidar concept descriptors, like definition, editorial notes, etc.\n",
    "\n",
    "In this tutorial, we only extract three labels (Definition, preferred label and alternative label) from a concept (say, wind velocity). The labels and the concept are further explained as follows:\n",
    "Definition - A detailed explanation of a term used in the context of wind speed measurement lidars, especially for the wind energy applications\n",
    "preferred label - A standard name applied to a variable used frequently in lidar applications\n",
    "alternative label - An abbreviated name for the variable used frequently in the wind energy industry.\n",
    "concept - A defined variable in the lidar ontology"
   ]
  },
  {
   "cell_type": "markdown",
   "id": "f9c345e9",
   "metadata": {},
   "source": [
    "### Downloading a lidar concept\n",
    "**Step 0**. Visit https://data.windenergy.dtu.dk/ontologies/view/ontolidar/en/\n",
    "\n",
    "\n",
    "**Step 1**. Click on the ontology concept you are interested in downloading\n",
    "<div style=\"max-width:1000px;margin-left: 0px; margin-right:200px;margin-top: 20px; margin-bottom:50px;\">\n",
    "<img src=\"Pictures_repo/Fig1.png\" width=\"200px\"/>\n",
    "</div>\n",
    "\n",
    "\n",
    "\n",
    "**Step 2**. Scroll down and click on ```Download this concept``` --> download JSON-LD format\n",
    "User can download other formats, but will be incompatible with this tutorial.\n",
    "\n",
    "<div style=\"max-width:1000px;margin-left: 0px; margin-right:410px;margin-top: 20px; margin-bottom:50px;\">\n",
    "<img src=\"Pictures_repo/Fig2.png\" width=\"550px\"/>\n",
    "</div>\n",
    "\n",
    "\n",
    "**Step 3**. Save the concept \n",
    "\n",
    "<div style=\"max-width:400px;margin-left: 0px; margin-right:auto;margin-top: 20px; margin-bottom:50px;\">\n",
    "<img src=\"./Pictures_repo/Fig3.png\" width=\"500px\"/>\n",
    "</div>\n",
    "\n"
   ]
  },
  {
   "cell_type": "code",
   "execution_count": 1,
   "id": "734f4cd9",
   "metadata": {},
   "outputs": [],
   "source": [
    "import json\n",
    "import sys\n",
    "#import yaml\n",
    "#import ruamel.yaml\n",
    "import pdb\n",
    "sys.path.append(\"C:/SWE_LOCAL/Task32/Lidar_ontology/Example_coding_efficiency/LidarOntologyConceptsRepo/Extract-lidar-ontology-concepts/fun/\") \n",
    "\n",
    "Preferred_Label,Alternative_Label,Definition='','',''\n",
    "Lidar_Dictionary = {}"
   ]
  },
  {
   "cell_type": "markdown",
   "id": "7688f7ec",
   "metadata": {},
   "source": [
    "Which language you want? The ontology is currently developed for `English`, `Italian`, ``Spanish`` and ``Chinese``. Input these to get the definition in your preferred language. \\\n",
    "Please get in touch with us, if you are interested in developing the ontology for your preferred language."
   ]
  },
  {
   "cell_type": "code",
   "execution_count": 2,
   "id": "21a01504",
   "metadata": {},
   "outputs": [
    {
     "name": "stdout",
     "output_type": "stream",
     "text": [
      "Language? sda\n"
     ]
    }
   ],
   "source": [
    "SelIdiom=input('Language? ') # \"English\", \"Spanish\", \"Chinese\" or \"Italian\"\n"
   ]
  },
  {
   "cell_type": "markdown",
   "id": "1e73ba6e",
   "metadata": {},
   "source": [
    "Save your downloaded json or rdf turtle files in the Ontology_Concepts folder. The script Extract_Data_From_Ontology.ipynb (this notebook) will guide you through the basics of lidar ontology use. The following ``dir`` command describes the folder structure. Use the Add_concepts.txt template to let us know if new concepts should be added or there should be any revision in the existing ones. "
   ]
  },
  {
   "cell_type": "code",
   "execution_count": 3,
   "id": "e3164d3d",
   "metadata": {},
   "outputs": [
    {
     "name": "stdout",
     "output_type": "stream",
     "text": [
      " Volume in drive C has no label.\n",
      " Volume Serial Number is 0C54-9785\n",
      "\n",
      " Directory of C:\\SWE_LOCAL\\Task32\\Lidar_ontology\\Example_coding_efficiency\\LidarOntologyConceptsRepo\\Extract-lidar-ontology-concepts\n",
      "\n",
      "03.07.2023  16:09    <DIR>          .\n",
      "03.07.2023  16:09    <DIR>          ..\n",
      "08.02.2023  14:14    <DIR>          .github\n",
      "23.05.2023  11:18               297 .gitignore\n",
      "23.05.2023  11:18    <DIR>          .ipynb_checkpoints\n",
      "12.06.2023  19:37    <DIR>          doc\n",
      "03.07.2023  16:09            28.351 Extract_Data_From_Ontology.ipynb\n",
      "23.05.2023  11:18    <DIR>          fun\n",
      "12.06.2023  13:17         4.944.311 IEA-Wind-Task52_OntologyGroup.pptx\n",
      "08.02.2023  21:11             7.169 License.md\n",
      "12.12.2022  13:50           569.526 Lidar_ontology.nt\n",
      "08.06.2023  12:31    <DIR>          Ontology_Concepts\n",
      "03.07.2023  16:08             2.474 Ontology_yml.yml\n",
      "03.04.2023  20:31    <DIR>          Pictures_repo\n",
      "08.06.2023  10:30             1.423 pull_request_template.md\n",
      "08.06.2023  10:30             8.030 README.md\n",
      "01.12.2022  19:47                10 tempCodeRunnerFile.ipynb\n",
      "12.12.2022  13:49    <DIR>          __pycache__\n",
      "               9 File(s)      5.561.591 bytes\n",
      "               9 Dir(s)  112.882.929.664 bytes free\n"
     ]
    }
   ],
   "source": [
    "!dir"
   ]
  },
  {
   "cell_type": "code",
   "execution_count": 4,
   "id": "e5cb3d39",
   "metadata": {},
   "outputs": [
    {
     "name": "stdout",
     "output_type": "stream",
     "text": [
      "{'@context': {'skos': 'http://www.w3.org/2004/02/skos/core#', 'isothes': 'http://purl.org/iso25964/skos-thes#', 'rdfs': 'http://www.w3.org/2000/01/rdf-schema#', 'owl': 'http://www.w3.org/2002/07/owl#', 'dct': 'http://purl.org/dc/terms/', 'dc11': 'http://purl.org/dc/elements/1.1/', 'uri': '@id', 'type': '@type', 'lang': '@language', 'value': '@value', 'graph': '@graph', 'label': 'rdfs:label', 'prefLabel': 'skos:prefLabel', 'altLabel': 'skos:altLabel', 'hiddenLabel': 'skos:hiddenLabel', 'broader': 'skos:broader', 'narrower': 'skos:narrower', 'related': 'skos:related', 'inScheme': 'skos:inScheme', 'exactMatch': 'skos:exactMatch', 'closeMatch': 'skos:closeMatch', 'broadMatch': 'skos:broadMatch', 'narrowMatch': 'skos:narrowMatch', 'relatedMatch': 'skos:relatedMatch'}, 'graph': [{'uri': 'http://vocab.ieawindtask32.org/wind-lidar-ontology/', 'type': 'skos:ConceptScheme', 'prefLabel': {'lang': 'en', 'value': 'IEA Wind Task 32 Wind Lidar Ontology'}}, {'uri': 'http://vocab.ieawindtask32.org/wind-lidar-ontology/AzimuthAngle', 'type': 'skos:Concept', 'http://vocab.ieawindtask32.org/wind-lidar-ontology/units': {'lang': 'en', 'value': 'degrees'}, 'altLabel': {'lang': 'en', 'value': 'Azimuth'}, 'broader': {'uri': 'http://vocab.ieawindtask32.org/wind-lidar-ontology/ScannerAzimuthPositioningServo'}, 'skos:definition': [{'lang': 'es', 'value': 'Angulo subtendido entre la línea de visión (line-of-sight o LOS, por sus siglas en inglés) del lidar y el vector de referencia del plano de referencia.'}, {'lang': 'it', 'value': \"L'angolo fra la direzione del fascio laser ed un vettore di riferimento in un piano di riferimento.\"}, {'lang': 'en', 'value': 'The angle between the line of sight of the lidar and a reference vector on the reference coordinate system.'}, {'lang': 'cn', 'value': '激光雷达的视线与基准平面上的参考向量之间的夹角。'}], 'skos:editorialNote': [{'lang': 'it', 'value': \"Il vettore di riferimento dell'angolo di azimith è spesso quello che indica il nord geografico. Un qualsiasi altro vettore, in realtà, potrebbe analogamente servire allo scopo.\"}, {'lang': 'es', 'value': 'El vector de referencia desde el que se define el ángulo azimut es a menudo el eje de coordenadas correspondiente al norte geográfico, pero cualquier otra definición es válida siempre y cuando la definición del sistema de coordenadas sea consistente.'}, {'lang': 'en', 'value': 'The reference vector from which the azimuth is defined is often true north, but could be some other defined vector.'}], 'inScheme': {'uri': 'http://vocab.ieawindtask32.org/wind-lidar-ontology/'}, 'prefLabel': [{'lang': 'it', 'value': 'Azimut'}, {'lang': 'es', 'value': 'Azimut'}, {'lang': 'en', 'value': 'Azimuth angle'}, {'lang': 'cn', 'value': '方位角'}]}, {'uri': 'http://vocab.ieawindtask32.org/wind-lidar-ontology/ScannerAzimuthPositioningServo', 'type': 'skos:Concept', 'narrower': {'uri': 'http://vocab.ieawindtask32.org/wind-lidar-ontology/AzimuthAngle'}, 'prefLabel': [{'lang': 'cn', 'value': '扫描器方位定位伺服'}, {'lang': 'es', 'value': 'Servomotor de posicionamiento azimut del escáner'}, {'lang': 'it', 'value': 'Servomotore per la scansione nella direzione azimutale'}, {'lang': 'en', 'value': 'Scanner azimuth positioning servo'}]}]}\n",
      "{   '@context': {   'altLabel': 'skos:altLabel',\n",
      "                    'broadMatch': 'skos:broadMatch',\n",
      "                    'broader': 'skos:broader',\n",
      "                    'closeMatch': 'skos:closeMatch',\n",
      "                    'dc11': 'http://purl.org/dc/elements/1.1/',\n",
      "                    'dct': 'http://purl.org/dc/terms/',\n",
      "                    'exactMatch': 'skos:exactMatch',\n",
      "                    'graph': '@graph',\n",
      "                    'hiddenLabel': 'skos:hiddenLabel',\n",
      "                    'inScheme': 'skos:inScheme',\n",
      "                    'isothes': 'http://purl.org/iso25964/skos-thes#',\n",
      "                    'label': 'rdfs:label',\n",
      "                    'lang': '@language',\n",
      "                    'narrowMatch': 'skos:narrowMatch',\n",
      "                    'narrower': 'skos:narrower',\n",
      "                    'owl': 'http://www.w3.org/2002/07/owl#',\n",
      "                    'prefLabel': 'skos:prefLabel',\n",
      "                    'rdfs': 'http://www.w3.org/2000/01/rdf-schema#',\n",
      "                    'related': 'skos:related',\n",
      "                    'relatedMatch': 'skos:relatedMatch',\n",
      "                    'skos': 'http://www.w3.org/2004/02/skos/core#',\n",
      "                    'type': '@type',\n",
      "                    'uri': '@id',\n",
      "                    'value': '@value'},\n",
      "    'graph': [   {   'prefLabel': {   'lang': 'en',\n",
      "                                      'value': 'IEA Wind Task 32 Wind Lidar '\n",
      "                                               'Ontology'},\n",
      "                     'type': 'skos:ConceptScheme',\n",
      "                     'uri': 'http://vocab.ieawindtask32.org/wind-lidar-ontology/'},\n",
      "                 {   'altLabel': {'lang': 'en', 'value': 'Azimuth'},\n",
      "                     'broader': {   'uri': 'http://vocab.ieawindtask32.org/wind-lidar-ontology/ScannerAzimuthPositioningServo'},\n",
      "                     'http://vocab.ieawindtask32.org/wind-lidar-ontology/units': {   'lang': 'en',\n",
      "                                                                                     'value': 'degrees'},\n",
      "                     'inScheme': {   'uri': 'http://vocab.ieawindtask32.org/wind-lidar-ontology/'},\n",
      "                     'prefLabel': [   {'lang': 'it', 'value': 'Azimut'},\n",
      "                                      {'lang': 'es', 'value': 'Azimut'},\n",
      "                                      {'lang': 'en', 'value': 'Azimuth angle'},\n",
      "                                      {'lang': 'cn', 'value': '方位角'}],\n",
      "                     'skos:definition': [   {   'lang': 'es',\n",
      "                                                'value': 'Angulo subtendido '\n",
      "                                                         'entre la línea de '\n",
      "                                                         'visión '\n",
      "                                                         '(line-of-sight o '\n",
      "                                                         'LOS, por sus siglas '\n",
      "                                                         'en inglés) del lidar '\n",
      "                                                         'y el vector de '\n",
      "                                                         'referencia del plano '\n",
      "                                                         'de referencia.'},\n",
      "                                            {   'lang': 'it',\n",
      "                                                'value': \"L'angolo fra la \"\n",
      "                                                         'direzione del fascio '\n",
      "                                                         'laser ed un vettore '\n",
      "                                                         'di riferimento in un '\n",
      "                                                         'piano di '\n",
      "                                                         'riferimento.'},\n",
      "                                            {   'lang': 'en',\n",
      "                                                'value': 'The angle between '\n",
      "                                                         'the line of sight of '\n",
      "                                                         'the lidar and a '\n",
      "                                                         'reference vector on '\n",
      "                                                         'the reference '\n",
      "                                                         'coordinate system.'},\n",
      "                                            {   'lang': 'cn',\n",
      "                                                'value': '激光雷达的视线与基准平面上的参考向量之间的夹角。'}],\n",
      "                     'skos:editorialNote': [   {   'lang': 'it',\n",
      "                                                   'value': 'Il vettore di '\n",
      "                                                            'riferimento '\n",
      "                                                            \"dell'angolo di \"\n",
      "                                                            'azimith è spesso '\n",
      "                                                            'quello che indica '\n",
      "                                                            'il nord '\n",
      "                                                            'geografico. Un '\n",
      "                                                            'qualsiasi altro '\n",
      "                                                            'vettore, in '\n",
      "                                                            'realtà, potrebbe '\n",
      "                                                            'analogamente '\n",
      "                                                            'servire allo '\n",
      "                                                            'scopo.'},\n",
      "                                               {   'lang': 'es',\n",
      "                                                   'value': 'El vector de '\n",
      "                                                            'referencia desde '\n",
      "                                                            'el que se define '\n",
      "                                                            'el ángulo azimut '\n",
      "                                                            'es a menudo el '\n",
      "                                                            'eje de '\n",
      "                                                            'coordenadas '\n",
      "                                                            'correspondiente '\n",
      "                                                            'al norte '\n",
      "                                                            'geográfico, pero '\n",
      "                                                            'cualquier otra '\n",
      "                                                            'definición es '\n",
      "                                                            'válida siempre y '\n",
      "                                                            'cuando la '\n",
      "                                                            'definición del '\n",
      "                                                            'sistema de '\n",
      "                                                            'coordenadas sea '\n",
      "                                                            'consistente.'},\n",
      "                                               {   'lang': 'en',\n",
      "                                                   'value': 'The reference '\n",
      "                                                            'vector from which '\n",
      "                                                            'the azimuth is '\n",
      "                                                            'defined is often '\n",
      "                                                            'true north, but '\n",
      "                                                            'could be some '\n",
      "                                                            'other defined '\n",
      "                                                            'vector.'}],\n",
      "                     'type': 'skos:Concept',\n",
      "                     'uri': 'http://vocab.ieawindtask32.org/wind-lidar-ontology/AzimuthAngle'},\n",
      "                 {   'narrower': {   'uri': 'http://vocab.ieawindtask32.org/wind-lidar-ontology/AzimuthAngle'},\n",
      "                     'prefLabel': [   {'lang': 'cn', 'value': '扫描器方位定位伺服'},\n",
      "                                      {   'lang': 'es',\n",
      "                                          'value': 'Servomotor de '\n",
      "                                                   'posicionamiento azimut del '\n",
      "                                                   'escáner'},\n",
      "                                      {   'lang': 'it',\n",
      "                                          'value': 'Servomotore per la '\n",
      "                                                   'scansione nella direzione '\n",
      "                                                   'azimutale'},\n",
      "                                      {   'lang': 'en',\n",
      "                                          'value': 'Scanner azimuth '\n",
      "                                                   'positioning servo'}],\n",
      "                     'type': 'skos:Concept',\n",
      "                     'uri': 'http://vocab.ieawindtask32.org/wind-lidar-ontology/ScannerAzimuthPositioningServo'}]}\n"
     ]
    }
   ],
   "source": [
    "# Open the file that users download from (https://data.windenergy.dtu.dk/ontologies/view/ontolidar/en/)\n",
    "with open(r'.\\Ontology_Concepts\\Azimuth', encoding='utf-8') as f:\n",
    "    d = json.load(f)\n",
    "\n",
    "print(d)\n",
    "\n",
    "import pprint\n",
    "pp = pprint.PrettyPrinter(indent=4)\n",
    "pp.pprint(d)"
   ]
  },
  {
   "cell_type": "markdown",
   "id": "fd30fc89",
   "metadata": {},
   "source": [
    "Let's have a quick look to the data. The json file is arranged in a key: value structure such that these can be extracted using the methods shown below"
   ]
  },
  {
   "cell_type": "markdown",
   "id": "b27e7533",
   "metadata": {},
   "source": [
    "## Extract data\n",
    "\n",
    "Within the json structure, the most important elements are arranged under graph.index_inScheme. The keys in this dict, can be accessed using the following scripts. In the subsequent sections, we will use the ``skos:definition``, ``prefLabel`` and ``altLabel`` labels only. However, the user is able to extract other elements by replacing the label keys (``m``)"
   ]
  },
  {
   "cell_type": "code",
   "execution_count": 5,
   "id": "a7b1023b",
   "metadata": {},
   "outputs": [
    {
     "name": "stdout",
     "output_type": "stream",
     "text": [
      "dict_keys(['uri', 'type', 'http://vocab.ieawindtask32.org/wind-lidar-ontology/units', 'altLabel', 'broader', 'skos:definition', 'skos:editorialNote', 'inScheme', 'prefLabel'])\n"
     ]
    }
   ],
   "source": [
    "# Find the index to the correct prefLabel    \n",
    "index_inScheme=1\n",
    "m=d['graph'][index_inScheme].keys()\n",
    "while 'inScheme' not in m:\n",
    "    index_inScheme+=1\n",
    "    m=d['graph'][index_inScheme].keys()\n",
    "print(m)"
   ]
  },
  {
   "cell_type": "markdown",
   "id": "b425b04a",
   "metadata": {},
   "source": [
    "### Get definition of the lidar concept provided by the lidar ontology"
   ]
  },
  {
   "cell_type": "code",
   "execution_count": 6,
   "id": "253c7008",
   "metadata": {},
   "outputs": [
    {
     "name": "stdout",
     "output_type": "stream",
     "text": [
      "Definition: The angle between the line of sight of the lidar and a reference vector on the reference coordinate system.\n"
     ]
    }
   ],
   "source": [
    "#Getting definition of the concept\n",
    "from fun.getLabel import getLabel\n",
    "path = r'./Ontology_Concepts/Azimuth'\n",
    "Alternative_Label = getLabel(path, key = \"altLabel\", lang='en', index_inScheme=1)\n",
    "\n",
    "# get individual key value pairs depending on the key requested\n",
    "Definition        = getLabel(path, key=\"skos:definition\", lang='en', index_inScheme=1)\n",
    "Preferred_Label   = getLabel(path, key=\"prefLabel\", lang='en', index_inScheme=1)\n",
    "Alternative_Label = getLabel(path, key = \"altLabel\", lang='en', index_inScheme=1)\n",
    "\n",
    "#Save in a new dictionary\n",
    "Lidar_Dictionary['Definition']=Definition\n",
    "Lidar_Dictionary['Preferred Label']=Preferred_Label\n",
    "Lidar_Dictionary['Alternative Label']=Alternative_Label\n",
    "print('Definition: '+Definition)\n"
   ]
  },
  {
   "cell_type": "markdown",
   "id": "00f89025",
   "metadata": {},
   "source": [
    "### Get the preferred label of the lidar concept provided by the lidar ontology"
   ]
  },
  {
   "cell_type": "code",
   "execution_count": 7,
   "id": "0a0e244b",
   "metadata": {},
   "outputs": [
    {
     "name": "stdout",
     "output_type": "stream",
     "text": [
      "Preferred label: Azimuth angle\n"
     ]
    }
   ],
   "source": [
    "# Getting preferred label of the concept\n",
    "for ind_1 in range(len(d['graph'][index_inScheme]['prefLabel'])):\n",
    "    dict0=d['graph'][index_inScheme]['prefLabel'][ind_1]\n",
    "\n",
    "    if SelIdiom=='English' and ('lang','en') in dict0.items():\n",
    "        Preferred_Label = list(dict0.values())[1]\n",
    "            \n",
    "    elif SelIdiom=='Spanish' and ('lang','es') in dict0.items():\n",
    "        Preferred_Label = list(dict0.values())[1]\n",
    "           \n",
    "    elif SelIdiom=='Chinesse' and ('lang','cn') in dict0.items():\n",
    "        Preferred_Label = list(dict0.values())[1]\n",
    "    \n",
    "    elif SelIdiom=='Italian' and ('lang','it') in dict0.items():\n",
    "        Preferred_Label = list(dict0.values())[1]\n",
    "\n",
    "#Save in a new dictionary\n",
    "Lidar_Dictionary['Preferred Label']=Preferred_Label\n",
    "print('Preferred label: '+Preferred_Label)"
   ]
  },
  {
   "cell_type": "markdown",
   "id": "d538ae8f",
   "metadata": {},
   "source": [
    "### Get the alternative label of the lidar concept provided by the lidar ontology"
   ]
  },
  {
   "cell_type": "code",
   "execution_count": 8,
   "id": "a5dba020",
   "metadata": {},
   "outputs": [
    {
     "name": "stdout",
     "output_type": "stream",
     "text": [
      "Alternative label: Azimuth\n"
     ]
    }
   ],
   "source": [
    "# Getting alternative label of the concept\n",
    "if 'altLabel' in d['graph'][index_inScheme].keys():\n",
    "     Alternative_Label = d['graph'][index_inScheme]['altLabel']['value']\n",
    "else:\n",
    "    print('No alternative label available')\n",
    "    \n",
    "#Save in a new dictionary\n",
    "Lidar_Dictionary['Alternative Label']=Alternative_Label\n",
    "print('Alternative label: '+Alternative_Label)\n",
    "#d['graph'][index_inScheme]['altLabel']"
   ]
  },
  {
   "cell_type": "markdown",
   "id": "b973caec",
   "metadata": {},
   "source": [
    "### Update user's lidar simulator local template with data from ontology"
   ]
  },
  {
   "cell_type": "markdown",
   "id": "b071e808",
   "metadata": {},
   "source": [
    "Users may wish to use the downloaded data for coding purposes. The following code allows connecting downloaded ontology information to a local yaml resource, which could be used as input for a lidar simulator. A local variable will be aligned to the ontology concept through, for example, the `Alternative Label`."
   ]
  },
  {
   "cell_type": "markdown",
   "id": "c1e88e2b",
   "metadata": {},
   "source": [
    "__1)__ Select our lidar simulator local template. In our case it is called `Ontology_yml.yml`"
   ]
  },
  {
   "cell_type": "code",
   "execution_count": 9,
   "id": "efec6079",
   "metadata": {},
   "outputs": [],
   "source": [
    "local_yaml = './Ontology_yml.yml'"
   ]
  },
  {
   "cell_type": "markdown",
   "id": "5d818cde",
   "metadata": {},
   "source": [
    "__2)__ Select the variable to be edited"
   ]
  },
  {
   "cell_type": "code",
   "execution_count": 10,
   "id": "a2679887",
   "metadata": {},
   "outputs": [],
   "source": [
    "tag = 'Azimuth angle'"
   ]
  },
  {
   "cell_type": "markdown",
   "id": "137f1bb0",
   "metadata": {},
   "source": [
    "__3)__ Select the variable fields to be edited "
   ]
  },
  {
   "cell_type": "code",
   "execution_count": 11,
   "id": "531af356",
   "metadata": {},
   "outputs": [],
   "source": [
    "fields2change = ['Definition','Alternative Label','Preferred Label']"
   ]
  },
  {
   "cell_type": "markdown",
   "id": "a93af75d",
   "metadata": {},
   "source": [
    "__4)__ The `edit_yaml_from_ontology.edit` function reads the user's lidar input template, finds and edits items and saves the updated yaml file. Gives priority to the information contained in the yaml file."
   ]
  },
  {
   "cell_type": "code",
   "execution_count": 12,
   "id": "86525c89",
   "metadata": {},
   "outputs": [],
   "source": [
    "from fun.edit_yaml_from_ontology import edit\n",
    "edit(local_yaml,tag,fields2change,Lidar_Dictionary) "
   ]
  }
 ],
 "metadata": {
  "kernelspec": {
   "display_name": "Python 3",
   "language": "python",
   "name": "python3"
  },
  "language_info": {
   "codemirror_mode": {
    "name": "ipython",
    "version": 3
   },
   "file_extension": ".py",
   "mimetype": "text/x-python",
   "name": "python",
   "nbconvert_exporter": "python",
   "pygments_lexer": "ipython3",
   "version": "3.7.9"
  },
  "vscode": {
   "interpreter": {
    "hash": "ebb9ef074f1b645e55a315bd95863e3c93fc21be9d9cb40b64821b9a29fc31f1"
   }
  }
 },
 "nbformat": 4,
 "nbformat_minor": 5
}
