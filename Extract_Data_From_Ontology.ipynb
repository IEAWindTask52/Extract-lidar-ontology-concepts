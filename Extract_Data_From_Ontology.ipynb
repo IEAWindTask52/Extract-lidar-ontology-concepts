{
 "cells": [
  {
   "cell_type": "markdown",
   "id": "06695f6a",
   "metadata": {},
   "source": [
    "## Connecting wind lidar - Working group (7): Lidar ontology - [IEA Task 52](https://iea-wind.org/task52/)\n",
    "\n",
    "This tutorial is part of the publication \" \"\n",
    "\n",
    "Authors: \n",
    "\n",
    "# Making lidar ontology concepts available and reusable\n",
    "\n",
    "This tutorial has been developed with the aim of showing a practical application of the lidar ontology e.g., for coding purposes. This particular application can be useful when sharing lidar-related code among researchers/organisations or to simplify the process of creating input files for lidar simulators. \n",
    "The idea is to download a lidar ontology concept and use its ```alternative label``` as input for user's in-built workflow. Along with this idea, users can download also other lidar concept descriptors, like definition, editorial notes, etc.\n",
    "\n",
    "In this tutorial, we only extract three labels (Definition, preferred label and alternative label) from a concept (say, wind velocity). The labels and the concept are further explained as follows:\n",
    "Definition - A detailed explanation of a term used in the context of wind speed measurement lidars, especially for the wind energy applications\n",
    "preferred label - A standard name applied to a variable used frequently in lidar applications\n",
    "alternative label - An abbreviated name for the variable used frequently in the wind energy industry.\n",
    "concept - A defined variable in the lidar ontology"
   ]
  },
  {
   "cell_type": "markdown",
   "id": "f9c345e9",
   "metadata": {},
   "source": [
    "### Downloading a lidar concept\n",
    "**Step 0**. Visit https://data.windenergy.dtu.dk/ontologies/view/ontolidar/en/\n",
    "\n",
    "\n",
    "**Step 1**. Click on the ontology concept you are interested in downloading\n",
    "<div style=\"max-width:1000px;margin-left: 0px; margin-right:200px;margin-top: 20px; margin-bottom:50px;\">\n",
    "<img src=\"./Pictures_repo/Fig1.png\" width=\"1000px\"/>\n",
    "</div>\n",
    "\n",
    "\n",
    "\n",
    "**Step 2**. Scroll down and click on ```Download this concept``` --> download JSON-LD format\n",
    "User can download other formats, but will be incompatible with this tutorial.\n",
    "\n",
    "<div style=\"max-width:1000px;margin-left: 0px; margin-right:410px;margin-top: 20px; margin-bottom:50px;\">\n",
    "<img src=\"./Pictures_repo/Fig2.png\" width=\"550px\"/>\n",
    "</div>\n",
    "\n",
    "\n",
    "**Step 3**. Save the concept \n",
    "\n",
    "<div style=\"max-width:400px;margin-left: 0px; margin-right:auto;margin-top: 20px; margin-bottom:50px;\">\n",
    "<img src=\"./Pictures_repo/Fig3.png\" width=\"500px\"/>\n",
    "</div>\n",
    "\n"
   ]
  },
  {
   "cell_type": "code",
   "execution_count": 3,
   "id": "734f4cd9",
   "metadata": {},
   "outputs": [],
   "source": [
    "import pdb\n",
    "import json\n",
    "Preferred_Label,Alternative_Label,Definition='','',''\n",
    "Lidar_Dictionary = {}"
   ]
  },
  {
   "cell_type": "markdown",
   "id": "7688f7ec",
   "metadata": {},
   "source": [
    "Which language you want? The ontology is currently developed for `English`, `Italian`, ``Spanish`` and ``Chinese``. Input these to get the definition in your preferred language. \\\n",
    "Please get in touch with us, if you are interested in developing the ontology for your preferred language."
   ]
  },
  {
   "cell_type": "code",
   "execution_count": 4,
   "id": "21a01504",
   "metadata": {},
   "outputs": [],
   "source": [
    "SelIdiom=input('Language? ') # \"English\", \"Spanish\", \"Chinese\" or \"Italian\"\n"
   ]
  },
  {
   "cell_type": "markdown",
   "id": "1e73ba6e",
   "metadata": {},
   "source": [
    "Save your downloaded json or rdf turtle files in the Ontology_Concepts folder. The script Extract_Data_From_Ontology.ipynb (this notebook) will guide you through the basics of lidar ontology use. The following ``dir`` command describes the folder structure. Use the Add_concepts.txt template to let us know if new concepts should be added or there should be any revision in the existing ones. "
   ]
  },
  {
   "cell_type": "code",
   "execution_count": 5,
   "id": "97887da6",
   "metadata": {},
   "outputs": [
    {
     "name": "stdout",
     "output_type": "stream",
     "text": [
      " Volume in drive C is Windows\n",
      " Volume Serial Number is 44D5-09E5\n",
      "\n",
      " Directory of c:\\Users\\giyash\\OneDrive - Fraunhofer\\Python\\Scripts\\Extract-lidar-ontology-concepts\n",
      "\n",
      "02/12/2022  10:20    <DIR>          .\n",
      "02/12/2022  10:20    <DIR>          ..\n",
      "30/11/2022  13:12    <DIR>          .ipynb_checkpoints\n",
      "29/11/2022  10:39    <DIR>          .lprof\n",
      "30/11/2022  13:12               245 Add_concept.txt\n",
      "02/12/2022  02:02            30,614 Extract_Data_From_Ontology.ipynb\n",
      "02/12/2022  10:22    <DIR>          fun\n",
      "01/12/2022  10:50    <DIR>          Ontology_Concepts\n",
      "30/11/2022  13:12    <DIR>          Pictures_repo\n",
      "29/11/2022  10:38                33 README.md\n",
      "29/11/2022  11:34                10 tempCodeRunnerFile.ipynb\n",
      "02/12/2022  10:19    <DIR>          __pycache__\n",
      "               4 File(s)         30,902 bytes\n",
      "               8 Dir(s)  141,685,719,040 bytes free\n"
     ]
    }
   ],
   "source": [
    "!dir"
   ]
  },
  {
   "cell_type": "code",
   "execution_count": 6,
   "id": "e5cb3d39",
   "metadata": {},
   "outputs": [],
   "source": [
    "# Open the file that users download from (https://data.windenergy.dtu.dk/ontologies/view/ontolidar/en/)\n",
    "with open(r'.\\Ontology_Concepts\\VAD_da', encoding='utf-8') as f:\n",
    "    d = json.load(f)"
   ]
  },
  {
   "cell_type": "markdown",
   "id": "fd30fc89",
   "metadata": {},
   "source": [
    "Let's have a quick look to the data. The json file is arranged in a key: value structure such that these can be extracted using the methods shown below"
   ]
  },
  {
   "cell_type": "code",
   "execution_count": 7,
   "id": "7cf28ee1",
   "metadata": {},
   "outputs": [
    {
     "data": {
      "text/plain": [
       "{'@context': {'skos': 'http://www.w3.org/2004/02/skos/core#',\n",
       "  'isothes': 'http://purl.org/iso25964/skos-thes#',\n",
       "  'rdfs': 'http://www.w3.org/2000/01/rdf-schema#',\n",
       "  'owl': 'http://www.w3.org/2002/07/owl#',\n",
       "  'dct': 'http://purl.org/dc/terms/',\n",
       "  'dc11': 'http://purl.org/dc/elements/1.1/',\n",
       "  'uri': '@id',\n",
       "  'type': '@type',\n",
       "  'lang': '@language',\n",
       "  'value': '@value',\n",
       "  'graph': '@graph',\n",
       "  'label': 'rdfs:label',\n",
       "  'prefLabel': 'skos:prefLabel',\n",
       "  'altLabel': 'skos:altLabel',\n",
       "  'hiddenLabel': 'skos:hiddenLabel',\n",
       "  'broader': 'skos:broader',\n",
       "  'narrower': 'skos:narrower',\n",
       "  'related': 'skos:related',\n",
       "  'inScheme': 'skos:inScheme',\n",
       "  'exactMatch': 'skos:exactMatch',\n",
       "  'closeMatch': 'skos:closeMatch',\n",
       "  'broadMatch': 'skos:broadMatch',\n",
       "  'narrowMatch': 'skos:narrowMatch',\n",
       "  'relatedMatch': 'skos:relatedMatch'},\n",
       " 'graph': [{'uri': 'http://vocab.ieawindtask32.org/wind-lidar-ontology/',\n",
       "   'type': 'skos:ConceptScheme',\n",
       "   'prefLabel': {'lang': 'en',\n",
       "    'value': 'IEA Wind Task 32 Wind Lidar Ontology'}},\n",
       "  {'uri': 'http://vocab.ieawindtask32.org/wind-lidar-ontology/VelocityAzimuthDisplay',\n",
       "   'type': 'skos:Concept',\n",
       "   'altLabel': {'lang': 'en', 'value': 'VAD'},\n",
       "   'broader': {'uri': 'http://vocab.ieawindtask32.org/wind-lidar-ontology/WindfieldReconstruction'},\n",
       "   'skos:definition': [{'lang': 'it',\n",
       "     'value': \"Un particolare metodo di analisi dati di un lidar a geometria conica. Data una scansione completa del cono ad una specifica altezza, i punti di misurazione contigui l'uno all'altro nello spazio vengono combinati secondo metodi statistici di interpolazione per ricostruire la velocità del vento.\"},\n",
       "    {'lang': 'cn',\n",
       "     'value': 'VAD是一种测风激光雷达的测量方法，通过倒圆锥形的扫描方式，雷达可以对许多间隔很近的方位角点进行采样，然后使用统计拟合方法将数据用于推算每个高度的风速。'},\n",
       "    {'lang': 'es',\n",
       "     'value': 'VAD es un método de análisis de datos provenientes de un escaneo de geometría cónica en el que varios puntos azimutales estrechamente espaciados son muestreados por el lidar. Dichos datos se utilizan para estimar la velocidad del viento a una determinada altura utilizanso métodos de ajuste estadísticos.'},\n",
       "    {'lang': 'en',\n",
       "     'value': 'VAD is a method of analyzing data from a complete conical scan whereby many closely spaced azimuthal points may be sampled by the lidar, and the data are used to estimate the wind speed at each height using a statistical fitting method.'}],\n",
       "   'skos:editorialNote': [{'lang': 'en',\n",
       "     'value': 'The VAD method is described in Lhermitte (1966) and Browning and Wexler (1968).'},\n",
       "    {'lang': 'it',\n",
       "     'value': 'Il metodo VAD è descritto in Lhermitte (1966) e Bowning e Wexler (1968).'}],\n",
       "   'inScheme': {'uri': 'http://vocab.ieawindtask32.org/wind-lidar-ontology/'},\n",
       "   'prefLabel': [{'lang': 'es', 'value': 'Muestreo de velocidad en azimut'},\n",
       "    {'lang': 'it', 'value': 'Campionamento di velocità in azimut'},\n",
       "    {'lang': 'cn', 'value': '速度-方位角（VAD）测量法'},\n",
       "    {'lang': 'en', 'value': 'Velocity-azimuth display'}]},\n",
       "  {'uri': 'http://vocab.ieawindtask32.org/wind-lidar-ontology/WindfieldReconstruction',\n",
       "   'type': 'skos:Concept',\n",
       "   'narrower': {'uri': 'http://vocab.ieawindtask32.org/wind-lidar-ontology/VelocityAzimuthDisplay'},\n",
       "   'prefLabel': [{'lang': 'cn', 'value': '气流（风）流场重构'},\n",
       "    {'lang': 'de', 'value': 'Windfeld Rekonstruktion'},\n",
       "    {'lang': 'es', 'value': 'Reconstrucción del campo de vientos'},\n",
       "    {'lang': 'it', 'value': 'Ricostruzione del campo di vento'},\n",
       "    {'lang': 'en', 'value': 'Windfield Reconstruction'}]}]}"
      ]
     },
     "execution_count": 7,
     "metadata": {},
     "output_type": "execute_result"
    }
   ],
   "source": [
    "d"
   ]
  },
  {
   "cell_type": "markdown",
   "id": "b27e7533",
   "metadata": {},
   "source": [
    "## Extract data\n",
    "\n",
    "Within the json structure, the most important elements are arranged under graph.index_inScheme. The keys in this dict, can be accessed using the following scripts. In the subsequent sections, we will use the ``skos:definition``, ``prefLabel`` and ``altLabel`` labels only. However, the user is able to extract other elements by replacing the label keys (``m``)"
   ]
  },
  {
   "cell_type": "code",
   "execution_count": 8,
   "id": "a7b1023b",
   "metadata": {},
   "outputs": [
    {
     "name": "stdout",
     "output_type": "stream",
     "text": [
      "dict_keys(['uri', 'type', 'altLabel', 'broader', 'skos:definition', 'skos:editorialNote', 'inScheme', 'prefLabel'])\n"
     ]
    }
   ],
   "source": [
    "# Find the index to the correct prefLabel    \n",
    "index_inScheme=1\n",
    "m=d['graph'][index_inScheme].keys()\n",
    "while 'inScheme' not in m:\n",
    "    index_inScheme+=1\n",
    "    m=d['graph'][index_inScheme].keys()\n",
    "\n",
    "print(m)\n",
    "    "
   ]
  },
  {
   "cell_type": "markdown",
   "id": "b425b04a",
   "metadata": {},
   "source": [
    "### Get definition of the lidar concept provided by the lidar ontology"
   ]
  },
  {
   "cell_type": "code",
   "execution_count": 9,
   "id": "253c7008",
   "metadata": {},
   "outputs": [],
   "source": [
    "#Getting definition of the concept\n",
    "from fun.getLabel import getLabel\n",
    "path = r'./Ontology_Concepts/VAD_da'\n",
    "Alternative_Label = getLabel(path, key = \"altLabel\", lang='en', index_inScheme=1)\n",
    "\n",
    "# get individual key value pairs depending on the key requested\n",
    "Definition = getLabel(path, key=\"skos:definition\", lang='en', index_inScheme=1)\n",
    "Preferred_Label = getLabel(path, key=\"prefLabel\", lang='en', index_inScheme=1)\n",
    "Alternative_Label = getLabel(path, key = \"altLabel\", lang='en', index_inScheme=1)\n",
    "\n",
    "#Save in a new dictionary\n",
    "Lidar_Dictionary['Definition']=Definition\n",
    "Lidar_Dictionary['Preferred Label']=Preferred_Label\n",
    "Lidar_Dictionary['Alternative Label']=Alternative_Label\n",
    "\n"
   ]
  },
  {
   "cell_type": "code",
   "execution_count": 11,
   "id": "2eb4f7b4",
   "metadata": {},
   "outputs": [
    {
     "name": "stdout",
     "output_type": "stream",
     "text": [
      "VAD is a method of analyzing data from a complete conical scan whereby many closely spaced azimuthal points may be sampled by the lidar, and the data are used to estimate the wind speed at each height using a statistical fitting method.\n"
     ]
    }
   ],
   "source": [
    "print(Definition)"
   ]
  },
  {
   "cell_type": "markdown",
   "id": "00f89025",
   "metadata": {},
   "source": [
    "### Get the preferred label of the lidar concept provided by the lidar ontology"
   ]
  },
  {
   "cell_type": "code",
   "execution_count": 34,
   "id": "0a0e244b",
   "metadata": {},
   "outputs": [],
   "source": [
    "# Getting preferred label of the concept\n",
    "for ind_1 in range(len(d['graph'][index_inScheme]['prefLabel'])):\n",
    "    dict0=d['graph'][index_inScheme]['prefLabel'][ind_1]\n",
    "\n",
    "    if SelIdiom=='English' and ('lang','en') in dict0.items():\n",
    "        Preferred_Label = list(dict0.values())[1]\n",
    "            \n",
    "    elif SelIdiom=='Spanish' and ('lang','es') in dict0.items():\n",
    "        Preferred_Label = list(dict0.values())[1]\n",
    "           \n",
    "    elif SelIdiom=='Chinesse' and ('lang','cn') in dict0.items():\n",
    "        Preferred_Label = list(dict0.values())[1]\n",
    "    \n",
    "    elif SelIdiom=='Italian' and ('lang','it') in dict0.items():\n",
    "        Preferred_Label = list(dict0.values())[1]\n",
    "\n",
    "#Save in a new dictionary\n",
    "Lidar_Dictionary['Preferred Label']=Preferred_Label"
   ]
  },
  {
   "cell_type": "code",
   "execution_count": 22,
   "id": "dcb3645e",
   "metadata": {},
   "outputs": [
    {
     "name": "stdout",
     "output_type": "stream",
     "text": [
      "Velocity-azimuth display\n"
     ]
    }
   ],
   "source": [
    "print(Preferred_Label)"
   ]
  },
  {
   "cell_type": "markdown",
   "id": "d538ae8f",
   "metadata": {},
   "source": [
    "### Get the alternative label of the lidar concept provided by the lidar ontology"
   ]
  },
  {
   "cell_type": "code",
   "execution_count": 23,
   "id": "a5dba020",
   "metadata": {},
   "outputs": [],
   "source": [
    "# Getting alternative label of the concept\n",
    "if 'altLabel' in d['graph'][index_inScheme].keys():\n",
    "     Alternative_Label = d['graph'][index_inScheme]['altLabel']['value']\n",
    "else:\n",
    "    print('No alternative label available')\n",
    "    \n",
    "#Save in a new dictionary\n",
    "Lidar_Dictionary['Alternative Label']=Alternative_Label"
   ]
  },
  {
   "cell_type": "code",
   "execution_count": 31,
   "id": "16e565a0",
   "metadata": {},
   "outputs": [
    {
     "name": "stdout",
     "output_type": "stream",
     "text": [
      "VAD\n"
     ]
    },
    {
     "data": {
      "text/plain": [
       "{'lang': 'en', 'value': 'VAD'}"
      ]
     },
     "execution_count": 31,
     "metadata": {},
     "output_type": "execute_result"
    }
   ],
   "source": [
    "print(Alternative_Label)\n",
    "d['graph'][index_inScheme]['altLabel']"
   ]
  },
  {
   "cell_type": "code",
   "execution_count": 25,
   "id": "ddd589cf",
   "metadata": {},
   "outputs": [
    {
     "data": {
      "text/plain": [
       "{'Definition': 'VAD is a method of analyzing data from a complete conical scan whereby many closely spaced azimuthal points may be sampled by the lidar, and the data are used to estimate the wind speed at each height using a statistical fitting method.',\n",
       " 'Preferred Label': 'Velocity-azimuth display',\n",
       " 'Alternative Label': 'VAD'}"
      ]
     },
     "execution_count": 25,
     "metadata": {},
     "output_type": "execute_result"
    }
   ],
   "source": [
    "Lidar_Dictionary"
   ]
  },
  {
   "cell_type": "code",
   "execution_count": 4,
   "id": "f490bc25",
   "metadata": {},
   "outputs": [
    {
     "ename": "XPathEvalError",
     "evalue": "Undefined namespace prefix",
     "output_type": "error",
     "traceback": [
      "\u001b[1;31m---------------------------------------------------------------------------\u001b[0m",
      "\u001b[1;31mXPathEvalError\u001b[0m                            Traceback (most recent call last)",
      "\u001b[1;32m~\\AppData\\Local\\Temp\\ipykernel_18316\\3690709540.py\u001b[0m in \u001b[0;36m<cell line: 3>\u001b[1;34m()\u001b[0m\n\u001b[0;32m      1\u001b[0m \u001b[1;32mimport\u001b[0m \u001b[0mpandas\u001b[0m \u001b[1;32mas\u001b[0m \u001b[0mpd\u001b[0m\u001b[1;33m\u001b[0m\u001b[1;33m\u001b[0m\u001b[0m\n\u001b[0;32m      2\u001b[0m \u001b[0mpath\u001b[0m \u001b[1;33m=\u001b[0m \u001b[1;34mr\"./Ontology_Concepts/vad.rdf\"\u001b[0m\u001b[1;33m\u001b[0m\u001b[1;33m\u001b[0m\u001b[0m\n\u001b[1;32m----> 3\u001b[1;33m \u001b[0mpd\u001b[0m\u001b[1;33m.\u001b[0m\u001b[0mread_xml\u001b[0m\u001b[1;33m(\u001b[0m\u001b[0mpath\u001b[0m\u001b[1;33m,\u001b[0m \u001b[0mxpath\u001b[0m \u001b[1;33m=\u001b[0m \u001b[1;34m\"//skos:Concept\"\u001b[0m\u001b[1;33m)\u001b[0m\u001b[1;33m\u001b[0m\u001b[1;33m\u001b[0m\u001b[0m\n\u001b[0m",
      "\u001b[1;32mc:\\Users\\giyash\\Miniconda3\\envs\\py39\\lib\\site-packages\\pandas\\util\\_decorators.py\u001b[0m in \u001b[0;36mwrapper\u001b[1;34m(*args, **kwargs)\u001b[0m\n\u001b[0;32m    329\u001b[0m                     \u001b[0mstacklevel\u001b[0m\u001b[1;33m=\u001b[0m\u001b[0mfind_stack_level\u001b[0m\u001b[1;33m(\u001b[0m\u001b[1;33m)\u001b[0m\u001b[1;33m,\u001b[0m\u001b[1;33m\u001b[0m\u001b[1;33m\u001b[0m\u001b[0m\n\u001b[0;32m    330\u001b[0m                 )\n\u001b[1;32m--> 331\u001b[1;33m             \u001b[1;32mreturn\u001b[0m \u001b[0mfunc\u001b[0m\u001b[1;33m(\u001b[0m\u001b[1;33m*\u001b[0m\u001b[0margs\u001b[0m\u001b[1;33m,\u001b[0m \u001b[1;33m**\u001b[0m\u001b[0mkwargs\u001b[0m\u001b[1;33m)\u001b[0m\u001b[1;33m\u001b[0m\u001b[1;33m\u001b[0m\u001b[0m\n\u001b[0m\u001b[0;32m    332\u001b[0m \u001b[1;33m\u001b[0m\u001b[0m\n\u001b[0;32m    333\u001b[0m         \u001b[1;31m# error: \"Callable[[VarArg(Any), KwArg(Any)], Any]\" has no\u001b[0m\u001b[1;33m\u001b[0m\u001b[1;33m\u001b[0m\u001b[0m\n",
      "\u001b[1;32mc:\\Users\\giyash\\Miniconda3\\envs\\py39\\lib\\site-packages\\pandas\\io\\xml.py\u001b[0m in \u001b[0;36mread_xml\u001b[1;34m(path_or_buffer, xpath, namespaces, elems_only, attrs_only, names, dtype, converters, parse_dates, encoding, parser, stylesheet, iterparse, compression, storage_options)\u001b[0m\n\u001b[0;32m   1086\u001b[0m     \"\"\"\n\u001b[0;32m   1087\u001b[0m \u001b[1;33m\u001b[0m\u001b[0m\n\u001b[1;32m-> 1088\u001b[1;33m     return _parse(\n\u001b[0m\u001b[0;32m   1089\u001b[0m         \u001b[0mpath_or_buffer\u001b[0m\u001b[1;33m=\u001b[0m\u001b[0mpath_or_buffer\u001b[0m\u001b[1;33m,\u001b[0m\u001b[1;33m\u001b[0m\u001b[1;33m\u001b[0m\u001b[0m\n\u001b[0;32m   1090\u001b[0m         \u001b[0mxpath\u001b[0m\u001b[1;33m=\u001b[0m\u001b[0mxpath\u001b[0m\u001b[1;33m,\u001b[0m\u001b[1;33m\u001b[0m\u001b[1;33m\u001b[0m\u001b[0m\n",
      "\u001b[1;32mc:\\Users\\giyash\\Miniconda3\\envs\\py39\\lib\\site-packages\\pandas\\io\\xml.py\u001b[0m in \u001b[0;36m_parse\u001b[1;34m(path_or_buffer, xpath, namespaces, elems_only, attrs_only, names, dtype, converters, parse_dates, encoding, parser, stylesheet, iterparse, compression, storage_options, **kwargs)\u001b[0m\n\u001b[0;32m    825\u001b[0m         \u001b[1;32mraise\u001b[0m \u001b[0mValueError\u001b[0m\u001b[1;33m(\u001b[0m\u001b[1;34m\"Values for parser can only be lxml or etree.\"\u001b[0m\u001b[1;33m)\u001b[0m\u001b[1;33m\u001b[0m\u001b[1;33m\u001b[0m\u001b[0m\n\u001b[0;32m    826\u001b[0m \u001b[1;33m\u001b[0m\u001b[0m\n\u001b[1;32m--> 827\u001b[1;33m     \u001b[0mdata_dicts\u001b[0m \u001b[1;33m=\u001b[0m \u001b[0mp\u001b[0m\u001b[1;33m.\u001b[0m\u001b[0mparse_data\u001b[0m\u001b[1;33m(\u001b[0m\u001b[1;33m)\u001b[0m\u001b[1;33m\u001b[0m\u001b[1;33m\u001b[0m\u001b[0m\n\u001b[0m\u001b[0;32m    828\u001b[0m \u001b[1;33m\u001b[0m\u001b[0m\n\u001b[0;32m    829\u001b[0m     return _data_to_frame(\n",
      "\u001b[1;32mc:\\Users\\giyash\\Miniconda3\\envs\\py39\\lib\\site-packages\\pandas\\io\\xml.py\u001b[0m in \u001b[0;36mparse_data\u001b[1;34m(self)\u001b[0m\n\u001b[0;32m    555\u001b[0m                 \u001b[0mself\u001b[0m\u001b[1;33m.\u001b[0m\u001b[0mxml_doc\u001b[0m \u001b[1;33m=\u001b[0m \u001b[0mself\u001b[0m\u001b[1;33m.\u001b[0m\u001b[0m_transform_doc\u001b[0m\u001b[1;33m(\u001b[0m\u001b[1;33m)\u001b[0m\u001b[1;33m\u001b[0m\u001b[1;33m\u001b[0m\u001b[0m\n\u001b[0;32m    556\u001b[0m \u001b[1;33m\u001b[0m\u001b[0m\n\u001b[1;32m--> 557\u001b[1;33m             \u001b[0mself\u001b[0m\u001b[1;33m.\u001b[0m\u001b[0m_validate_path\u001b[0m\u001b[1;33m(\u001b[0m\u001b[1;33m)\u001b[0m\u001b[1;33m\u001b[0m\u001b[1;33m\u001b[0m\u001b[0m\n\u001b[0m\u001b[0;32m    558\u001b[0m             \u001b[0melems\u001b[0m \u001b[1;33m=\u001b[0m \u001b[0mself\u001b[0m\u001b[1;33m.\u001b[0m\u001b[0mxml_doc\u001b[0m\u001b[1;33m.\u001b[0m\u001b[0mxpath\u001b[0m\u001b[1;33m(\u001b[0m\u001b[0mself\u001b[0m\u001b[1;33m.\u001b[0m\u001b[0mxpath\u001b[0m\u001b[1;33m,\u001b[0m \u001b[0mnamespaces\u001b[0m\u001b[1;33m=\u001b[0m\u001b[0mself\u001b[0m\u001b[1;33m.\u001b[0m\u001b[0mnamespaces\u001b[0m\u001b[1;33m)\u001b[0m\u001b[1;33m\u001b[0m\u001b[1;33m\u001b[0m\u001b[0m\n\u001b[0;32m    559\u001b[0m \u001b[1;33m\u001b[0m\u001b[0m\n",
      "\u001b[1;32mc:\\Users\\giyash\\Miniconda3\\envs\\py39\\lib\\site-packages\\pandas\\io\\xml.py\u001b[0m in \u001b[0;36m_validate_path\u001b[1;34m(self)\u001b[0m\n\u001b[0;32m    578\u001b[0m         )\n\u001b[0;32m    579\u001b[0m \u001b[1;33m\u001b[0m\u001b[0m\n\u001b[1;32m--> 580\u001b[1;33m         \u001b[0melems\u001b[0m \u001b[1;33m=\u001b[0m \u001b[0mself\u001b[0m\u001b[1;33m.\u001b[0m\u001b[0mxml_doc\u001b[0m\u001b[1;33m.\u001b[0m\u001b[0mxpath\u001b[0m\u001b[1;33m(\u001b[0m\u001b[0mself\u001b[0m\u001b[1;33m.\u001b[0m\u001b[0mxpath\u001b[0m\u001b[1;33m,\u001b[0m \u001b[0mnamespaces\u001b[0m\u001b[1;33m=\u001b[0m\u001b[0mself\u001b[0m\u001b[1;33m.\u001b[0m\u001b[0mnamespaces\u001b[0m\u001b[1;33m)\u001b[0m\u001b[1;33m\u001b[0m\u001b[1;33m\u001b[0m\u001b[0m\n\u001b[0m\u001b[0;32m    581\u001b[0m         \u001b[0mchildren\u001b[0m \u001b[1;33m=\u001b[0m \u001b[0mself\u001b[0m\u001b[1;33m.\u001b[0m\u001b[0mxml_doc\u001b[0m\u001b[1;33m.\u001b[0m\u001b[0mxpath\u001b[0m\u001b[1;33m(\u001b[0m\u001b[0mself\u001b[0m\u001b[1;33m.\u001b[0m\u001b[0mxpath\u001b[0m \u001b[1;33m+\u001b[0m \u001b[1;34m\"/*\"\u001b[0m\u001b[1;33m,\u001b[0m \u001b[0mnamespaces\u001b[0m\u001b[1;33m=\u001b[0m\u001b[0mself\u001b[0m\u001b[1;33m.\u001b[0m\u001b[0mnamespaces\u001b[0m\u001b[1;33m)\u001b[0m\u001b[1;33m\u001b[0m\u001b[1;33m\u001b[0m\u001b[0m\n\u001b[0;32m    582\u001b[0m         \u001b[0mattrs\u001b[0m \u001b[1;33m=\u001b[0m \u001b[0mself\u001b[0m\u001b[1;33m.\u001b[0m\u001b[0mxml_doc\u001b[0m\u001b[1;33m.\u001b[0m\u001b[0mxpath\u001b[0m\u001b[1;33m(\u001b[0m\u001b[0mself\u001b[0m\u001b[1;33m.\u001b[0m\u001b[0mxpath\u001b[0m \u001b[1;33m+\u001b[0m \u001b[1;34m\"/@*\"\u001b[0m\u001b[1;33m,\u001b[0m \u001b[0mnamespaces\u001b[0m\u001b[1;33m=\u001b[0m\u001b[0mself\u001b[0m\u001b[1;33m.\u001b[0m\u001b[0mnamespaces\u001b[0m\u001b[1;33m)\u001b[0m\u001b[1;33m\u001b[0m\u001b[1;33m\u001b[0m\u001b[0m\n",
      "\u001b[1;32msrc/lxml/etree.pyx\u001b[0m in \u001b[0;36mlxml.etree._Element.xpath\u001b[1;34m()\u001b[0m\n",
      "\u001b[1;32msrc/lxml/xpath.pxi\u001b[0m in \u001b[0;36mlxml.etree.XPathElementEvaluator.__call__\u001b[1;34m()\u001b[0m\n",
      "\u001b[1;32msrc/lxml/xpath.pxi\u001b[0m in \u001b[0;36mlxml.etree._XPathEvaluatorBase._handle_result\u001b[1;34m()\u001b[0m\n",
      "\u001b[1;31mXPathEvalError\u001b[0m: Undefined namespace prefix"
     ]
    }
   ],
   "source": [
    "import pandas as pd\n",
    "path = r\"./Ontology_Concepts/vad.rdf\"\n",
    "pd.read_xml(path, xpath = \"//skos:Concept\")"
   ]
  }
 ],
 "metadata": {
  "kernelspec": {
   "display_name": "Python 3.9.15 ('py39')",
   "language": "python",
   "name": "python3"
  },
  "language_info": {
   "codemirror_mode": {
    "name": "ipython",
    "version": 3
   },
   "file_extension": ".py",
   "mimetype": "text/x-python",
   "name": "python",
   "nbconvert_exporter": "python",
   "pygments_lexer": "ipython3",
   "version": "3.9.15"
  },
  "vscode": {
   "interpreter": {
    "hash": "ebb9ef074f1b645e55a315bd95863e3c93fc21be9d9cb40b64821b9a29fc31f1"
   }
  }
 },
 "nbformat": 4,
 "nbformat_minor": 5
}
