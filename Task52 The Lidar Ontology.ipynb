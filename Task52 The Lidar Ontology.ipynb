{
 "cells": [
  {
   "cell_type": "markdown",
   "id": "responsible-opera",
   "metadata": {
    "slideshow": {
     "slide_type": "slide"
    }
   },
   "source": [
    "![f](Pictures_repo/Cover_presentation.png)"
   ]
  },
  {
   "cell_type": "code",
   "execution_count": null,
   "id": "strategic-somalia",
   "metadata": {
    "slideshow": {
     "slide_type": "slide"
    }
   },
   "outputs": [],
   "source": [
    "import json\n",
    "import sys\n",
    "\n",
    "# Import local functions:\n",
    "from fun.getLabel import getLabel\n",
    "from fun.edit_yaml_from_ontology import edit\n",
    "\n",
    "# Path to the local repository: \n",
    "sys.path.append(\"C:/SWE_LOCAL/Task32/Lidar_ontology/Example_coding_efficiency/LidarOntologyConceptsRepo/Extract-lidar-ontology-concepts/fun/\") "
   ]
  },
  {
   "cell_type": "markdown",
   "id": "partial-viking",
   "metadata": {
    "slideshow": {
     "slide_type": "fragment"
    }
   },
   "source": [
    "Define the fields we want to work with and where we want to store it:"
   ]
  },
  {
   "cell_type": "code",
   "execution_count": null,
   "id": "metropolitan-effort",
   "metadata": {
    "slideshow": {
     "slide_type": "fragment"
    }
   },
   "outputs": [],
   "source": [
    "Preferred_Label,Alternative_Label,Definition='','',''\n",
    "Lidar_Dictionary = {}"
   ]
  },
  {
   "cell_type": "code",
   "execution_count": null,
   "id": "irish-costume",
   "metadata": {
    "slideshow": {
     "slide_type": "slide"
    }
   },
   "outputs": [],
   "source": [
    "SelIdiom=input('Language? ') # \"English\", \"Spanish\", \"Chinese\" or \"Italian\""
   ]
  },
  {
   "cell_type": "markdown",
   "id": "expensive-company",
   "metadata": {
    "slideshow": {
     "slide_type": "slide"
    }
   },
   "source": [
    "## Downloading the lidar concept!\n"
   ]
  },
  {
   "cell_type": "markdown",
   "id": "offshore-twenty",
   "metadata": {
    "slideshow": {
     "slide_type": "fragment"
    }
   },
   "source": [
    "**Step 1**. Visit https://data.windenergy.dtu.dk/ontologies/view/ontolidar/en/"
   ]
  },
  {
   "cell_type": "markdown",
   "id": "preceding-payroll",
   "metadata": {
    "slideshow": {
     "slide_type": "fragment"
    }
   },
   "source": [
    "**Step 2**. Click on the ontology concept you are interested in downloading\n",
    "<div style=\"max-width:1000px;margin-left: 0px; margin-right:200px;margin-top: 20px; margin-bottom:50px;\">\n",
    "<img src=\"Pictures_repo/Fig1.png\" width=\"800px\"/>\n",
    "</div>"
   ]
  },
  {
   "cell_type": "markdown",
   "id": "ordered-bankruptcy",
   "metadata": {
    "slideshow": {
     "slide_type": "slide"
    }
   },
   "source": [
    "**Step 3**. Scroll down and click on ```Download this concept```\n",
    "<div style=\"max-width:1000px;margin-left: 0px; margin-right:410px;margin-top: 20px; margin-bottom:50px;\">\n",
    "<img src=\"Pictures_repo/Fig2.png\" width=\"750px\"/>\n",
    "</div>"
   ]
  },
  {
   "cell_type": "markdown",
   "id": "coordinate-rings",
   "metadata": {
    "slideshow": {
     "slide_type": "fragment"
    }
   },
   "source": [
    "**Step 4**. Save the concept \n",
    "<div style=\"max-width:400px;margin-left: 0px; margin-right:auto;margin-top: 20px; margin-bottom:50px;\">\n",
    "<img src=\"./Pictures_repo/Fig3.png\" width=\"700px\"/>\n",
    "</div>"
   ]
  },
  {
   "cell_type": "markdown",
   "id": "stupid-symposium",
   "metadata": {
    "slideshow": {
     "slide_type": "slide"
    }
   },
   "source": [
    "### Velocity azimuth display\n",
    "Let's have a look to the data"
   ]
  },
  {
   "cell_type": "code",
   "execution_count": null,
   "id": "sublime-means",
   "metadata": {
    "slideshow": {
     "slide_type": "fragment"
    }
   },
   "outputs": [],
   "source": [
    "# Open the file that users download from (https://data.windenergy.dtu.dk/ontologies/view/ontolidar/en/)\n",
    "with open(r'.\\Ontology_Concepts\\VAD_da', encoding='utf-8') as f:\n",
    "    d = json.load(f)\n",
    "\n",
    "print(d)\n",
    "\n",
    "import pprint\n",
    "pp = pprint.PrettyPrinter(indent=4)\n",
    "pp.pprint(d)"
   ]
  },
  {
   "cell_type": "markdown",
   "id": "economic-boating",
   "metadata": {
    "slideshow": {
     "slide_type": "slide"
    }
   },
   "source": [
    "## Extract data\n",
    "- ``skos:definition``\n",
    "- ``prefLabel``\n",
    "- ``altLabel`` \n",
    "\n",
    "Users are able to extract other elements by replacing label keys"
   ]
  },
  {
   "cell_type": "markdown",
   "id": "ancient-macedonia",
   "metadata": {
    "slideshow": {
     "slide_type": "fragment"
    }
   },
   "source": [
    "**Step 1**. Find the path to the data (dictionary keys):"
   ]
  },
  {
   "cell_type": "code",
   "execution_count": null,
   "id": "pacific-coast",
   "metadata": {
    "slideshow": {
     "slide_type": "fragment"
    }
   },
   "outputs": [],
   "source": [
    "index_inScheme=1\n",
    "m=d['graph'][index_inScheme].keys()\n",
    "while 'inScheme' not in m:\n",
    "    index_inScheme+=1\n",
    "    m=d['graph'][index_inScheme].keys()\n",
    "print(m)"
   ]
  },
  {
   "cell_type": "markdown",
   "id": "enclosed-brain",
   "metadata": {
    "slideshow": {
     "slide_type": "slide"
    }
   },
   "source": [
    "**Step 2**. Get definition of the lidar concept provided by the lidar ontology"
   ]
  },
  {
   "cell_type": "code",
   "execution_count": null,
   "id": "rising-slovak",
   "metadata": {
    "slideshow": {
     "slide_type": "fragment"
    }
   },
   "outputs": [],
   "source": [
    "# path to the working directory\n",
    "\n",
    "path = r'./Ontology_Concepts/VAD_da' \n",
    "\n",
    "# get individual key value pairs depending on the key requested\n",
    "Definition        = getLabel(path, key=\"skos:definition\", lang='en', index_inScheme=1)\n",
    "Alternative_Label = getLabel(path, key = \"altLabel\", lang='en', index_inScheme=1)\n",
    "\n",
    "#Save in a new dictionary\n",
    "Lidar_Dictionary['Definition']=Definition\n",
    "Lidar_Dictionary['Alternative Label']=Alternative_Label\n",
    "print('Definition: '+Definition)\n",
    "print('Alternative label:' + Alternative_Label)"
   ]
  },
  {
   "cell_type": "markdown",
   "id": "devoted-ghost",
   "metadata": {
    "slideshow": {
     "slide_type": "slide"
    }
   },
   "source": [
    "## What to do with these data? \n",
    "\n",
    "Connect with local resources:\n",
    "- input for a lidar simulator\n",
    "- Databases\n",
    "- Speed up data analysis"
   ]
  },
  {
   "cell_type": "markdown",
   "id": "leading-honolulu",
   "metadata": {
    "slideshow": {
     "slide_type": "slide"
    }
   },
   "source": [
    "### Example: \n",
    "Input for a lidar simulator"
   ]
  },
  {
   "cell_type": "markdown",
   "id": "flexible-phase",
   "metadata": {
    "slideshow": {
     "slide_type": "fragment"
    }
   },
   "source": [
    "<div style=\"max-width:1000px;margin-left: 0px; margin-right:200px;margin-top: 20px; margin-bottom:50px;\">\n",
    "<img src=\"Pictures_repo/Yaml_local.png\" width=\"800px\"/>\n",
    "</div>"
   ]
  },
  {
   "cell_type": "markdown",
   "id": "solar-affairs",
   "metadata": {
    "slideshow": {
     "slide_type": "slide"
    }
   },
   "source": [
    "__1)__ Select our lidar simulator local template"
   ]
  },
  {
   "cell_type": "code",
   "execution_count": null,
   "id": "improving-rider",
   "metadata": {
    "slideshow": {
     "slide_type": "fragment"
    }
   },
   "outputs": [],
   "source": [
    "local_yaml = './Ontology_yml.yml'"
   ]
  },
  {
   "cell_type": "markdown",
   "id": "furnished-paintball",
   "metadata": {
    "slideshow": {
     "slide_type": "fragment"
    }
   },
   "source": [
    "__2)__ Select the lidar concept to be edited"
   ]
  },
  {
   "cell_type": "code",
   "execution_count": null,
   "id": "answering-blink",
   "metadata": {
    "slideshow": {
     "slide_type": "fragment"
    }
   },
   "outputs": [],
   "source": [
    "tag = 'Velocity azimuth display'"
   ]
  },
  {
   "cell_type": "markdown",
   "id": "reported-destruction",
   "metadata": {
    "slideshow": {
     "slide_type": "slide"
    }
   },
   "source": [
    "__3)__ Select the variable to be edited "
   ]
  },
  {
   "cell_type": "code",
   "execution_count": null,
   "id": "honey-roommate",
   "metadata": {
    "slideshow": {
     "slide_type": "fragment"
    }
   },
   "outputs": [],
   "source": [
    "fields2change = ['Definition','Alternative Label']"
   ]
  },
  {
   "cell_type": "markdown",
   "id": "alternate-quest",
   "metadata": {
    "slideshow": {
     "slide_type": "slide"
    }
   },
   "source": [
    "__4)__ Edit the local yaml file"
   ]
  },
  {
   "cell_type": "markdown",
   "id": "formal-excerpt",
   "metadata": {
    "slideshow": {
     "slide_type": "notes"
    }
   },
   "source": [
    "The `edit_yaml_from_ontology.edit` function reads the user's lidar input template, finds and edits items and saves the updated yaml file. Gives priority to the information contained in the yaml file."
   ]
  },
  {
   "cell_type": "code",
   "execution_count": null,
   "id": "departmental-croatia",
   "metadata": {
    "slideshow": {
     "slide_type": "fragment"
    }
   },
   "outputs": [],
   "source": [
    "edit(local_yaml,tag,fields2change,Lidar_Dictionary) "
   ]
  },
  {
   "cell_type": "markdown",
   "id": "caroline-opposition",
   "metadata": {
    "slideshow": {
     "slide_type": "slide"
    }
   },
   "source": [
    "<div style=\"max-width:1000px;margin-left: 0px; margin-right:200px;margin-top: 20px; margin-bottom:50px;\">\n",
    "<img src=\"Pictures_repo/Yaml_edited.png\" width=\"800px\"/>\n",
    "</div>"
   ]
  },
  {
   "attachments": {},
   "cell_type": "markdown",
   "id": "0d371b9d",
   "metadata": {},
   "source": [
    "To end with we need to talk about how does your working group address the overall theme of the task “Large-Scale Deployment of Wind Lidar”?\n",
    "\n",
    "Desing and use of lidar\n",
    "- Manufacture\n",
    "- Deployment, operation and test\n",
    "- Maintenance\n",
    "- Speed up data analysis\n",
    "\n",
    "Lidar task-specific optimization\n",
    "- Lidar assisted wind turbine control \n",
    "- Pre- and post- campaign preparation\n",
    "\n",
    "Market acceptance\n",
    "- IEC standards\n",
    "- Safety protocols\n",
    "\n",
    "Data and resources\n",
    "- Code or template for a lidar simulator\n",
    "- Avoid lidar black boxes\n",
    "\n",
    "Safety: Lidar safety class for public purposes\n"
   ]
  },
  {
   "cell_type": "markdown",
   "id": "framed-semiconductor",
   "metadata": {},
   "source": [
    "## Contact us\n",
    "\n",
    "- C. Ratti – carloar@enlightenergy.eu\n",
    "- D. Liu – liu@ifb.uni-stuttgart.de\n",
    "- A. Clifton – andy.clifton@enviconnect.de\n",
    "- A. Keane – aidan.keane@woodplc.com\n",
    "- A. Giyanani – ashim.giyanani@iwes.fraunhofer.de\n",
    "- F. Costa – costa@ifb.uni-stuttgart.de\n"
   ]
  }
 ],
 "metadata": {
  "celltoolbar": "Slideshow",
  "kernelspec": {
   "display_name": "Python 3",
   "language": "python",
   "name": "python3"
  },
  "language_info": {
   "codemirror_mode": {
    "name": "ipython",
    "version": 3
   },
   "file_extension": ".py",
   "mimetype": "text/x-python",
   "name": "python",
   "nbconvert_exporter": "python",
   "pygments_lexer": "ipython3",
   "version": "3.7.9"
  }
 },
 "nbformat": 4,
 "nbformat_minor": 5
}
