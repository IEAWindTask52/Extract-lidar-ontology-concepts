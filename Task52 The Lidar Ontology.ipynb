{
 "cells": [
  {
   "cell_type": "markdown",
   "id": "responsible-opera",
   "metadata": {
    "slideshow": {
     "slide_type": "slide"
    }
   },
   "source": [
    "![f](Pictures_repo/Cover_presentation.png)"
   ]
  },
  {
   "cell_type": "markdown",
   "id": "chief-deviation",
   "metadata": {
    "slideshow": {
     "slide_type": "slide"
    }
   },
   "source": [
    "\n",
    "\n",
    "    \n",
    "\n"
   ]
  },
  {
   "cell_type": "code",
   "execution_count": 1,
   "id": "strategic-somalia",
   "metadata": {
    "slideshow": {
     "slide_type": "slide"
    }
   },
   "outputs": [],
   "source": [
    "import json\n",
    "import sys\n",
    "\n",
    "# Import local functions:\n",
    "from fun.getLabel import getLabel\n",
    "from fun.edit_yaml_from_ontology import edit\n",
    "\n",
    "# Path to the local repository: \n",
    "sys.path.append(\"C:/SWE_LOCAL/Task32/Lidar_ontology/Example_coding_efficiency/LidarOntologyConceptsRepo/Extract-lidar-ontology-concepts/fun/\") "
   ]
  },
  {
   "cell_type": "markdown",
   "id": "partial-viking",
   "metadata": {
    "slideshow": {
     "slide_type": "slide"
    }
   },
   "source": [
    "Define the fields we want to work with and where we want to store it:"
   ]
  },
  {
   "cell_type": "code",
   "execution_count": 2,
   "id": "metropolitan-effort",
   "metadata": {
    "slideshow": {
     "slide_type": "-"
    }
   },
   "outputs": [],
   "source": [
    "Preferred_Label,Alternative_Label,Definition='','',''\n",
    "Lidar_Dictionary = {}"
   ]
  },
  {
   "cell_type": "markdown",
   "id": "legendary-eligibility",
   "metadata": {
    "slideshow": {
     "slide_type": "slide"
    }
   },
   "source": [
    "Select language:"
   ]
  },
  {
   "cell_type": "code",
   "execution_count": 3,
   "id": "irish-costume",
   "metadata": {
    "slideshow": {
     "slide_type": "-"
    }
   },
   "outputs": [
    {
     "name": "stdout",
     "output_type": "stream",
     "text": [
      "Language? English\n"
     ]
    }
   ],
   "source": [
    "SelIdiom=input('Language? ') # \"English\", \"Spanish\", \"Chinese\" or \"Italian\""
   ]
  },
  {
   "cell_type": "markdown",
   "id": "expensive-company",
   "metadata": {
    "slideshow": {
     "slide_type": "slide"
    }
   },
   "source": [
    "## Downloading the lidar concept!"
   ]
  },
  {
   "cell_type": "markdown",
   "id": "offshore-twenty",
   "metadata": {
    "slideshow": {
     "slide_type": "fragment"
    }
   },
   "source": [
    "**Step 1**. Visit https://data.windenergy.dtu.dk/ontologies/view/ontolidar/en/"
   ]
  },
  {
   "cell_type": "markdown",
   "id": "preceding-payroll",
   "metadata": {
    "slideshow": {
     "slide_type": "fragment"
    }
   },
   "source": [
    "**Step 2**. Click on the ontology concept you are interested in downloading\n",
    "<div style=\"max-width:1000px;margin-left: 0px; margin-right:200px;margin-top: 20px; margin-bottom:50px;\">\n",
    "<img src=\"Pictures_repo/Fig1.png\" width=\"800px\"/>\n",
    "</div>"
   ]
  },
  {
   "cell_type": "markdown",
   "id": "proof-scanning",
   "metadata": {
    "slideshow": {
     "slide_type": "slide"
    }
   },
   "source": [
    "## Downloading the lidar concept!"
   ]
  },
  {
   "cell_type": "markdown",
   "id": "ordered-bankruptcy",
   "metadata": {
    "slideshow": {
     "slide_type": "fragment"
    }
   },
   "source": [
    "**Step 3**. Scroll down and click on ```Download this concept```\n",
    "<div style=\"max-width:1000px;margin-left: 0px; margin-right:410px;margin-top: 20px; margin-bottom:50px;\">\n",
    "<img src=\"Pictures_repo/Fig2.png\" width=\"750px\"/>\n",
    "</div>"
   ]
  },
  {
   "cell_type": "markdown",
   "id": "coordinate-rings",
   "metadata": {
    "slideshow": {
     "slide_type": "fragment"
    }
   },
   "source": [
    "**Step 4**. Save the concept \n",
    "<div style=\"max-width:400px;margin-left: 0px; margin-right:auto;margin-top: 20px; margin-bottom:50px;\">\n",
    "<img src=\"./Pictures_repo/Fig3.png\" width=\"700px\"/>\n",
    "</div>"
   ]
  },
  {
   "cell_type": "markdown",
   "id": "stupid-symposium",
   "metadata": {
    "slideshow": {
     "slide_type": "slide"
    }
   },
   "source": [
    "### Velocity azimuth display\n",
    "Let's have a look to the data"
   ]
  },
  {
   "cell_type": "code",
   "execution_count": 4,
   "id": "sublime-means",
   "metadata": {
    "slideshow": {
     "slide_type": "-"
    }
   },
   "outputs": [
    {
     "name": "stdout",
     "output_type": "stream",
     "text": [
      "{'@context': {'skos': 'http://www.w3.org/2004/02/skos/core#', 'isothes': 'http://purl.org/iso25964/skos-thes#', 'rdfs': 'http://www.w3.org/2000/01/rdf-schema#', 'owl': 'http://www.w3.org/2002/07/owl#', 'dct': 'http://purl.org/dc/terms/', 'dc11': 'http://purl.org/dc/elements/1.1/', 'uri': '@id', 'type': '@type', 'lang': '@language', 'value': '@value', 'graph': '@graph', 'label': 'rdfs:label', 'prefLabel': 'skos:prefLabel', 'altLabel': 'skos:altLabel', 'hiddenLabel': 'skos:hiddenLabel', 'broader': 'skos:broader', 'narrower': 'skos:narrower', 'related': 'skos:related', 'inScheme': 'skos:inScheme', 'exactMatch': 'skos:exactMatch', 'closeMatch': 'skos:closeMatch', 'broadMatch': 'skos:broadMatch', 'narrowMatch': 'skos:narrowMatch', 'relatedMatch': 'skos:relatedMatch'}, 'graph': [{'uri': 'http://vocab.ieawindtask32.org/wind-lidar-ontology/', 'type': 'skos:ConceptScheme', 'prefLabel': {'lang': 'en', 'value': 'IEA Wind Task 32 Wind Lidar Ontology'}}, {'uri': 'http://vocab.ieawindtask32.org/wind-lidar-ontology/VelocityAzimuthDisplay', 'type': 'skos:Concept', 'altLabel': {'lang': 'en', 'value': 'VAD'}, 'broader': {'uri': 'http://vocab.ieawindtask32.org/wind-lidar-ontology/WindfieldReconstruction'}, 'skos:definition': [{'lang': 'it', 'value': \"Un particolare metodo di analisi dati di un lidar a geometria conica. Data una scansione completa del cono ad una specifica altezza, i punti di misurazione contigui l'uno all'altro nello spazio vengono combinati secondo metodi statistici di interpolazione per ricostruire la velocità del vento.\"}, {'lang': 'cn', 'value': 'VAD是一种测风激光雷达的测量方法，通过倒圆锥形的扫描方式，雷达可以对许多间隔很近的方位角点进行采样，然后使用统计拟合方法将数据用于推算每个高度的风速。'}, {'lang': 'es', 'value': 'VAD es un método de análisis de datos provenientes de un escaneo de geometría cónica en el que varios puntos azimutales estrechamente espaciados son muestreados por el lidar. Dichos datos se utilizan para estimar la velocidad del viento a una determinada altura utilizanso métodos de ajuste estadísticos.'}, {'lang': 'en', 'value': 'VAD is a method of analyzing data from a complete conical scan whereby many closely spaced azimuthal points may be sampled by the lidar, and the data are used to estimate the wind speed at each height using a statistical fitting method.'}], 'skos:editorialNote': [{'lang': 'en', 'value': 'The VAD method is described in Lhermitte (1966) and Browning and Wexler (1968).'}, {'lang': 'it', 'value': 'Il metodo VAD è descritto in Lhermitte (1966) e Bowning e Wexler (1968).'}], 'inScheme': {'uri': 'http://vocab.ieawindtask32.org/wind-lidar-ontology/'}, 'prefLabel': [{'lang': 'es', 'value': 'Muestreo de velocidad en azimut'}, {'lang': 'it', 'value': 'Campionamento di velocità in azimut'}, {'lang': 'cn', 'value': '速度-方位角（VAD）测量法'}, {'lang': 'en', 'value': 'Velocity-azimuth display'}]}, {'uri': 'http://vocab.ieawindtask32.org/wind-lidar-ontology/WindfieldReconstruction', 'type': 'skos:Concept', 'narrower': {'uri': 'http://vocab.ieawindtask32.org/wind-lidar-ontology/VelocityAzimuthDisplay'}, 'prefLabel': [{'lang': 'cn', 'value': '气流（风）流场重构'}, {'lang': 'de', 'value': 'Windfeld Rekonstruktion'}, {'lang': 'es', 'value': 'Reconstrucción del campo de vientos'}, {'lang': 'it', 'value': 'Ricostruzione del campo di vento'}, {'lang': 'en', 'value': 'Windfield Reconstruction'}]}]}\n",
      "{   '@context': {   'altLabel': 'skos:altLabel',\n",
      "                    'broadMatch': 'skos:broadMatch',\n",
      "                    'broader': 'skos:broader',\n",
      "                    'closeMatch': 'skos:closeMatch',\n",
      "                    'dc11': 'http://purl.org/dc/elements/1.1/',\n",
      "                    'dct': 'http://purl.org/dc/terms/',\n",
      "                    'exactMatch': 'skos:exactMatch',\n",
      "                    'graph': '@graph',\n",
      "                    'hiddenLabel': 'skos:hiddenLabel',\n",
      "                    'inScheme': 'skos:inScheme',\n",
      "                    'isothes': 'http://purl.org/iso25964/skos-thes#',\n",
      "                    'label': 'rdfs:label',\n",
      "                    'lang': '@language',\n",
      "                    'narrowMatch': 'skos:narrowMatch',\n",
      "                    'narrower': 'skos:narrower',\n",
      "                    'owl': 'http://www.w3.org/2002/07/owl#',\n",
      "                    'prefLabel': 'skos:prefLabel',\n",
      "                    'rdfs': 'http://www.w3.org/2000/01/rdf-schema#',\n",
      "                    'related': 'skos:related',\n",
      "                    'relatedMatch': 'skos:relatedMatch',\n",
      "                    'skos': 'http://www.w3.org/2004/02/skos/core#',\n",
      "                    'type': '@type',\n",
      "                    'uri': '@id',\n",
      "                    'value': '@value'},\n",
      "    'graph': [   {   'prefLabel': {   'lang': 'en',\n",
      "                                      'value': 'IEA Wind Task 32 Wind Lidar '\n",
      "                                               'Ontology'},\n",
      "                     'type': 'skos:ConceptScheme',\n",
      "                     'uri': 'http://vocab.ieawindtask32.org/wind-lidar-ontology/'},\n",
      "                 {   'altLabel': {'lang': 'en', 'value': 'VAD'},\n",
      "                     'broader': {   'uri': 'http://vocab.ieawindtask32.org/wind-lidar-ontology/WindfieldReconstruction'},\n",
      "                     'inScheme': {   'uri': 'http://vocab.ieawindtask32.org/wind-lidar-ontology/'},\n",
      "                     'prefLabel': [   {   'lang': 'es',\n",
      "                                          'value': 'Muestreo de velocidad en '\n",
      "                                                   'azimut'},\n",
      "                                      {   'lang': 'it',\n",
      "                                          'value': 'Campionamento di velocità '\n",
      "                                                   'in azimut'},\n",
      "                                      {'lang': 'cn', 'value': '速度-方位角（VAD）测量法'},\n",
      "                                      {   'lang': 'en',\n",
      "                                          'value': 'Velocity-azimuth display'}],\n",
      "                     'skos:definition': [   {   'lang': 'it',\n",
      "                                                'value': 'Un particolare '\n",
      "                                                         'metodo di analisi '\n",
      "                                                         'dati di un lidar a '\n",
      "                                                         'geometria conica. '\n",
      "                                                         'Data una scansione '\n",
      "                                                         'completa del cono ad '\n",
      "                                                         'una specifica '\n",
      "                                                         'altezza, i punti di '\n",
      "                                                         'misurazione contigui '\n",
      "                                                         \"l'uno all'altro \"\n",
      "                                                         'nello spazio vengono '\n",
      "                                                         'combinati secondo '\n",
      "                                                         'metodi statistici di '\n",
      "                                                         'interpolazione per '\n",
      "                                                         'ricostruire la '\n",
      "                                                         'velocità del vento.'},\n",
      "                                            {   'lang': 'cn',\n",
      "                                                'value': 'VAD是一种测风激光雷达的测量方法，通过倒圆锥形的扫描方式，雷达可以对许多间隔很近的方位角点进行采样，然后使用统计拟合方法将数据用于推算每个高度的风速。'},\n",
      "                                            {   'lang': 'es',\n",
      "                                                'value': 'VAD es un método de '\n",
      "                                                         'análisis de datos '\n",
      "                                                         'provenientes de un '\n",
      "                                                         'escaneo de geometría '\n",
      "                                                         'cónica en el que '\n",
      "                                                         'varios puntos '\n",
      "                                                         'azimutales '\n",
      "                                                         'estrechamente '\n",
      "                                                         'espaciados son '\n",
      "                                                         'muestreados por el '\n",
      "                                                         'lidar. Dichos datos '\n",
      "                                                         'se utilizan para '\n",
      "                                                         'estimar la velocidad '\n",
      "                                                         'del viento a una '\n",
      "                                                         'determinada altura '\n",
      "                                                         'utilizanso métodos '\n",
      "                                                         'de ajuste '\n",
      "                                                         'estadísticos.'},\n",
      "                                            {   'lang': 'en',\n",
      "                                                'value': 'VAD is a method of '\n",
      "                                                         'analyzing data from '\n",
      "                                                         'a complete conical '\n",
      "                                                         'scan whereby many '\n",
      "                                                         'closely spaced '\n",
      "                                                         'azimuthal points may '\n",
      "                                                         'be sampled by the '\n",
      "                                                         'lidar, and the data '\n",
      "                                                         'are used to estimate '\n",
      "                                                         'the wind speed at '\n",
      "                                                         'each height using a '\n",
      "                                                         'statistical fitting '\n",
      "                                                         'method.'}],\n",
      "                     'skos:editorialNote': [   {   'lang': 'en',\n",
      "                                                   'value': 'The VAD method is '\n",
      "                                                            'described in '\n",
      "                                                            'Lhermitte (1966) '\n",
      "                                                            'and Browning and '\n",
      "                                                            'Wexler (1968).'},\n",
      "                                               {   'lang': 'it',\n",
      "                                                   'value': 'Il metodo VAD è '\n",
      "                                                            'descritto in '\n",
      "                                                            'Lhermitte (1966) '\n",
      "                                                            'e Bowning e '\n",
      "                                                            'Wexler (1968).'}],\n",
      "                     'type': 'skos:Concept',\n",
      "                     'uri': 'http://vocab.ieawindtask32.org/wind-lidar-ontology/VelocityAzimuthDisplay'},\n",
      "                 {   'narrower': {   'uri': 'http://vocab.ieawindtask32.org/wind-lidar-ontology/VelocityAzimuthDisplay'},\n",
      "                     'prefLabel': [   {'lang': 'cn', 'value': '气流（风）流场重构'},\n",
      "                                      {   'lang': 'de',\n",
      "                                          'value': 'Windfeld Rekonstruktion'},\n",
      "                                      {   'lang': 'es',\n",
      "                                          'value': 'Reconstrucción del campo '\n",
      "                                                   'de vientos'},\n",
      "                                      {   'lang': 'it',\n",
      "                                          'value': 'Ricostruzione del campo di '\n",
      "                                                   'vento'},\n",
      "                                      {   'lang': 'en',\n",
      "                                          'value': 'Windfield Reconstruction'}],\n",
      "                     'type': 'skos:Concept',\n",
      "                     'uri': 'http://vocab.ieawindtask32.org/wind-lidar-ontology/WindfieldReconstruction'}]}\n"
     ]
    }
   ],
   "source": [
    "# Open the file that users download from (https://data.windenergy.dtu.dk/ontologies/view/ontolidar/en/)\n",
    "with open(r'.\\Ontology_Concepts\\VAD_da', encoding='utf-8') as f:\n",
    "    d = json.load(f)\n",
    "\n",
    "print(d)\n",
    "\n",
    "import pprint\n",
    "pp = pprint.PrettyPrinter(indent=4)\n",
    "pp.pprint(d)"
   ]
  },
  {
   "cell_type": "markdown",
   "id": "economic-boating",
   "metadata": {
    "slideshow": {
     "slide_type": "slide"
    }
   },
   "source": [
    "## Extract data\n",
    "- ``skos:definition``\n",
    "- ``prefLabel``\n",
    "- ``altLabel`` \n",
    "\n",
    "Users are able to extract other elements by replacing label keys"
   ]
  },
  {
   "cell_type": "markdown",
   "id": "ancient-macedonia",
   "metadata": {
    "slideshow": {
     "slide_type": "slide"
    }
   },
   "source": [
    "## Extract data\n",
    "**Step 1**. Find the path to the data (dictionary keys):"
   ]
  },
  {
   "cell_type": "code",
   "execution_count": 5,
   "id": "pacific-coast",
   "metadata": {
    "slideshow": {
     "slide_type": "-"
    }
   },
   "outputs": [
    {
     "name": "stdout",
     "output_type": "stream",
     "text": [
      "dict_keys(['uri', 'type', 'altLabel', 'broader', 'skos:definition', 'skos:editorialNote', 'inScheme', 'prefLabel'])\n"
     ]
    }
   ],
   "source": [
    "index_inScheme=1\n",
    "m=d['graph'][index_inScheme].keys()\n",
    "while 'inScheme' not in m:\n",
    "    index_inScheme+=1\n",
    "    m=d['graph'][index_inScheme].keys()\n",
    "print(m)"
   ]
  },
  {
   "cell_type": "markdown",
   "id": "enclosed-brain",
   "metadata": {
    "slideshow": {
     "slide_type": "slide"
    }
   },
   "source": [
    "## Extract data\n",
    "**Step 2**. Get definition of the lidar concept provided by the lidar ontology"
   ]
  },
  {
   "cell_type": "code",
   "execution_count": 8,
   "id": "rising-slovak",
   "metadata": {
    "slideshow": {
     "slide_type": "-"
    }
   },
   "outputs": [
    {
     "name": "stdout",
     "output_type": "stream",
     "text": [
      "{'Definition': 'VAD is a method of analyzing data from a complete conical scan whereby many closely spaced azimuthal points may be sampled by the lidar, and the data are used to estimate the wind speed at each height using a statistical fitting method.', 'Alternative Label': 'VAD'}\n"
     ]
    }
   ],
   "source": [
    "# path to the working directory\n",
    "path = r'./Ontology_Concepts/VAD_da' \n",
    "\n",
    "# get individual key value pairs depending on the key requested\n",
    "Definition        = getLabel(path, key=\"skos:definition\", lang='en', index_inScheme=1)\n",
    "Alternative_Label = getLabel(path, key = \"altLabel\", lang='en', index_inScheme=1)\n",
    "\n",
    "#Save in a new dictionary  \n",
    "Lidar_Dictionary['Definition']=Definition\n",
    "Lidar_Dictionary['Alternative Label']=Alternative_Label\n",
    "\n",
    "print(Lidar_Dictionary)"
   ]
  },
  {
   "cell_type": "markdown",
   "id": "devoted-ghost",
   "metadata": {
    "slideshow": {
     "slide_type": "slide"
    }
   },
   "source": [
    "## What to do with these data? "
   ]
  },
  {
   "cell_type": "markdown",
   "id": "ideal-grace",
   "metadata": {
    "slideshow": {
     "slide_type": "fragment"
    }
   },
   "source": [
    "### Connect with local resources\n",
    "- Input for a lidar simulator\n",
    "- Databases\n",
    "- Speed up data analysis"
   ]
  },
  {
   "cell_type": "markdown",
   "id": "leading-honolulu",
   "metadata": {
    "slideshow": {
     "slide_type": "slide"
    }
   },
   "source": [
    "# Example: Input for a lidar simulator"
   ]
  },
  {
   "cell_type": "markdown",
   "id": "solar-affairs",
   "metadata": {
    "slideshow": {
     "slide_type": "fragment"
    }
   },
   "source": [
    "__1)__ Select our lidar simulator local template"
   ]
  },
  {
   "cell_type": "code",
   "execution_count": 14,
   "id": "improving-rider",
   "metadata": {
    "slideshow": {
     "slide_type": "-"
    }
   },
   "outputs": [],
   "source": [
    "local_yaml = './Ontology_yml.yml'"
   ]
  },
  {
   "cell_type": "markdown",
   "id": "flexible-phase",
   "metadata": {
    "slideshow": {
     "slide_type": "slide"
    }
   },
   "source": [
    "# Example: Input for a lidar simulator\n",
    "\n",
    "<div style=\"max-width:1000px;margin-left: 0px; margin-right:200px;margin-top: 0px; margin-bottom:0px;\">\n",
    "<img src=\"Pictures_repo/Yaml_local.png\" width=\"2000px\"/>\n",
    "</div>"
   ]
  },
  {
   "cell_type": "markdown",
   "id": "furnished-paintball",
   "metadata": {
    "slideshow": {
     "slide_type": "slide"
    }
   },
   "source": [
    "## Example: Input for a lidar simulator\n",
    "__2)__ Select the lidar concept to be edited"
   ]
  },
  {
   "cell_type": "markdown",
   "id": "competitive-greenhouse",
   "metadata": {
    "slideshow": {
     "slide_type": "notes"
    }
   },
   "source": [
    "'Velocity azimuth display'"
   ]
  },
  {
   "cell_type": "code",
   "execution_count": 10,
   "id": "answering-blink",
   "metadata": {
    "slideshow": {
     "slide_type": "-"
    }
   },
   "outputs": [],
   "source": [
    "tag = 'Velocity azimuth display'"
   ]
  },
  {
   "cell_type": "markdown",
   "id": "reported-destruction",
   "metadata": {
    "slideshow": {
     "slide_type": "slide"
    }
   },
   "source": [
    "## Example: Input for a lidar simulator\n",
    "__3)__ Select the variable to be edited "
   ]
  },
  {
   "cell_type": "markdown",
   "id": "infectious-hindu",
   "metadata": {
    "slideshow": {
     "slide_type": "notes"
    }
   },
   "source": [
    "'Definition','Alternative Label'"
   ]
  },
  {
   "cell_type": "code",
   "execution_count": 11,
   "id": "honey-roommate",
   "metadata": {
    "slideshow": {
     "slide_type": "-"
    }
   },
   "outputs": [],
   "source": [
    "fields2change = ['Definition','Alternative Label']"
   ]
  },
  {
   "cell_type": "markdown",
   "id": "alternate-quest",
   "metadata": {
    "slideshow": {
     "slide_type": "slide"
    }
   },
   "source": [
    "## Example: Input for a lidar simulator\n",
    "__4)__ Edit the local yaml file"
   ]
  },
  {
   "cell_type": "markdown",
   "id": "formal-excerpt",
   "metadata": {
    "slideshow": {
     "slide_type": "notes"
    }
   },
   "source": [
    "The `edit_yaml_from_ontology.edit` function reads the user's lidar input template, finds and edits items and saves the updated yaml file. Gives priority to the information contained in the yaml file."
   ]
  },
  {
   "cell_type": "code",
   "execution_count": 12,
   "id": "departmental-croatia",
   "metadata": {
    "slideshow": {
     "slide_type": "-"
    }
   },
   "outputs": [],
   "source": [
    "edit(local_yaml,tag,fields2change,Lidar_Dictionary) "
   ]
  },
  {
   "cell_type": "markdown",
   "id": "caroline-opposition",
   "metadata": {
    "slideshow": {
     "slide_type": "fragment"
    }
   },
   "source": [
    "<div style=\"max-width:2000px;margin-left: 0px; margin-right:200px;margin-top: 20px; margin-bottom:0px;\">\n",
    "<img src=\"Pictures_repo/Yaml_edited.png\" width=\"1200px\"/>\n",
    "</div>"
   ]
  },
  {
   "cell_type": "markdown",
   "id": "plastic-potential",
   "metadata": {
    "slideshow": {
     "slide_type": "slide"
    }
   },
   "source": [
    "<div style=\"max-width:1000px;margin-left: 0px; margin-right:200px;margin-top: 20px; margin-bottom:50px;\">\n",
    "<img src=\"Pictures_repo/Article.png\" width=\"800px\"/>\n",
    "</div>"
   ]
  },
  {
   "cell_type": "markdown",
   "id": "0d371b9d",
   "metadata": {
    "slideshow": {
     "slide_type": "slide"
    }
   },
   "source": [
    "## An ontology for \n",
    "### Lidar design and use\n",
    "- Manufacture\n",
    "- Deployment, operation and test\n",
    "- Maintenance\n",
    "- Speed up data analysis\n"
   ]
  },
  {
   "cell_type": "markdown",
   "id": "successful-power",
   "metadata": {
    "slideshow": {
     "slide_type": "subslide"
    }
   },
   "source": [
    "## An ontology for \n",
    "### Lidar task-specific optimization\n",
    "- Lidar assisted wind turbine control \n",
    "- Pre- and post- campaign preparation\n",
    "\n",
    "### Market acceptance\n",
    "- IEC standards\n",
    "- Safety protocols\n",
    "\n"
   ]
  },
  {
   "cell_type": "markdown",
   "id": "functional-liquid",
   "metadata": {
    "slideshow": {
     "slide_type": "subslide"
    }
   },
   "source": [
    "## An ontology for \n",
    "### Lidar data and resources\n",
    "- Code or template for a lidar simulator\n",
    "- Avoid lidar black boxes \n"
   ]
  },
  {
   "cell_type": "markdown",
   "id": "framed-semiconductor",
   "metadata": {
    "slideshow": {
     "slide_type": "slide"
    }
   },
   "source": [
    "# Contact us\n",
    "\n",
    "- C. Ratti – carloar@enlightenergy.eu\n",
    "- D. Liu – liu@ifb.uni-stuttgart.de\n",
    "- A. Clifton – andy.clifton@enviconnect.de\n",
    "- A. Keane – aidan.keane@woodplc.com\n",
    "- A. Giyanani – ashim.giyanani@iwes.fraunhofer.de\n",
    "- F. Costa – costa@ifb.uni-stuttgart.de\n",
    "# Lidar Ontology \n",
    "## [Lidar Ontology viewer](https://data.windenergy.dtu.dk/ontologies/view/ontolidar/en/)\n",
    "# GitHub repository\n",
    "## [IEAWindTask52/Extract-lidar-ontology-concepts](https://github.com/IEAWindTask52/Extract-lidar-ontology-concepts.git)"
   ]
  }
 ],
 "metadata": {
  "celltoolbar": "Slideshow",
  "kernelspec": {
   "display_name": "Python 3",
   "language": "python",
   "name": "python3"
  },
  "language_info": {
   "codemirror_mode": {
    "name": "ipython",
    "version": 3
   },
   "file_extension": ".py",
   "mimetype": "text/x-python",
   "name": "python",
   "nbconvert_exporter": "python",
   "pygments_lexer": "ipython3",
   "version": "3.7.9"
  }
 },
 "nbformat": 4,
 "nbformat_minor": 5
}
