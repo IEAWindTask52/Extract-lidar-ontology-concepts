{
 "cells": [
  {
   "cell_type": "markdown",
   "id": "responsible-opera",
   "metadata": {
    "slideshow": {
     "slide_type": "slide"
    }
   },
   "source": [
    "![f](Pictures_repo/Cover_presentation.png)"
   ]
  },
  {
   "cell_type": "markdown",
   "id": "fe590c2b",
   "metadata": {
    "slideshow": {
     "slide_type": "notes"
    }
   },
   "source": [
    "During the meeting held last June, discussions centered around the Wind Lidar Ontology Viewer and the ongoing development of a Wind Lidar Ontology application aimed at leveraging the knowledge encapsulated within the Wind Lidar Ontology.\n",
    "The point of this meeting is to performe a brief tutorial on the wind lidar ontology tool. This digital application based on python programming is designed to facilitate the aquisition of information from the ontology viewer for subsequent utilisation. In this case for updating a YAML file used as a template for a lidar simulator. \n",
    "It is important to note that the current Ontology Group comprises a multidisciplinary team, comprising individuals from both academia and industry.  What we are showing today is just the tip of the iceberg of an extensive job undertaken by numerous contributors without whom this work would not have been feasible, people that have contributed as much or even more to this work. I am talking about People like Peter Clive, Andrew Clifton, Nikola Vasiljevic or members of the FAIR data Collective and we think their dedication and expertise deserve acknowledgment. \n",
    "\n",
    "Intro next slide: That said, and before starting with the demonstration of the digital application I would like to recap on the objectives of the Wind lidar ontology."
   ]
  },
  {
   "cell_type": "markdown",
   "id": "3daed72f",
   "metadata": {
    "slideshow": {
     "slide_type": "slide"
    }
   },
   "source": [
    "## Objective\n",
    "**1**. Develop a formal, clear and dedicated controlled vocabulary for lidar terms\n",
    "\n",
    "**2**. Convert lidar knowledge into FAIR\n",
    "\n",
    "**3**. Long term updates and maintenance of the ontology"
   ]
  },
  {
   "cell_type": "markdown",
   "id": "67807a42",
   "metadata": {
    "slideshow": {
     "slide_type": "notes"
    }
   },
   "source": [
    "All in all, the main goal is to support the lidar community. We know that a lidar community already exists, but it is made up of many parts speaking different jargons and use different terms for lidar concepts --> tools like the Lidar Ontology can help bring these parts together by establishing standardised definitions and terminology within this field. Agreeing on a single lidar language can greatly benefit this process.\n",
    "\n",
    "To do so, we think it is needed:  \n",
    "1. A formal, clear and dedicated controlled vocabulary for lidar terms. In the context of lidar would be useful to come up with a shared lidar language to help data and knowledge transfer. That‘s where ontologies come in, to establish standardized definitions and terminology within the field. By ensuring a common understanding across manufacturers, operators, and end-users, we aim to enhance communication and collaboration within the wind lidar community.\n",
    "2. Convert lidar knowledge into Fair lidar knowledge. This will encourage collaboration and information exchange among stakeholders. Also, facilitates participation of new entrants and dissemination among non-experts in lidar\n",
    "3. Ideally, the version is under continuous update. Due to evolution of new lidar applications and technology, frequent addition and edition of terms will be needed\n",
    "\n",
    "Introduction to next slide:\n"
   ]
  },
  {
   "cell_type": "markdown",
   "id": "chief-deviation",
   "metadata": {
    "slideshow": {
     "slide_type": "slide"
    }
   },
   "source": [
    "## Wind lidar ontology tool application \n",
    "\n",
    "https://github.com/IEAWindTask52/Extract-lidar-ontology-concepts\n",
    "    \n",
    "<div style=\"max-width:1000px;margin-left: 0px; margin-right:200px;margin-top: 20px; margin-bottom:50px;\">\n",
    "<img src=\"Pictures_repo/App_schema.png\" width=\"1700px\"/>\n",
    "</div>\n"
   ]
  },
  {
   "cell_type": "markdown",
   "id": "1cf2cd76",
   "metadata": {
    "slideshow": {
     "slide_type": "notes"
    }
   },
   "source": [
    "This slide illustrates the workflow followed by the Wind Lidar Ontology application. This presentation is based on a Jupyter notebook where a use case on how to use the wind lidar ontology concepts is developed. In this Jupyter notebook we explain how to:\n",
    "1. Download a lidar concept from the ontology viewer\n",
    "2. Extract the desired information from the downloaded data making use of the developed backend functions\n",
    "3. And an application case: The combination of information with local resources, in this case we want to update a template used as input for a lidar simulator.\n",
    "\n",
    "and this is what we are going to do today!\n",
    "\n",
    "**Visit the repository and show where the functions are**\n"
   ]
  },
  {
   "cell_type": "code",
   "execution_count": 1,
   "id": "strategic-somalia",
   "metadata": {
    "slideshow": {
     "slide_type": "slide"
    }
   },
   "outputs": [
    {
     "name": "stdout",
     "output_type": "stream",
     "text": [
      "Language? English\n"
     ]
    }
   ],
   "source": [
    "import json\n",
    "import sys\n",
    "import pprint\n",
    "\n",
    "# Import local functions:\n",
    "from fun.getLabel import getLabel\n",
    "from fun.edit_yaml_from_ontology import edit\n",
    "\n",
    "# Path to the local repository: \n",
    "sys.path.append(\"C:/SWE_LOCAL/Task32/Lidar_ontology/Example_coding_efficiency/LidarOntologyConceptsRepo/Extract-lidar-ontology-concepts/fun/\") \n",
    "# Path to the working directory\n",
    "path2data = r'./Ontology_Concepts/VAD_da' \n",
    "\n",
    "\n",
    "# Features of the lidar concepts we want to use/edit\n",
    "Preferred_Label, Alternative_Label, Definition='','',''\n",
    "Lidar_Dictionary = {}\n",
    "\n",
    "#Select language\n",
    "SelIdiom = input('Language? ') # \"English\", \"Spanish\", \"Chinese\" or \"Italian\""
   ]
  },
  {
   "cell_type": "markdown",
   "id": "d3569703",
   "metadata": {
    "slideshow": {
     "slide_type": "notes"
    }
   },
   "source": [
    "First, lets import the necessary local functions and packages needed to run the example, set up the local repo as well as the data directories,  define the fields we want to work with and how we want to store them, in this case in a pyhton dictionary. And select the language we want to use. So far the ontology is translated to English, Spanish, chinese and Italian (We are working in the german version as well). This is almost everything hardcoded, except the language... so English."
   ]
  },
  {
   "cell_type": "markdown",
   "id": "expensive-company",
   "metadata": {
    "slideshow": {
     "slide_type": "slide"
    }
   },
   "source": [
    "## Downloading the lidar concept\n",
    "\n",
    "**Step 1**. Visit https://data.windenergy.dtu.dk/ontologies/view/ontolidar/en/\n",
    "\n",
    "**Step 2**. Click on the ontology concept you are interested in downloading\n",
    "<div style=\"max-width:1000px;margin-left: 0px; margin-right:0px;margin-top: 0px; margin-bottom:0px;\">\n",
    "<img src=\"Pictures_repo/Fig1.png\" width=\"2200px\"/>\n",
    "</div>"
   ]
  },
  {
   "cell_type": "markdown",
   "id": "ordered-bankruptcy",
   "metadata": {
    "slideshow": {
     "slide_type": "slide"
    }
   },
   "source": [
    "## Downloading the lidar concept\n",
    "\n",
    "**Step 3**. Scroll down and click on ```Download this concept```\n",
    "<div style=\"max-width:1000px;margin-left: 0px; margin-right:410px;margin-top: 20px; margin-bottom:50px;\">\n",
    "<img src=\"Pictures_repo/Fig2.png\" width=\"750px\"/>\n",
    "</div>\n",
    "\n",
    "**Step 4**. Save the concept \n",
    "<div style=\"max-width:400px;margin-left: 0px; margin-right:auto;margin-top: 20px; margin-bottom:50px;\">\n",
    "<img src=\"./Pictures_repo/Fig3.png\" width=\"700px\"/>\n",
    "</div>"
   ]
  },
  {
   "cell_type": "markdown",
   "id": "stupid-symposium",
   "metadata": {
    "slideshow": {
     "slide_type": "slide"
    }
   },
   "source": [
    "### Velocity azimuth display\n",
    "Let's have a look to the data"
   ]
  },
  {
   "cell_type": "code",
   "execution_count": 3,
   "id": "sublime-means",
   "metadata": {
    "slideshow": {
     "slide_type": "fragment"
    }
   },
   "outputs": [
    {
     "name": "stdout",
     "output_type": "stream",
     "text": [
      "{   '@context': {   'altLabel': 'skos:altLabel',\n",
      "                    'broadMatch': 'skos:broadMatch',\n",
      "                    'broader': 'skos:broader',\n",
      "                    'closeMatch': 'skos:closeMatch',\n",
      "                    'dc11': 'http://purl.org/dc/elements/1.1/',\n",
      "                    'dct': 'http://purl.org/dc/terms/',\n",
      "                    'exactMatch': 'skos:exactMatch',\n",
      "                    'graph': '@graph',\n",
      "                    'hiddenLabel': 'skos:hiddenLabel',\n",
      "                    'inScheme': 'skos:inScheme',\n",
      "                    'isothes': 'http://purl.org/iso25964/skos-thes#',\n",
      "                    'label': 'rdfs:label',\n",
      "                    'lang': '@language',\n",
      "                    'narrowMatch': 'skos:narrowMatch',\n",
      "                    'narrower': 'skos:narrower',\n",
      "                    'owl': 'http://www.w3.org/2002/07/owl#',\n",
      "                    'prefLabel': 'skos:prefLabel',\n",
      "                    'rdfs': 'http://www.w3.org/2000/01/rdf-schema#',\n",
      "                    'related': 'skos:related',\n",
      "                    'relatedMatch': 'skos:relatedMatch',\n",
      "                    'skos': 'http://www.w3.org/2004/02/skos/core#',\n",
      "                    'type': '@type',\n",
      "                    'uri': '@id',\n",
      "                    'value': '@value'},\n",
      "    'graph': [   {   'prefLabel': {   'lang': 'en',\n",
      "                                      'value': 'IEA Wind Task 32 Wind Lidar '\n",
      "                                               'Ontology'},\n",
      "                     'type': 'skos:ConceptScheme',\n",
      "                     'uri': 'http://vocab.ieawindtask32.org/wind-lidar-ontology/'},\n",
      "                 {   'altLabel': {'lang': 'en', 'value': 'VAD'},\n",
      "                     'broader': {   'uri': 'http://vocab.ieawindtask32.org/wind-lidar-ontology/WindfieldReconstruction'},\n",
      "                     'inScheme': {   'uri': 'http://vocab.ieawindtask32.org/wind-lidar-ontology/'},\n",
      "                     'prefLabel': [   {   'lang': 'es',\n",
      "                                          'value': 'Muestreo de velocidad en '\n",
      "                                                   'azimut'},\n",
      "                                      {   'lang': 'it',\n",
      "                                          'value': 'Campionamento di velocità '\n",
      "                                                   'in azimut'},\n",
      "                                      {'lang': 'cn', 'value': '速度-方位角（VAD）测量法'},\n",
      "                                      {   'lang': 'en',\n",
      "                                          'value': 'Velocity-azimuth display'}],\n",
      "                     'skos:definition': [   {   'lang': 'it',\n",
      "                                                'value': 'Un particolare '\n",
      "                                                         'metodo di analisi '\n",
      "                                                         'dati di un lidar a '\n",
      "                                                         'geometria conica. '\n",
      "                                                         'Data una scansione '\n",
      "                                                         'completa del cono ad '\n",
      "                                                         'una specifica '\n",
      "                                                         'altezza, i punti di '\n",
      "                                                         'misurazione contigui '\n",
      "                                                         \"l'uno all'altro \"\n",
      "                                                         'nello spazio vengono '\n",
      "                                                         'combinati secondo '\n",
      "                                                         'metodi statistici di '\n",
      "                                                         'interpolazione per '\n",
      "                                                         'ricostruire la '\n",
      "                                                         'velocità del vento.'},\n",
      "                                            {   'lang': 'cn',\n",
      "                                                'value': 'VAD是一种测风激光雷达的测量方法，通过倒圆锥形的扫描方式，雷达可以对许多间隔很近的方位角点进行采样，然后使用统计拟合方法将数据用于推算每个高度的风速。'},\n",
      "                                            {   'lang': 'es',\n",
      "                                                'value': 'VAD es un método de '\n",
      "                                                         'análisis de datos '\n",
      "                                                         'provenientes de un '\n",
      "                                                         'escaneo de geometría '\n",
      "                                                         'cónica en el que '\n",
      "                                                         'varios puntos '\n",
      "                                                         'azimutales '\n",
      "                                                         'estrechamente '\n",
      "                                                         'espaciados son '\n",
      "                                                         'muestreados por el '\n",
      "                                                         'lidar. Dichos datos '\n",
      "                                                         'se utilizan para '\n",
      "                                                         'estimar la velocidad '\n",
      "                                                         'del viento a una '\n",
      "                                                         'determinada altura '\n",
      "                                                         'utilizanso métodos '\n",
      "                                                         'de ajuste '\n",
      "                                                         'estadísticos.'},\n",
      "                                            {   'lang': 'en',\n",
      "                                                'value': 'VAD is a method of '\n",
      "                                                         'analyzing data from '\n",
      "                                                         'a complete conical '\n",
      "                                                         'scan whereby many '\n",
      "                                                         'closely spaced '\n",
      "                                                         'azimuthal points may '\n",
      "                                                         'be sampled by the '\n",
      "                                                         'lidar, and the data '\n",
      "                                                         'are used to estimate '\n",
      "                                                         'the wind speed at '\n",
      "                                                         'each height using a '\n",
      "                                                         'statistical fitting '\n",
      "                                                         'method.'}],\n",
      "                     'skos:editorialNote': [   {   'lang': 'en',\n",
      "                                                   'value': 'The VAD method is '\n",
      "                                                            'described in '\n",
      "                                                            'Lhermitte (1966) '\n",
      "                                                            'and Browning and '\n",
      "                                                            'Wexler (1968).'},\n",
      "                                               {   'lang': 'it',\n",
      "                                                   'value': 'Il metodo VAD è '\n",
      "                                                            'descritto in '\n",
      "                                                            'Lhermitte (1966) '\n",
      "                                                            'e Bowning e '\n",
      "                                                            'Wexler (1968).'}],\n",
      "                     'type': 'skos:Concept',\n",
      "                     'uri': 'http://vocab.ieawindtask32.org/wind-lidar-ontology/VelocityAzimuthDisplay'},\n",
      "                 {   'narrower': {   'uri': 'http://vocab.ieawindtask32.org/wind-lidar-ontology/VelocityAzimuthDisplay'},\n",
      "                     'prefLabel': [   {'lang': 'cn', 'value': '气流（风）流场重构'},\n",
      "                                      {   'lang': 'de',\n",
      "                                          'value': 'Windfeld Rekonstruktion'},\n",
      "                                      {   'lang': 'es',\n",
      "                                          'value': 'Reconstrucción del campo '\n",
      "                                                   'de vientos'},\n",
      "                                      {   'lang': 'it',\n",
      "                                          'value': 'Ricostruzione del campo di '\n",
      "                                                   'vento'},\n",
      "                                      {   'lang': 'en',\n",
      "                                          'value': 'Windfield Reconstruction'}],\n",
      "                     'type': 'skos:Concept',\n",
      "                     'uri': 'http://vocab.ieawindtask32.org/wind-lidar-ontology/WindfieldReconstruction'}]}\n"
     ]
    }
   ],
   "source": [
    "with open(r'.\\Ontology_Concepts\\VAD_da', encoding='utf-8') as f:\n",
    "    d = json.load(f)\n",
    "pp = pprint.PrettyPrinter(indent=4) \n",
    "pp.pprint(d) "
   ]
  },
  {
   "cell_type": "markdown",
   "id": "6f269734",
   "metadata": {
    "slideshow": {
     "slide_type": "notes"
    }
   },
   "source": [
    "Once we have downloaded the data we can have a look to the information it contains to understand the underlying structure of the data and metadata. Here we can see a representation of the RDF graph statement of the downloaded wind lidar concept, in this case Velocity azimuth display. It is important to use well-defined data models to document and maintain an ontology. Ideally they should be a mixture of human- and machine-readable data models that can be straightforwardly presented to users. In the current context, this is achieved using the Resource Description Framework (RDF) and the Simple Knowledge Organisation System (SKOS)."
   ]
  },
  {
   "cell_type": "markdown",
   "id": "economic-boating",
   "metadata": {
    "slideshow": {
     "slide_type": "slide"
    }
   },
   "source": [
    "## Extract data\n",
    "- ``definition``\n",
    "- ``prefLabel``\n",
    "- ``altLabel`` "
   ]
  },
  {
   "cell_type": "markdown",
   "id": "d86a69ce",
   "metadata": {
    "slideshow": {
     "slide_type": "notes"
    }
   },
   "source": [
    "We want to make use of the fields 'Definition', \"Preferred label\" denoted as 'preflabel' and alternative label or 'altlabel'. Users are able to extract other elements by replacing label keys."
   ]
  },
  {
   "cell_type": "markdown",
   "id": "ancient-macedonia",
   "metadata": {
    "slideshow": {
     "slide_type": "slide"
    }
   },
   "source": [
    "## Extract data\n",
    "**Step 1**. Find the path to the data (dictionary keys):"
   ]
  },
  {
   "cell_type": "code",
   "execution_count": 4,
   "id": "pacific-coast",
   "metadata": {
    "slideshow": {
     "slide_type": "-"
    }
   },
   "outputs": [
    {
     "name": "stdout",
     "output_type": "stream",
     "text": [
      "dict_keys(['uri', 'type', 'altLabel', 'broader', 'skos:definition', 'skos:editorialNote', 'inScheme', 'prefLabel'])\n"
     ]
    }
   ],
   "source": [
    "index_inScheme=1\n",
    "m = d['graph'][index_inScheme].keys()\n",
    "while 'inScheme' not in m:\n",
    "    index_inScheme += 1\n",
    "    m = d['graph'][index_inScheme].keys()\n",
    "print(m)"
   ]
  },
  {
   "cell_type": "markdown",
   "id": "3b6b0981",
   "metadata": {
    "slideshow": {
     "slide_type": "notes"
    }
   },
   "source": [
    "From the previous RDF document and making use of this snippet code, we can find the level, within the nested dictionary, where pertinent information is located and extract the keys where relevant values are encapsulated."
   ]
  },
  {
   "cell_type": "markdown",
   "id": "enclosed-brain",
   "metadata": {
    "slideshow": {
     "slide_type": "slide"
    }
   },
   "source": [
    "## Extract data\n",
    "**Step 2**. Get information of the lidar concept provided by the lidar ontology"
   ]
  },
  {
   "cell_type": "code",
   "execution_count": 5,
   "id": "rising-slovak",
   "metadata": {
    "slideshow": {
     "slide_type": "-"
    }
   },
   "outputs": [
    {
     "name": "stdout",
     "output_type": "stream",
     "text": [
      "{'Definition': 'VAD is a method of analyzing data from a complete conical scan whereby many closely spaced azimuthal points may be sampled by the lidar, and the data are used to estimate the wind speed at each height using a statistical fitting method.', 'Alternative Label': 'VAD', 'Preferred Label': 'VAD'}\n"
     ]
    }
   ],
   "source": [
    "# Get individual key-value pairs depending on the key requested\n",
    "Definition        = getLabel(path2data, key =\"skos:definition\", lang='en', index_inScheme=1)\n",
    "Alternative_Label = getLabel(path2data, key = \"altLabel\", lang='en', index_inScheme=1)\n",
    "Preferred_Label   = getLabel(path2data, key = \"altLabel\", lang='en', index_inScheme=1)\n",
    "\n",
    "#Save in a new dictionary  \n",
    "Lidar_Dictionary['Definition']        = Definition\n",
    "Lidar_Dictionary['Alternative Label'] = Alternative_Label\n",
    "Lidar_Dictionary['Preferred Label']   = Preferred_Label\n",
    "\n",
    "print(Lidar_Dictionary)"
   ]
  },
  {
   "cell_type": "markdown",
   "id": "f78b950d",
   "metadata": {
    "slideshow": {
     "slide_type": "notes"
    }
   },
   "source": [
    "Once we reach the desired nested level, we can extract the information we are looking for that is Definition, Alternatve label and preferre label. Intro next slide: And now, what could we do with this information?"
   ]
  },
  {
   "cell_type": "markdown",
   "id": "devoted-ghost",
   "metadata": {
    "slideshow": {
     "slide_type": "slide"
    }
   },
   "source": [
    "## What to do with these data? "
   ]
  },
  {
   "cell_type": "markdown",
   "id": "ideal-grace",
   "metadata": {
    "slideshow": {
     "slide_type": "-"
    }
   },
   "source": [
    "### Connect with local resources\n",
    "- Edit/Update lidar simulator template\n",
    "- External databases \n"
   ]
  },
  {
   "cell_type": "markdown",
   "id": "f44a1775",
   "metadata": {
    "slideshow": {
     "slide_type": "notes"
    }
   },
   "source": [
    "- Input for lidar simulators\n",
    "- Link to external Databases to speed upl data analysis"
   ]
  },
  {
   "cell_type": "markdown",
   "id": "leading-honolulu",
   "metadata": {
    "slideshow": {
     "slide_type": "slide"
    }
   },
   "source": [
    "# Example: Input for a lidar simulator\n",
    "\n",
    "__1)__ Select our lidar simulator local template"
   ]
  },
  {
   "cell_type": "markdown",
   "id": "a9bc3a56",
   "metadata": {
    "slideshow": {
     "slide_type": "notes"
    }
   },
   "source": [
    "In this example we are going to update a local lidar simulator template. Our template is located in this local directory"
   ]
  },
  {
   "cell_type": "code",
   "execution_count": 6,
   "id": "improving-rider",
   "metadata": {
    "slideshow": {
     "slide_type": "-"
    }
   },
   "outputs": [],
   "source": [
    "local_yaml = './Ontology_yml.yml'"
   ]
  },
  {
   "cell_type": "markdown",
   "id": "flexible-phase",
   "metadata": {
    "slideshow": {
     "slide_type": "slide"
    }
   },
   "source": [
    "# Example: Input for a lidar simulator\n",
    "\n",
    "<div style=\"max-width:1000px;margin-left: 0px; margin-right:200px;margin-top: 0px; margin-bottom:0px;\">\n",
    "<img src=\"Pictures_repo/Yaml_local.png\" width=\"2000px\"/>\n",
    "</div>"
   ]
  },
  {
   "cell_type": "markdown",
   "id": "furnished-paintball",
   "metadata": {
    "slideshow": {
     "slide_type": "slide"
    }
   },
   "source": [
    "## Example: Input for a lidar simulator\n",
    "__2)__ Select the lidar concept to be edited"
   ]
  },
  {
   "cell_type": "code",
   "execution_count": 7,
   "id": "answering-blink",
   "metadata": {
    "slideshow": {
     "slide_type": "-"
    }
   },
   "outputs": [],
   "source": [
    "tag = 'Velocity azimuth display'"
   ]
  },
  {
   "cell_type": "markdown",
   "id": "competitive-greenhouse",
   "metadata": {
    "slideshow": {
     "slide_type": "notes"
    }
   },
   "source": [
    "'Velocity azimuth display'"
   ]
  },
  {
   "cell_type": "markdown",
   "id": "reported-destruction",
   "metadata": {
    "slideshow": {
     "slide_type": "slide"
    }
   },
   "source": [
    "## Example: Input for a lidar simulator\n",
    "__3)__ Select the variable to be edited "
   ]
  },
  {
   "cell_type": "code",
   "execution_count": 8,
   "id": "honey-roommate",
   "metadata": {
    "slideshow": {
     "slide_type": "-"
    }
   },
   "outputs": [],
   "source": [
    "fields2change = ['Definition','Alternative Label']"
   ]
  },
  {
   "cell_type": "markdown",
   "id": "infectious-hindu",
   "metadata": {
    "slideshow": {
     "slide_type": "notes"
    }
   },
   "source": [
    "'Definition','Alternative Label'"
   ]
  },
  {
   "cell_type": "markdown",
   "id": "alternate-quest",
   "metadata": {
    "slideshow": {
     "slide_type": "slide"
    }
   },
   "source": [
    "## Example: Input for a lidar simulator\n",
    "__4)__ Edit the local yaml file"
   ]
  },
  {
   "cell_type": "markdown",
   "id": "formal-excerpt",
   "metadata": {
    "slideshow": {
     "slide_type": "notes"
    }
   },
   "source": [
    "The `edit_yaml_from_ontology.edit` function reads the user's lidar input template, finds and edits items and saves the updated yaml file. Gives priority to the information contained in the yaml file."
   ]
  },
  {
   "cell_type": "code",
   "execution_count": 9,
   "id": "departmental-croatia",
   "metadata": {
    "slideshow": {
     "slide_type": "-"
    }
   },
   "outputs": [],
   "source": [
    "edit(local_yaml,tag,fields2change,Lidar_Dictionary) "
   ]
  },
  {
   "cell_type": "markdown",
   "id": "caroline-opposition",
   "metadata": {
    "slideshow": {
     "slide_type": "fragment"
    }
   },
   "source": [
    "<div style=\"max-width:2000px;margin-left: 0px; margin-right:200px;margin-top: 20px; margin-bottom:0px;\">\n",
    "<img src=\"Pictures_repo/Yaml_edited.png\" width=\"1700px\"/>\n",
    "</div>"
   ]
  },
  {
   "cell_type": "markdown",
   "id": "plastic-potential",
   "metadata": {
    "slideshow": {
     "slide_type": "slide"
    }
   },
   "source": [
    "<div style=\"max-width:1000px;margin-left: 0px; margin-right:200px;margin-top: 20px; margin-bottom:50px;\">\n",
    "<img src=\"Pictures_repo/Article.png\" width=\"1000px\"/>\n",
    "</div>"
   ]
  },
  {
   "cell_type": "markdown",
   "id": "0d371b9d",
   "metadata": {
    "slideshow": {
     "slide_type": "slide"
    }
   },
   "source": [
    "![f](Pictures_repo/Benefits_Ontology.png)"
   ]
  },
  {
   "cell_type": "markdown",
   "id": "bd50363b",
   "metadata": {
    "slideshow": {
     "slide_type": "notes"
    }
   },
   "source": [
    "Likewise we could use this methodology to extract information for \n",
    "### Desing and use of lidar\n",
    "- Manufacturing processes\n",
    "- Deployment, operation and testing\n",
    "- Maintenance\n",
    "- Data sharing and speed up data acquisition and analysis\n",
    "### Lidar task-specific optimization\n",
    "- Lidar assisted wind turbine control \n",
    "- Pre- and post- campaign preparation\n",
    "\n",
    "### Market acceptance\n",
    "- Generic IEC standards and definitions\n",
    "- Generic Safety protocols (Lidar safety class for public purposes)"
   ]
  },
  {
   "cell_type": "markdown",
   "id": "functional-liquid",
   "metadata": {
    "slideshow": {
     "slide_type": "slide"
    }
   },
   "source": [
    "## An ontology for \n",
    "### Lidar data and resources\n",
    "- Avoid lidar black boxes \n",
    "- Increase the possibilities for innovation\n",
    "- Sharing data and knowledge and resources (code)"
   ]
  },
  {
   "cell_type": "markdown",
   "id": "framed-semiconductor",
   "metadata": {
    "slideshow": {
     "slide_type": "slide"
    }
   },
   "source": [
    "# Contact us\n",
    "\n",
    "- C. Ratti – carloar@enlightenergy.eu\n",
    "- D. Liu – liu@ifb.uni-stuttgart.de\n",
    "- A. Clifton – andy.clifton@enviconnect.de\n",
    "- A. Keane – aidan.keane@woodplc.com\n",
    "- A. Giyanani – ashim.giyanani@iwes.fraunhofer.de\n",
    "- F. Costa – costa@ifb.uni-stuttgart.de\n",
    "# Lidar Ontology --> [Lidar Ontology viewer](https://data.windenergy.dtu.dk/ontologies/view/ontolidar/en/)\n",
    "# GitHub repository --> [IEAWindTask52/Extract-lidar-ontology-concepts](https://github.com/IEAWindTask52/Extract-lidar-ontology-concepts.git)"
   ]
  }
 ],
 "metadata": {
  "celltoolbar": "Slideshow",
  "kernelspec": {
   "display_name": "Python 3 (ipykernel)",
   "language": "python",
   "name": "python3"
  },
  "language_info": {
   "codemirror_mode": {
    "name": "ipython",
    "version": 3
   },
   "file_extension": ".py",
   "mimetype": "text/x-python",
   "name": "python",
   "nbconvert_exporter": "python",
   "pygments_lexer": "ipython3",
   "version": "3.11.5"
  }
 },
 "nbformat": 4,
 "nbformat_minor": 5
}
