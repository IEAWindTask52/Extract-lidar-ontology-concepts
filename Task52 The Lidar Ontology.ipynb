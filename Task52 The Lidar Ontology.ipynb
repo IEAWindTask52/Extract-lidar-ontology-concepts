{
 "cells": [
  {
   "cell_type": "markdown",
   "id": "eligible-ordinance",
   "metadata": {
    "slideshow": {
     "slide_type": "slide"
    }
   },
   "source": [
    "### Downloading a lidar concept\n",
    "**Step 0**. Visit https://data.windenergy.dtu.dk/ontologies/view/ontolidar/en/\n",
    "\n",
    "\n",
    "**Step 1**. Click on the ontology concept you are interested in downloading\n",
    "<div style=\"max-width:1000px;margin-left: 0px; margin-right:200px;margin-top: 20px; margin-bottom:50px;\">\n",
    "<img src=\"Pictures_repo/Fig1.png\" width=\"200px\"/>\n",
    "</div>\n",
    "\n",
    "\n",
    "\n",
    "**Step 2**. Scroll down and click on ```Download this concept``` --> download JSON-LD format\n",
    "User can download other formats, but will be incompatible with this tutorial.\n",
    "\n",
    "<div style=\"max-width:1000px;margin-left: 0px; margin-right:410px;margin-top: 20px; margin-bottom:50px;\">\n",
    "<img src=\"Pictures_repo/Fig2.png\" width=\"550px\"/>\n",
    "</div>\n",
    "\n",
    "\n",
    "**Step 3**. Save the concept \n",
    "\n",
    "<div style=\"max-width:400px;margin-left: 0px; margin-right:auto;margin-top: 20px; margin-bottom:50px;\">\n",
    "<img src=\"./Pictures_repo/Fig3.png\" width=\"500px\"/>\n",
    "</div>\n",
    "\n"
   ]
  },
  {
   "cell_type": "code",
   "execution_count": null,
   "id": "expected-article",
   "metadata": {},
   "outputs": [],
   "source": []
  },
  {
   "cell_type": "code",
   "execution_count": 8,
   "id": "lesser-victor",
   "metadata": {
    "slideshow": {
     "slide_type": "slide"
    }
   },
   "outputs": [],
   "source": [
    "import json\n",
    "import sys\n",
    "#import yaml\n",
    "#import ruamel.yaml\n",
    "import pdb\n",
    "sys.path.append(\"C:/SWE_LOCAL/Task32/Lidar_ontology/Example_coding_efficiency/LidarOntologyConceptsRepo/Extract-lidar-ontology-concepts/fun/\") \n",
    "\n",
    "Preferred_Label,Alternative_Label,Definition='','',''\n",
    "Lidar_Dictionary = {}"
   ]
  },
  {
   "cell_type": "code",
   "execution_count": 9,
   "id": "arbitrary-browser",
   "metadata": {
    "slideshow": {
     "slide_type": "slide"
    }
   },
   "outputs": [
    {
     "name": "stdout",
     "output_type": "stream",
     "text": [
      "Language? E\n"
     ]
    }
   ],
   "source": [
    "SelIdiom=input('Language? ') # \"English\", \"Spanish\", \"Chinese\" or \"Italian\""
   ]
  },
  {
   "cell_type": "markdown",
   "id": "golden-fiction",
   "metadata": {
    "slideshow": {
     "slide_type": "slide"
    }
   },
   "source": [
    "Save your downloaded json or rdf turtle files in the Ontology_Concepts folder. The script Extract_Data_From_Ontology.ipynb (this notebook) will guide you through the basics of lidar ontology use. The following ``dir`` command describes the folder structure. Use the Add_concepts.txt template to let us know if new concepts should be added or there should be any revision in the existing ones. "
   ]
  },
  {
   "cell_type": "code",
   "execution_count": 10,
   "id": "transsexual-hospital",
   "metadata": {
    "slideshow": {
     "slide_type": "slide"
    }
   },
   "outputs": [
    {
     "name": "stdout",
     "output_type": "stream",
     "text": [
      "{'@context': {'skos': 'http://www.w3.org/2004/02/skos/core#', 'isothes': 'http://purl.org/iso25964/skos-thes#', 'rdfs': 'http://www.w3.org/2000/01/rdf-schema#', 'owl': 'http://www.w3.org/2002/07/owl#', 'dct': 'http://purl.org/dc/terms/', 'dc11': 'http://purl.org/dc/elements/1.1/', 'uri': '@id', 'type': '@type', 'lang': '@language', 'value': '@value', 'graph': '@graph', 'label': 'rdfs:label', 'prefLabel': 'skos:prefLabel', 'altLabel': 'skos:altLabel', 'hiddenLabel': 'skos:hiddenLabel', 'broader': 'skos:broader', 'narrower': 'skos:narrower', 'related': 'skos:related', 'inScheme': 'skos:inScheme', 'exactMatch': 'skos:exactMatch', 'closeMatch': 'skos:closeMatch', 'broadMatch': 'skos:broadMatch', 'narrowMatch': 'skos:narrowMatch', 'relatedMatch': 'skos:relatedMatch'}, 'graph': [{'uri': 'http://vocab.ieawindtask32.org/wind-lidar-ontology/', 'type': 'skos:ConceptScheme', 'prefLabel': {'lang': 'en', 'value': 'IEA Wind Task 32 Wind Lidar Ontology'}}, {'uri': 'http://vocab.ieawindtask32.org/wind-lidar-ontology/VelocityAzimuthDisplay', 'type': 'skos:Concept', 'altLabel': {'lang': 'en', 'value': 'VAD'}, 'broader': {'uri': 'http://vocab.ieawindtask32.org/wind-lidar-ontology/WindfieldReconstruction'}, 'skos:definition': [{'lang': 'it', 'value': \"Un particolare metodo di analisi dati di un lidar a geometria conica. Data una scansione completa del cono ad una specifica altezza, i punti di misurazione contigui l'uno all'altro nello spazio vengono combinati secondo metodi statistici di interpolazione per ricostruire la velocità del vento.\"}, {'lang': 'cn', 'value': 'VAD是一种测风激光雷达的测量方法，通过倒圆锥形的扫描方式，雷达可以对许多间隔很近的方位角点进行采样，然后使用统计拟合方法将数据用于推算每个高度的风速。'}, {'lang': 'es', 'value': 'VAD es un método de análisis de datos provenientes de un escaneo de geometría cónica en el que varios puntos azimutales estrechamente espaciados son muestreados por el lidar. Dichos datos se utilizan para estimar la velocidad del viento a una determinada altura utilizanso métodos de ajuste estadísticos.'}, {'lang': 'en', 'value': 'VAD is a method of analyzing data from a complete conical scan whereby many closely spaced azimuthal points may be sampled by the lidar, and the data are used to estimate the wind speed at each height using a statistical fitting method.'}], 'skos:editorialNote': [{'lang': 'en', 'value': 'The VAD method is described in Lhermitte (1966) and Browning and Wexler (1968).'}, {'lang': 'it', 'value': 'Il metodo VAD è descritto in Lhermitte (1966) e Bowning e Wexler (1968).'}], 'inScheme': {'uri': 'http://vocab.ieawindtask32.org/wind-lidar-ontology/'}, 'prefLabel': [{'lang': 'es', 'value': 'Muestreo de velocidad en azimut'}, {'lang': 'it', 'value': 'Campionamento di velocità in azimut'}, {'lang': 'cn', 'value': '速度-方位角（VAD）测量法'}, {'lang': 'en', 'value': 'Velocity-azimuth display'}]}, {'uri': 'http://vocab.ieawindtask32.org/wind-lidar-ontology/WindfieldReconstruction', 'type': 'skos:Concept', 'narrower': {'uri': 'http://vocab.ieawindtask32.org/wind-lidar-ontology/VelocityAzimuthDisplay'}, 'prefLabel': [{'lang': 'cn', 'value': '气流（风）流场重构'}, {'lang': 'de', 'value': 'Windfeld Rekonstruktion'}, {'lang': 'es', 'value': 'Reconstrucción del campo de vientos'}, {'lang': 'it', 'value': 'Ricostruzione del campo di vento'}, {'lang': 'en', 'value': 'Windfield Reconstruction'}]}]}\n",
      "{   '@context': {   'altLabel': 'skos:altLabel',\n",
      "                    'broadMatch': 'skos:broadMatch',\n",
      "                    'broader': 'skos:broader',\n",
      "                    'closeMatch': 'skos:closeMatch',\n",
      "                    'dc11': 'http://purl.org/dc/elements/1.1/',\n",
      "                    'dct': 'http://purl.org/dc/terms/',\n",
      "                    'exactMatch': 'skos:exactMatch',\n",
      "                    'graph': '@graph',\n",
      "                    'hiddenLabel': 'skos:hiddenLabel',\n",
      "                    'inScheme': 'skos:inScheme',\n",
      "                    'isothes': 'http://purl.org/iso25964/skos-thes#',\n",
      "                    'label': 'rdfs:label',\n",
      "                    'lang': '@language',\n",
      "                    'narrowMatch': 'skos:narrowMatch',\n",
      "                    'narrower': 'skos:narrower',\n",
      "                    'owl': 'http://www.w3.org/2002/07/owl#',\n",
      "                    'prefLabel': 'skos:prefLabel',\n",
      "                    'rdfs': 'http://www.w3.org/2000/01/rdf-schema#',\n",
      "                    'related': 'skos:related',\n",
      "                    'relatedMatch': 'skos:relatedMatch',\n",
      "                    'skos': 'http://www.w3.org/2004/02/skos/core#',\n",
      "                    'type': '@type',\n",
      "                    'uri': '@id',\n",
      "                    'value': '@value'},\n",
      "    'graph': [   {   'prefLabel': {   'lang': 'en',\n",
      "                                      'value': 'IEA Wind Task 32 Wind Lidar '\n",
      "                                               'Ontology'},\n",
      "                     'type': 'skos:ConceptScheme',\n",
      "                     'uri': 'http://vocab.ieawindtask32.org/wind-lidar-ontology/'},\n",
      "                 {   'altLabel': {'lang': 'en', 'value': 'VAD'},\n",
      "                     'broader': {   'uri': 'http://vocab.ieawindtask32.org/wind-lidar-ontology/WindfieldReconstruction'},\n",
      "                     'inScheme': {   'uri': 'http://vocab.ieawindtask32.org/wind-lidar-ontology/'},\n",
      "                     'prefLabel': [   {   'lang': 'es',\n",
      "                                          'value': 'Muestreo de velocidad en '\n",
      "                                                   'azimut'},\n",
      "                                      {   'lang': 'it',\n",
      "                                          'value': 'Campionamento di velocità '\n",
      "                                                   'in azimut'},\n",
      "                                      {'lang': 'cn', 'value': '速度-方位角（VAD）测量法'},\n",
      "                                      {   'lang': 'en',\n",
      "                                          'value': 'Velocity-azimuth display'}],\n",
      "                     'skos:definition': [   {   'lang': 'it',\n",
      "                                                'value': 'Un particolare '\n",
      "                                                         'metodo di analisi '\n",
      "                                                         'dati di un lidar a '\n",
      "                                                         'geometria conica. '\n",
      "                                                         'Data una scansione '\n",
      "                                                         'completa del cono ad '\n",
      "                                                         'una specifica '\n",
      "                                                         'altezza, i punti di '\n",
      "                                                         'misurazione contigui '\n",
      "                                                         \"l'uno all'altro \"\n",
      "                                                         'nello spazio vengono '\n",
      "                                                         'combinati secondo '\n",
      "                                                         'metodi statistici di '\n",
      "                                                         'interpolazione per '\n",
      "                                                         'ricostruire la '\n",
      "                                                         'velocità del vento.'},\n",
      "                                            {   'lang': 'cn',\n",
      "                                                'value': 'VAD是一种测风激光雷达的测量方法，通过倒圆锥形的扫描方式，雷达可以对许多间隔很近的方位角点进行采样，然后使用统计拟合方法将数据用于推算每个高度的风速。'},\n",
      "                                            {   'lang': 'es',\n",
      "                                                'value': 'VAD es un método de '\n",
      "                                                         'análisis de datos '\n",
      "                                                         'provenientes de un '\n",
      "                                                         'escaneo de geometría '\n",
      "                                                         'cónica en el que '\n",
      "                                                         'varios puntos '\n",
      "                                                         'azimutales '\n",
      "                                                         'estrechamente '\n",
      "                                                         'espaciados son '\n",
      "                                                         'muestreados por el '\n",
      "                                                         'lidar. Dichos datos '\n",
      "                                                         'se utilizan para '\n",
      "                                                         'estimar la velocidad '\n",
      "                                                         'del viento a una '\n",
      "                                                         'determinada altura '\n",
      "                                                         'utilizanso métodos '\n",
      "                                                         'de ajuste '\n",
      "                                                         'estadísticos.'},\n",
      "                                            {   'lang': 'en',\n",
      "                                                'value': 'VAD is a method of '\n",
      "                                                         'analyzing data from '\n",
      "                                                         'a complete conical '\n",
      "                                                         'scan whereby many '\n",
      "                                                         'closely spaced '\n",
      "                                                         'azimuthal points may '\n",
      "                                                         'be sampled by the '\n",
      "                                                         'lidar, and the data '\n",
      "                                                         'are used to estimate '\n",
      "                                                         'the wind speed at '\n",
      "                                                         'each height using a '\n",
      "                                                         'statistical fitting '\n",
      "                                                         'method.'}],\n",
      "                     'skos:editorialNote': [   {   'lang': 'en',\n",
      "                                                   'value': 'The VAD method is '\n",
      "                                                            'described in '\n",
      "                                                            'Lhermitte (1966) '\n",
      "                                                            'and Browning and '\n",
      "                                                            'Wexler (1968).'},\n",
      "                                               {   'lang': 'it',\n",
      "                                                   'value': 'Il metodo VAD è '\n",
      "                                                            'descritto in '\n",
      "                                                            'Lhermitte (1966) '\n",
      "                                                            'e Bowning e '\n",
      "                                                            'Wexler (1968).'}],\n",
      "                     'type': 'skos:Concept',\n",
      "                     'uri': 'http://vocab.ieawindtask32.org/wind-lidar-ontology/VelocityAzimuthDisplay'},\n",
      "                 {   'narrower': {   'uri': 'http://vocab.ieawindtask32.org/wind-lidar-ontology/VelocityAzimuthDisplay'},\n",
      "                     'prefLabel': [   {'lang': 'cn', 'value': '气流（风）流场重构'},\n",
      "                                      {   'lang': 'de',\n",
      "                                          'value': 'Windfeld Rekonstruktion'},\n",
      "                                      {   'lang': 'es',\n",
      "                                          'value': 'Reconstrucción del campo '\n",
      "                                                   'de vientos'},\n",
      "                                      {   'lang': 'it',\n",
      "                                          'value': 'Ricostruzione del campo di '\n",
      "                                                   'vento'},\n",
      "                                      {   'lang': 'en',\n",
      "                                          'value': 'Windfield Reconstruction'}],\n",
      "                     'type': 'skos:Concept',\n",
      "                     'uri': 'http://vocab.ieawindtask32.org/wind-lidar-ontology/WindfieldReconstruction'}]}\n"
     ]
    }
   ],
   "source": [
    "# Open the file that users download from (https://data.windenergy.dtu.dk/ontologies/view/ontolidar/en/)\n",
    "with open(r'.\\Ontology_Concepts\\VAD_da', encoding='utf-8') as f:\n",
    "    d = json.load(f)\n",
    "\n",
    "print(d)\n",
    "\n",
    "import pprint\n",
    "pp = pprint.PrettyPrinter(indent=4)\n",
    "pp.pprint(d)"
   ]
  },
  {
   "cell_type": "code",
   "execution_count": 11,
   "id": "prescription-henry",
   "metadata": {
    "slideshow": {
     "slide_type": "slide"
    }
   },
   "outputs": [
    {
     "name": "stdout",
     "output_type": "stream",
     "text": [
      "{'@context': {'skos': 'http://www.w3.org/2004/02/skos/core#', 'isothes': 'http://purl.org/iso25964/skos-thes#', 'rdfs': 'http://www.w3.org/2000/01/rdf-schema#', 'owl': 'http://www.w3.org/2002/07/owl#', 'dct': 'http://purl.org/dc/terms/', 'dc11': 'http://purl.org/dc/elements/1.1/', 'uri': '@id', 'type': '@type', 'lang': '@language', 'value': '@value', 'graph': '@graph', 'label': 'rdfs:label', 'prefLabel': 'skos:prefLabel', 'altLabel': 'skos:altLabel', 'hiddenLabel': 'skos:hiddenLabel', 'broader': 'skos:broader', 'narrower': 'skos:narrower', 'related': 'skos:related', 'inScheme': 'skos:inScheme', 'exactMatch': 'skos:exactMatch', 'closeMatch': 'skos:closeMatch', 'broadMatch': 'skos:broadMatch', 'narrowMatch': 'skos:narrowMatch', 'relatedMatch': 'skos:relatedMatch'}, 'graph': [{'uri': 'http://vocab.ieawindtask32.org/wind-lidar-ontology/', 'type': 'skos:ConceptScheme', 'prefLabel': {'lang': 'en', 'value': 'IEA Wind Task 32 Wind Lidar Ontology'}}, {'uri': 'http://vocab.ieawindtask32.org/wind-lidar-ontology/VelocityAzimuthDisplay', 'type': 'skos:Concept', 'altLabel': {'lang': 'en', 'value': 'VAD'}, 'broader': {'uri': 'http://vocab.ieawindtask32.org/wind-lidar-ontology/WindfieldReconstruction'}, 'skos:definition': [{'lang': 'it', 'value': \"Un particolare metodo di analisi dati di un lidar a geometria conica. Data una scansione completa del cono ad una specifica altezza, i punti di misurazione contigui l'uno all'altro nello spazio vengono combinati secondo metodi statistici di interpolazione per ricostruire la velocità del vento.\"}, {'lang': 'cn', 'value': 'VAD是一种测风激光雷达的测量方法，通过倒圆锥形的扫描方式，雷达可以对许多间隔很近的方位角点进行采样，然后使用统计拟合方法将数据用于推算每个高度的风速。'}, {'lang': 'es', 'value': 'VAD es un método de análisis de datos provenientes de un escaneo de geometría cónica en el que varios puntos azimutales estrechamente espaciados son muestreados por el lidar. Dichos datos se utilizan para estimar la velocidad del viento a una determinada altura utilizanso métodos de ajuste estadísticos.'}, {'lang': 'en', 'value': 'VAD is a method of analyzing data from a complete conical scan whereby many closely spaced azimuthal points may be sampled by the lidar, and the data are used to estimate the wind speed at each height using a statistical fitting method.'}], 'skos:editorialNote': [{'lang': 'en', 'value': 'The VAD method is described in Lhermitte (1966) and Browning and Wexler (1968).'}, {'lang': 'it', 'value': 'Il metodo VAD è descritto in Lhermitte (1966) e Bowning e Wexler (1968).'}], 'inScheme': {'uri': 'http://vocab.ieawindtask32.org/wind-lidar-ontology/'}, 'prefLabel': [{'lang': 'es', 'value': 'Muestreo de velocidad en azimut'}, {'lang': 'it', 'value': 'Campionamento di velocità in azimut'}, {'lang': 'cn', 'value': '速度-方位角（VAD）测量法'}, {'lang': 'en', 'value': 'Velocity-azimuth display'}]}, {'uri': 'http://vocab.ieawindtask32.org/wind-lidar-ontology/WindfieldReconstruction', 'type': 'skos:Concept', 'narrower': {'uri': 'http://vocab.ieawindtask32.org/wind-lidar-ontology/VelocityAzimuthDisplay'}, 'prefLabel': [{'lang': 'cn', 'value': '气流（风）流场重构'}, {'lang': 'de', 'value': 'Windfeld Rekonstruktion'}, {'lang': 'es', 'value': 'Reconstrucción del campo de vientos'}, {'lang': 'it', 'value': 'Ricostruzione del campo di vento'}, {'lang': 'en', 'value': 'Windfield Reconstruction'}]}]}\n",
      "{   '@context': {   'altLabel': 'skos:altLabel',\n",
      "                    'broadMatch': 'skos:broadMatch',\n",
      "                    'broader': 'skos:broader',\n",
      "                    'closeMatch': 'skos:closeMatch',\n",
      "                    'dc11': 'http://purl.org/dc/elements/1.1/',\n",
      "                    'dct': 'http://purl.org/dc/terms/',\n",
      "                    'exactMatch': 'skos:exactMatch',\n",
      "                    'graph': '@graph',\n",
      "                    'hiddenLabel': 'skos:hiddenLabel',\n",
      "                    'inScheme': 'skos:inScheme',\n",
      "                    'isothes': 'http://purl.org/iso25964/skos-thes#',\n",
      "                    'label': 'rdfs:label',\n",
      "                    'lang': '@language',\n",
      "                    'narrowMatch': 'skos:narrowMatch',\n",
      "                    'narrower': 'skos:narrower',\n",
      "                    'owl': 'http://www.w3.org/2002/07/owl#',\n",
      "                    'prefLabel': 'skos:prefLabel',\n",
      "                    'rdfs': 'http://www.w3.org/2000/01/rdf-schema#',\n",
      "                    'related': 'skos:related',\n",
      "                    'relatedMatch': 'skos:relatedMatch',\n",
      "                    'skos': 'http://www.w3.org/2004/02/skos/core#',\n",
      "                    'type': '@type',\n",
      "                    'uri': '@id',\n",
      "                    'value': '@value'},\n",
      "    'graph': [   {   'prefLabel': {   'lang': 'en',\n",
      "                                      'value': 'IEA Wind Task 32 Wind Lidar '\n",
      "                                               'Ontology'},\n",
      "                     'type': 'skos:ConceptScheme',\n",
      "                     'uri': 'http://vocab.ieawindtask32.org/wind-lidar-ontology/'},\n",
      "                 {   'altLabel': {'lang': 'en', 'value': 'VAD'},\n",
      "                     'broader': {   'uri': 'http://vocab.ieawindtask32.org/wind-lidar-ontology/WindfieldReconstruction'},\n",
      "                     'inScheme': {   'uri': 'http://vocab.ieawindtask32.org/wind-lidar-ontology/'},\n",
      "                     'prefLabel': [   {   'lang': 'es',\n",
      "                                          'value': 'Muestreo de velocidad en '\n",
      "                                                   'azimut'},\n",
      "                                      {   'lang': 'it',\n",
      "                                          'value': 'Campionamento di velocità '\n",
      "                                                   'in azimut'},\n",
      "                                      {'lang': 'cn', 'value': '速度-方位角（VAD）测量法'},\n",
      "                                      {   'lang': 'en',\n",
      "                                          'value': 'Velocity-azimuth display'}],\n",
      "                     'skos:definition': [   {   'lang': 'it',\n",
      "                                                'value': 'Un particolare '\n",
      "                                                         'metodo di analisi '\n",
      "                                                         'dati di un lidar a '\n",
      "                                                         'geometria conica. '\n",
      "                                                         'Data una scansione '\n",
      "                                                         'completa del cono ad '\n",
      "                                                         'una specifica '\n",
      "                                                         'altezza, i punti di '\n",
      "                                                         'misurazione contigui '\n",
      "                                                         \"l'uno all'altro \"\n",
      "                                                         'nello spazio vengono '\n",
      "                                                         'combinati secondo '\n",
      "                                                         'metodi statistici di '\n",
      "                                                         'interpolazione per '\n",
      "                                                         'ricostruire la '\n",
      "                                                         'velocità del vento.'},\n",
      "                                            {   'lang': 'cn',\n",
      "                                                'value': 'VAD是一种测风激光雷达的测量方法，通过倒圆锥形的扫描方式，雷达可以对许多间隔很近的方位角点进行采样，然后使用统计拟合方法将数据用于推算每个高度的风速。'},\n",
      "                                            {   'lang': 'es',\n",
      "                                                'value': 'VAD es un método de '\n",
      "                                                         'análisis de datos '\n",
      "                                                         'provenientes de un '\n",
      "                                                         'escaneo de geometría '\n",
      "                                                         'cónica en el que '\n",
      "                                                         'varios puntos '\n",
      "                                                         'azimutales '\n",
      "                                                         'estrechamente '\n",
      "                                                         'espaciados son '\n",
      "                                                         'muestreados por el '\n",
      "                                                         'lidar. Dichos datos '\n",
      "                                                         'se utilizan para '\n",
      "                                                         'estimar la velocidad '\n",
      "                                                         'del viento a una '\n",
      "                                                         'determinada altura '\n",
      "                                                         'utilizanso métodos '\n",
      "                                                         'de ajuste '\n",
      "                                                         'estadísticos.'},\n",
      "                                            {   'lang': 'en',\n",
      "                                                'value': 'VAD is a method of '\n",
      "                                                         'analyzing data from '\n",
      "                                                         'a complete conical '\n",
      "                                                         'scan whereby many '\n",
      "                                                         'closely spaced '\n",
      "                                                         'azimuthal points may '\n",
      "                                                         'be sampled by the '\n",
      "                                                         'lidar, and the data '\n",
      "                                                         'are used to estimate '\n",
      "                                                         'the wind speed at '\n",
      "                                                         'each height using a '\n",
      "                                                         'statistical fitting '\n",
      "                                                         'method.'}],\n",
      "                     'skos:editorialNote': [   {   'lang': 'en',\n",
      "                                                   'value': 'The VAD method is '\n",
      "                                                            'described in '\n",
      "                                                            'Lhermitte (1966) '\n",
      "                                                            'and Browning and '\n",
      "                                                            'Wexler (1968).'},\n",
      "                                               {   'lang': 'it',\n",
      "                                                   'value': 'Il metodo VAD è '\n",
      "                                                            'descritto in '\n",
      "                                                            'Lhermitte (1966) '\n",
      "                                                            'e Bowning e '\n",
      "                                                            'Wexler (1968).'}],\n",
      "                     'type': 'skos:Concept',\n",
      "                     'uri': 'http://vocab.ieawindtask32.org/wind-lidar-ontology/VelocityAzimuthDisplay'},\n",
      "                 {   'narrower': {   'uri': 'http://vocab.ieawindtask32.org/wind-lidar-ontology/VelocityAzimuthDisplay'},\n",
      "                     'prefLabel': [   {'lang': 'cn', 'value': '气流（风）流场重构'},\n",
      "                                      {   'lang': 'de',\n",
      "                                          'value': 'Windfeld Rekonstruktion'},\n",
      "                                      {   'lang': 'es',\n",
      "                                          'value': 'Reconstrucción del campo '\n",
      "                                                   'de vientos'},\n",
      "                                      {   'lang': 'it',\n",
      "                                          'value': 'Ricostruzione del campo di '\n",
      "                                                   'vento'},\n",
      "                                      {   'lang': 'en',\n",
      "                                          'value': 'Windfield Reconstruction'}],\n",
      "                     'type': 'skos:Concept',\n",
      "                     'uri': 'http://vocab.ieawindtask32.org/wind-lidar-ontology/WindfieldReconstruction'}]}\n"
     ]
    }
   ],
   "source": [
    "# Open the file that users download from (https://data.windenergy.dtu.dk/ontologies/view/ontolidar/en/)\n",
    "with open(r'.\\Ontology_Concepts\\VAD_da', encoding='utf-8') as f:\n",
    "    d = json.load(f)\n",
    "\n",
    "print(d)\n",
    "\n",
    "import pprint\n",
    "pp = pprint.PrettyPrinter(indent=4)\n",
    "pp.pprint(d)"
   ]
  },
  {
   "cell_type": "markdown",
   "id": "sublime-details",
   "metadata": {
    "slideshow": {
     "slide_type": "slide"
    }
   },
   "source": [
    "Let's have a quick look to the data. The json file is arranged in a key: value structure such that these can be extracted using the methods shown below"
   ]
  },
  {
   "cell_type": "markdown",
   "id": "homeless-acting",
   "metadata": {
    "slideshow": {
     "slide_type": "slide"
    }
   },
   "source": [
    "## Extract data\n",
    "\n",
    "Within the json structure, the most important elements are arranged under graph.index_inScheme. The keys in this dict, can be accessed using the following scripts. In the subsequent sections, we will use the ``skos:definition``, ``prefLabel`` and ``altLabel`` labels only. However, the user is able to extract other elements by replacing the label keys (``m``)"
   ]
  },
  {
   "cell_type": "code",
   "execution_count": 13,
   "id": "documented-mauritius",
   "metadata": {
    "slideshow": {
     "slide_type": "fragment"
    }
   },
   "outputs": [
    {
     "name": "stdout",
     "output_type": "stream",
     "text": [
      "dict_keys(['uri', 'type', 'altLabel', 'broader', 'skos:definition', 'skos:editorialNote', 'inScheme', 'prefLabel'])\n"
     ]
    }
   ],
   "source": [
    "# Find the index to the correct prefLabel    \n",
    "index_inScheme=1\n",
    "m=d['graph'][index_inScheme].keys()\n",
    "while 'inScheme' not in m:\n",
    "    index_inScheme+=1\n",
    "    m=d['graph'][index_inScheme].keys()\n",
    "print(m)"
   ]
  },
  {
   "cell_type": "markdown",
   "id": "fifty-eclipse",
   "metadata": {
    "slideshow": {
     "slide_type": "slide"
    }
   },
   "source": [
    "### Get definition of the lidar concept provided by the lidar ontology"
   ]
  },
  {
   "cell_type": "code",
   "execution_count": 33,
   "id": "interested-christopher",
   "metadata": {
    "slideshow": {
     "slide_type": "fragment"
    }
   },
   "outputs": [
    {
     "name": "stdout",
     "output_type": "stream",
     "text": [
      "Definition: VAD is a method of analyzing data from a complete conical scan whereby many closely spaced azimuthal points may be sampled by the lidar, and the data are used to estimate the wind speed at each height using a statistical fitting method.\n",
      "ALternative label:VAD\n"
     ]
    }
   ],
   "source": [
    "#Getting definition of the concept\n",
    "from fun.getLabel import getLabel\n",
    "path = r'./Ontology_Concepts/VAD_da'\n",
    "Alternative_Label = getLabel(path, key = \"altLabel\", lang='en', index_inScheme=1)\n",
    "\n",
    "# get individual key value pairs depending on the key requested\n",
    "Definition        = getLabel(path, key=\"skos:definition\", lang='en', index_inScheme=1)\n",
    "Preferred_Label   = getLabel(path, key=\"prefLabel\", lang='en', index_inScheme=1)\n",
    "Alternative_Label = getLabel(path, key = \"altLabel\", lang='en', index_inScheme=1)\n",
    "\n",
    "#Save in a new dictionary\n",
    "Lidar_Dictionary['Definition']=Definition\n",
    "Lidar_Dictionary['Preferred Label']=Preferred_Label\n",
    "Lidar_Dictionary['Alternative Label']=Alternative_Label\n",
    "print('Definition: '+Definition)\n",
    "\n",
    "print('ALternative label:' + Alternative_Label)"
   ]
  },
  {
   "cell_type": "markdown",
   "id": "casual-booth",
   "metadata": {
    "slideshow": {
     "slide_type": "slide"
    }
   },
   "source": [
    "### Get the preferred label of the lidar concept provided by the lidar ontology"
   ]
  },
  {
   "cell_type": "code",
   "execution_count": 16,
   "id": "english-conspiracy",
   "metadata": {
    "slideshow": {
     "slide_type": "fragment"
    }
   },
   "outputs": [
    {
     "name": "stdout",
     "output_type": "stream",
     "text": [
      "Preferred label: Velocity-azimuth display\n"
     ]
    }
   ],
   "source": [
    "# Getting preferred label of the concept\n",
    "for ind_1 in range(len(d['graph'][index_inScheme]['prefLabel'])):\n",
    "    dict0=d['graph'][index_inScheme]['prefLabel'][ind_1]\n",
    "\n",
    "    if SelIdiom=='English' and ('lang','en') in dict0.items():\n",
    "        Preferred_Label = list(dict0.values())[1]\n",
    "            \n",
    "    elif SelIdiom=='Spanish' and ('lang','es') in dict0.items():\n",
    "        Preferred_Label = list(dict0.values())[1]\n",
    "           \n",
    "    elif SelIdiom=='Chinesse' and ('lang','cn') in dict0.items():\n",
    "        Preferred_Label = list(dict0.values())[1]\n",
    "    \n",
    "    elif SelIdiom=='Italian' and ('lang','it') in dict0.items():\n",
    "        Preferred_Label = list(dict0.values())[1]\n",
    "\n",
    "#Save in a new dictionary\n",
    "Lidar_Dictionary['Preferred Label']=Preferred_Label\n",
    "print('Preferred label: '+Preferred_Label)"
   ]
  },
  {
   "cell_type": "markdown",
   "id": "flying-monte",
   "metadata": {
    "slideshow": {
     "slide_type": "slide"
    }
   },
   "source": [
    "### Get the alternative label of the lidar concept provided by the lidar ontology"
   ]
  },
  {
   "cell_type": "code",
   "execution_count": 17,
   "id": "cultural-poverty",
   "metadata": {
    "slideshow": {
     "slide_type": "fragment"
    }
   },
   "outputs": [
    {
     "name": "stdout",
     "output_type": "stream",
     "text": [
      "Alternative label: VAD\n"
     ]
    }
   ],
   "source": [
    "# Getting alternative label of the concept\n",
    "if 'altLabel' in d['graph'][index_inScheme].keys():\n",
    "     Alternative_Label = d['graph'][index_inScheme]['altLabel']['value']\n",
    "else:\n",
    "    print('No alternative label available')\n",
    "    \n",
    "#Save in a new dictionary\n",
    "Lidar_Dictionary['Alternative Label']=Alternative_Label\n",
    "print('Alternative label: '+Alternative_Label)\n",
    "#d['graph'][index_inScheme]['altLabel']"
   ]
  },
  {
   "cell_type": "markdown",
   "id": "republican-monte",
   "metadata": {
    "slideshow": {
     "slide_type": "slide"
    }
   },
   "source": [
    "### Update user's lidar simulator local template with data from ontology\n",
    "\n",
    "Users may wish to use the downloaded data for coding purposes. The following code allows connecting downloaded ontology information to a local yaml resource, which could be used as input for a lidar simulator. A local variable will be aligned to the ontology concept through, for example, the `Alternative Label`."
   ]
  },
  {
   "cell_type": "markdown",
   "id": "conscious-summer",
   "metadata": {
    "slideshow": {
     "slide_type": "slide"
    }
   },
   "source": [
    "__1)__ Select our lidar simulator local template. In our case it is called `Ontology_yml.yml`"
   ]
  },
  {
   "cell_type": "code",
   "execution_count": 18,
   "id": "criminal-sodium",
   "metadata": {
    "slideshow": {
     "slide_type": "fragment"
    }
   },
   "outputs": [],
   "source": [
    "local_yaml = './Ontology_yml.yml'"
   ]
  },
  {
   "cell_type": "markdown",
   "id": "continental-objective",
   "metadata": {
    "slideshow": {
     "slide_type": "fragment"
    }
   },
   "source": [
    "__2)__ Select the variable to be edited"
   ]
  },
  {
   "cell_type": "code",
   "execution_count": 19,
   "id": "bound-picnic",
   "metadata": {
    "slideshow": {
     "slide_type": "fragment"
    }
   },
   "outputs": [],
   "source": [
    "tag = 'Velocity azimuth display'"
   ]
  },
  {
   "cell_type": "markdown",
   "id": "forty-mounting",
   "metadata": {
    "slideshow": {
     "slide_type": "slide"
    }
   },
   "source": [
    "__3)__ Select the variable fields to be edited "
   ]
  },
  {
   "cell_type": "code",
   "execution_count": 21,
   "id": "first-convention",
   "metadata": {
    "slideshow": {
     "slide_type": "fragment"
    }
   },
   "outputs": [],
   "source": [
    "fields2change = ['Definition','Alternative Label','Preferred Label']"
   ]
  },
  {
   "cell_type": "markdown",
   "id": "choice-chuck",
   "metadata": {
    "slideshow": {
     "slide_type": "fragment"
    }
   },
   "source": [
    "__4)__ The `edit_yaml_from_ontology.edit` function reads the user's lidar input template, finds and edits items and saves the updated yaml file. Gives priority to the information contained in the yaml file."
   ]
  },
  {
   "cell_type": "code",
   "execution_count": 22,
   "id": "committed-college",
   "metadata": {
    "slideshow": {
     "slide_type": "fragment"
    }
   },
   "outputs": [
    {
     "ename": "IndentationError",
     "evalue": "expected an indented block (edit_yaml_from_ontology.py, line 15)",
     "output_type": "error",
     "traceback": [
      "Traceback \u001b[1;36m(most recent call last)\u001b[0m:\n",
      "  File \u001b[0;32m\"C:\\Users\\fcosta\\AppData\\Local\\Continuum\\anaconda3\\envs\\QluncEnv\\lib\\site-packages\\IPython\\core\\interactiveshell.py\"\u001b[0m, line \u001b[0;32m3427\u001b[0m, in \u001b[0;35mrun_code\u001b[0m\n    exec(code_obj, self.user_global_ns, self.user_ns)\n",
      "\u001b[1;36m  File \u001b[1;32m\"<ipython-input-22-c6f3a332ee23>\"\u001b[1;36m, line \u001b[1;32m1\u001b[1;36m, in \u001b[1;35m<module>\u001b[1;36m\u001b[0m\n\u001b[1;33m    from fun.edit_yaml_from_ontology import edit\u001b[0m\n",
      "\u001b[1;36m  File \u001b[1;32m\"C:\\SWE_LOCAL\\Task32\\Lidar_ontology\\Example_coding_efficiency\\LidarOntologyConceptsRepo\\Extract-lidar-ontology-concepts\\fun\\edit_yaml_from_ontology.py\"\u001b[1;36m, line \u001b[1;32m15\u001b[0m\n\u001b[1;33m    \"\"\"\u001b[0m\n\u001b[1;37m       \n^\u001b[0m\n\u001b[1;31mIndentationError\u001b[0m\u001b[1;31m:\u001b[0m expected an indented block\n"
     ]
    }
   ],
   "source": [
    "from fun.edit_yaml_from_ontology import edit\n",
    "edit(local_yaml,tag,fields2change,Lidar_Dictionary) "
   ]
  }
 ],
 "metadata": {
  "celltoolbar": "Slideshow",
  "kernelspec": {
   "display_name": "Python 3",
   "language": "python",
   "name": "python3"
  },
  "language_info": {
   "codemirror_mode": {
    "name": "ipython",
    "version": 3
   },
   "file_extension": ".py",
   "mimetype": "text/x-python",
   "name": "python",
   "nbconvert_exporter": "python",
   "pygments_lexer": "ipython3",
   "version": "3.7.9"
  }
 },
 "nbformat": 4,
 "nbformat_minor": 5
}
