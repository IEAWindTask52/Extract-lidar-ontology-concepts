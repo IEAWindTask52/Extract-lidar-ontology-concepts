{
 "cells": [
  {
   "cell_type": "markdown",
   "id": "responsible-opera",
   "metadata": {
    "slideshow": {
     "slide_type": "slide"
    }
   },
   "source": [
    "![f](Pictures_repo/Cover_presentation.png)"
   ]
  },
  {
   "cell_type": "markdown",
   "id": "fe590c2b",
   "metadata": {
    "slideshow": {
     "slide_type": "notes"
    }
   },
   "source": [
    "Today I want to present the product of our latest efforts on making wind lidar knowledge readily accessible, shareable, usable and reusable within the lidar community, all while minimizing ambiguity, with the ultimate goal of fostering stronger collaborations among community members and driving lidar technology innovation.\n",
    "\n",
    "During the meeting held last June, discussions centered around the Wind Lidar Ontology Viewer and the ongoing development of a Wind Lidar Ontology application to take full advantage of the knowledge encapsulated in the Wind Lidar Ontology.\n",
    "\n",
    "The point of this meeting is to performe a brief tutorial on the wind lidar ontology tool. This digital application based on python programming is designed to facilitate the aquisition of information from the ontology viewer for subsequent utilisation. Today we will be using it to update local resources, meaning a local YAML file used as a template for a lidar simulator. \n",
    "\n",
    "Before starting with the interactive part I would like to highlight the diversity of the Ontology Group, that brings together experts from different fields, spanning both academia and industry. It is interesting, because this combination ensures that we can effectively address the diverse needs and perspectives of both sectors.  \n",
    "\n",
    "What we are showing today is just the tip of the iceberg of an extensive job undertaken by numerous contributors without whom this work would'nt have been feasible, people that have contributed as much or even more to this work. People like Peter Clive, Andrew Clifton, Nikola Vasiljevic or members of the FAIR data Collective. \n",
    "\n",
    "Intro next slide: That said, First, I would like to recap on the objectives of the Wind lidar ontology."
   ]
  },
  {
   "cell_type": "markdown",
   "id": "3daed72f",
   "metadata": {
    "slideshow": {
     "slide_type": "slide"
    }
   },
   "source": [
    "## Objective\n",
    "**1**. Develop a formal, clear and dedicated controlled vocabulary for lidar terms\n",
    "\n",
    "**2**. Convert lidar knowledge into FAIR\n",
    "\n",
    "**3**. Long term updates and maintenance of the ontology"
   ]
  },
  {
   "cell_type": "markdown",
   "id": "67807a42",
   "metadata": {
    "slideshow": {
     "slide_type": "notes"
    }
   },
   "source": [
    "All in all, the main goal is to support the lidar community. We know that a lidar community already exists, but it is made up of many parts, speaking different jargons and use different terms for lidar concepts --> tools like the Lidar Ontology can help bring these parts together by establishing standardised definitions and terminology across this field. Agreeing on a unique lidar vocabulary, that! can greatly benefit achieving  common definitions for lidar concepts.\n",
    "\n",
    "To do so, we think that we need to:  \n",
    "1. Imagine if we had a formal, precise, and specialized set of terms tailored specifically for lidar technology. Such a shared controlled vocabulary has the potential to transform how data and knowledge flow within the lidar community. This is where ontologies play a crucial role, by providing standardized definitions and terminology. The goal is to facilitate better communication and collaboration across the wind lidar community.\n",
    "\n",
    "2. Meaning Findable, accessible, interoperable and reusable. By doing so, we not only promote collaboration and information exchange among stakeholders but also encourage the involvement of new entrants and make lidar more accessible to non-experts.\n",
    "\n",
    "3. Ideally, the version is in constant evolution. As new lidar applications and technologies emerge, we will need for frequent additions and revisions to our terminology and definitions, ensuring our ontology remains relevant to the evolving lidar technology field.\n",
    "\n"
   ]
  },
  {
   "cell_type": "markdown",
   "id": "chief-deviation",
   "metadata": {
    "slideshow": {
     "slide_type": "slide"
    }
   },
   "source": [
    "## Wind lidar ontology tool application \n",
    "\n",
    "https://github.com/IEAWindTask52/Extract-lidar-ontology-concepts\n",
    "    \n",
    "<div style=\"max-width:1000px;margin-left: 0px; margin-right:200px;margin-top: 20px; margin-bottom:50px;\">\n",
    "<img src=\"Pictures_repo/App_schema.png\" width=\"1700px\"/>\n",
    "</div>\n"
   ]
  },
  {
   "cell_type": "markdown",
   "id": "1cf2cd76",
   "metadata": {
    "slideshow": {
     "slide_type": "notes"
    }
   },
   "source": [
    "In this slide, I'll outline the workflow, highlighting main steps of the wind lidar ontology tool.\n",
    "\n",
    "Imagine having a local resource, like a wind lidar simulator, that needs updating with the latest information from the Wind Lidar Ontology. With our application, this process becomes quite straightforward. By using keywords to search for lidar concepts within the ontology, we can extract the relevant information using the developed functions. Once extracted, we could easily integrate this data into our local file, using specific functions, ensuring our resource stays up-to-date.\n",
    "\n",
    "Today's presentation shows a practical demonstration of this workflow within a Jupyter notebook. We'll guide you through:\n",
    "\n",
    "1. Accessing and downloading a lidar concept directly from the ontology viewer.\n",
    "\n",
    "2. Utilizing developed backend functions to extract specific information from the downloaded data.\n",
    "\n",
    "3. And an application case: updating a template used as input for a lidar simulator by combining information from the ontology with our local resources.\n",
    "\n",
    "and this is what we are going to do today!\n",
    "\n",
    "**Visit the repository and show where the functions are**\n",
    "\n"
   ]
  },
  {
   "cell_type": "code",
   "execution_count": 1,
   "id": "strategic-somalia",
   "metadata": {
    "slideshow": {
     "slide_type": "slide"
    }
   },
   "outputs": [
    {
     "name": "stdout",
     "output_type": "stream",
     "text": [
      "Language? English\n"
     ]
    }
   ],
   "source": [
    "# Import packages\n",
    "import json\n",
    "import sys\n",
    "import pprint\n",
    "\n",
    "# Import local functions:\n",
    "from fun.getLabel import getLabel\n",
    "from fun.edit_yaml_from_ontology import edit\n",
    "\n",
    "\n",
    "#Select language: \"English\", \"Spanish\", \"Chinese\" and \"Italian\"\n",
    "SelIdiom = input('Language? ') "
   ]
  },
  {
   "cell_type": "markdown",
   "id": "d3569703",
   "metadata": {
    "slideshow": {
     "slide_type": "notes"
    }
   },
   "source": [
    "First thing to do, like always, importing the necessary python packages and local functions needed to run the tool. Then we select the language for the downloaded information. So far the ontology is translated to English, Spanish, chinese and Italian (We are working in the german version as well). We choose English.\n",
    "\n",
    "Intro next slide: So, now will go through the necessary steps to download the lidar concept information contained in the ontology, we will take a look to the data, and we will efficiently extract and store it in a human and machine-readable format."
   ]
  },
  {
   "cell_type": "markdown",
   "id": "expensive-company",
   "metadata": {
    "slideshow": {
     "slide_type": "slide"
    }
   },
   "source": [
    "## Downloading the lidar concept\n",
    "\n",
    "**Step 1**. Visit https://data.windenergy.dtu.dk/ontologies/view/ontolidar/en/\n",
    "\n",
    "**Step 2**. Click on the ontology concept you are interested in downloading\n",
    "<div style=\"max-width:1000px;margin-left: 0px; margin-right:0px;margin-top: 0px; margin-bottom:0px;\">\n",
    "<img src=\"Pictures_repo/Fig1.png\" width=\"2200px\"/>\n",
    "</div>"
   ]
  },
  {
   "cell_type": "markdown",
   "id": "ordered-bankruptcy",
   "metadata": {
    "slideshow": {
     "slide_type": "slide"
    }
   },
   "source": [
    "## Downloading the lidar concept\n",
    "\n",
    "**Step 3**. Scroll down and click on ```Download this concept```\n",
    "<div style=\"max-width:1000px;margin-left: 0px; margin-right:410px;margin-top: 20px; margin-bottom:50px;\">\n",
    "<img src=\"Pictures_repo/Fig2.png\" width=\"750px\"/>\n",
    "</div>\n",
    "\n",
    "**Step 4**. Save the concept \n",
    "<div style=\"max-width:400px;margin-left: 0px; margin-right:auto;margin-top: 20px; margin-bottom:50px;\">\n",
    "<img src=\"./Pictures_repo/Fig3.png\" width=\"700px\"/>\n",
    "</div>"
   ]
  },
  {
   "cell_type": "markdown",
   "id": "stupid-symposium",
   "metadata": {
    "slideshow": {
     "slide_type": "slide"
    }
   },
   "source": [
    "### Velocity azimuth display\n",
    "Let's take a look to the data"
   ]
  },
  {
   "cell_type": "code",
   "execution_count": 2,
   "id": "654cc2cc",
   "metadata": {
    "slideshow": {
     "slide_type": "-"
    }
   },
   "outputs": [],
   "source": [
    "# Point to the local repository: \n",
    "sys.path.append(\"C:/SWE_LOCAL/Task32/Lidar_ontology/Example_coding_efficiency/LidarOntologyConceptsRepo/Extract-lidar-ontology-concepts/fun/\") \n",
    "\n",
    "# Select the ontology concept\n",
    "path2data = r'./Ontology_Concepts/<name_lidar_concept>' \n",
    "\n",
    "# Features of the lidar concepts we want to use/edit\n",
    "Preferred_Label, Alternative_Label, Definition = '','',''\n",
    "Lidar_Dictionary = {}"
   ]
  },
  {
   "cell_type": "markdown",
   "id": "78f10335",
   "metadata": {
    "slideshow": {
     "slide_type": "notes"
    }
   },
   "source": [
    "Next, after downloading the online asset, our aim is to extract the data and ensure its accessibility.\n",
    "\n",
    "To accomplish this, we navigate to the local repository, and designate the data for loading.\n",
    "\n",
    "Then, we will need to specify the fields we wish to manipulate and determine their storage format. We opt for a Python dictionary, named 'Lidar dictionary'. \n",
    "\n",
    "Intro next slide: And now we can have a look to the raw data. \n"
   ]
  },
  {
   "cell_type": "markdown",
   "id": "c7b2fcf0",
   "metadata": {
    "slideshow": {
     "slide_type": "slide"
    }
   },
   "source": [
    "### Velocity azimuth display\n",
    "Let's take a look to the data"
   ]
  },
  {
   "cell_type": "code",
   "execution_count": 3,
   "id": "sublime-means",
   "metadata": {
    "slideshow": {
     "slide_type": "-"
    }
   },
   "outputs": [
    {
     "name": "stdout",
     "output_type": "stream",
     "text": [
      "{   '@context': {   'altLabel': 'skos:altLabel',\n",
      "                    'broadMatch': 'skos:broadMatch',\n",
      "                    'broader': 'skos:broader',\n",
      "                    'closeMatch': 'skos:closeMatch',\n",
      "                    'dc11': 'http://purl.org/dc/elements/1.1/',\n",
      "                    'dct': 'http://purl.org/dc/terms/',\n",
      "                    'exactMatch': 'skos:exactMatch',\n",
      "                    'graph': '@graph',\n",
      "                    'hiddenLabel': 'skos:hiddenLabel',\n",
      "                    'inScheme': 'skos:inScheme',\n",
      "                    'isothes': 'http://purl.org/iso25964/skos-thes#',\n",
      "                    'label': 'rdfs:label',\n",
      "                    'lang': '@language',\n",
      "                    'narrowMatch': 'skos:narrowMatch',\n",
      "                    'narrower': 'skos:narrower',\n",
      "                    'owl': 'http://www.w3.org/2002/07/owl#',\n",
      "                    'prefLabel': 'skos:prefLabel',\n",
      "                    'rdfs': 'http://www.w3.org/2000/01/rdf-schema#',\n",
      "                    'related': 'skos:related',\n",
      "                    'relatedMatch': 'skos:relatedMatch',\n",
      "                    'skos': 'http://www.w3.org/2004/02/skos/core#',\n",
      "                    'type': '@type',\n",
      "                    'uri': '@id',\n",
      "                    'value': '@value'},\n",
      "    'graph': [   {   'prefLabel': {   'lang': 'en',\n",
      "                                      'value': 'IEA Wind Task 32 Wind Lidar '\n",
      "                                               'Ontology'},\n",
      "                     'type': 'skos:ConceptScheme',\n",
      "                     'uri': 'http://vocab.ieawindtask32.org/wind-lidar-ontology/'},\n",
      "                 {   'altLabel': {'lang': 'en', 'value': 'VAD'},\n",
      "                     'broader': {   'uri': 'http://vocab.ieawindtask32.org/wind-lidar-ontology/WindfieldReconstruction'},\n",
      "                     'inScheme': {   'uri': 'http://vocab.ieawindtask32.org/wind-lidar-ontology/'},\n",
      "                     'prefLabel': [   {   'lang': 'es',\n",
      "                                          'value': 'Muestreo de velocidad en '\n",
      "                                                   'azimut'},\n",
      "                                      {   'lang': 'it',\n",
      "                                          'value': 'Campionamento di velocità '\n",
      "                                                   'in azimut'},\n",
      "                                      {'lang': 'cn', 'value': '速度-方位角（VAD）测量法'},\n",
      "                                      {   'lang': 'en',\n",
      "                                          'value': 'Velocity-azimuth display'}],\n",
      "                     'skos:definition': [   {   'lang': 'it',\n",
      "                                                'value': 'Un particolare '\n",
      "                                                         'metodo di analisi '\n",
      "                                                         'dati di un lidar a '\n",
      "                                                         'geometria conica. '\n",
      "                                                         'Data una scansione '\n",
      "                                                         'completa del cono ad '\n",
      "                                                         'una specifica '\n",
      "                                                         'altezza, i punti di '\n",
      "                                                         'misurazione contigui '\n",
      "                                                         \"l'uno all'altro \"\n",
      "                                                         'nello spazio vengono '\n",
      "                                                         'combinati secondo '\n",
      "                                                         'metodi statistici di '\n",
      "                                                         'interpolazione per '\n",
      "                                                         'ricostruire la '\n",
      "                                                         'velocità del vento.'},\n",
      "                                            {   'lang': 'cn',\n",
      "                                                'value': 'VAD是一种测风激光雷达的测量方法，通过倒圆锥形的扫描方式，雷达可以对许多间隔很近的方位角点进行采样，然后使用统计拟合方法将数据用于推算每个高度的风速。'},\n",
      "                                            {   'lang': 'es',\n",
      "                                                'value': 'VAD es un método de '\n",
      "                                                         'análisis de datos '\n",
      "                                                         'provenientes de un '\n",
      "                                                         'escaneo de geometría '\n",
      "                                                         'cónica en el que '\n",
      "                                                         'varios puntos '\n",
      "                                                         'azimutales '\n",
      "                                                         'estrechamente '\n",
      "                                                         'espaciados son '\n",
      "                                                         'muestreados por el '\n",
      "                                                         'lidar. Dichos datos '\n",
      "                                                         'se utilizan para '\n",
      "                                                         'estimar la velocidad '\n",
      "                                                         'del viento a una '\n",
      "                                                         'determinada altura '\n",
      "                                                         'utilizanso métodos '\n",
      "                                                         'de ajuste '\n",
      "                                                         'estadísticos.'},\n",
      "                                            {   'lang': 'en',\n",
      "                                                'value': 'VAD is a method of '\n",
      "                                                         'analyzing data from '\n",
      "                                                         'a complete conical '\n",
      "                                                         'scan whereby many '\n",
      "                                                         'closely spaced '\n",
      "                                                         'azimuthal points may '\n",
      "                                                         'be sampled by the '\n",
      "                                                         'lidar, and the data '\n",
      "                                                         'are used to estimate '\n",
      "                                                         'the wind speed at '\n",
      "                                                         'each height using a '\n",
      "                                                         'statistical fitting '\n",
      "                                                         'method.'}],\n",
      "                     'skos:editorialNote': [   {   'lang': 'en',\n",
      "                                                   'value': 'The VAD method is '\n",
      "                                                            'described in '\n",
      "                                                            'Lhermitte (1966) '\n",
      "                                                            'and Browning and '\n",
      "                                                            'Wexler (1968).'},\n",
      "                                               {   'lang': 'it',\n",
      "                                                   'value': 'Il metodo VAD è '\n",
      "                                                            'descritto in '\n",
      "                                                            'Lhermitte (1966) '\n",
      "                                                            'e Bowning e '\n",
      "                                                            'Wexler (1968).'}],\n",
      "                     'type': 'skos:Concept',\n",
      "                     'uri': 'http://vocab.ieawindtask32.org/wind-lidar-ontology/VelocityAzimuthDisplay'},\n",
      "                 {   'narrower': {   'uri': 'http://vocab.ieawindtask32.org/wind-lidar-ontology/VelocityAzimuthDisplay'},\n",
      "                     'prefLabel': [   {'lang': 'cn', 'value': '气流（风）流场重构'},\n",
      "                                      {   'lang': 'de',\n",
      "                                          'value': 'Windfeld Rekonstruktion'},\n",
      "                                      {   'lang': 'es',\n",
      "                                          'value': 'Reconstrucción del campo '\n",
      "                                                   'de vientos'},\n",
      "                                      {   'lang': 'it',\n",
      "                                          'value': 'Ricostruzione del campo di '\n",
      "                                                   'vento'},\n",
      "                                      {   'lang': 'en',\n",
      "                                          'value': 'Windfield Reconstruction'}],\n",
      "                     'type': 'skos:Concept',\n",
      "                     'uri': 'http://vocab.ieawindtask32.org/wind-lidar-ontology/WindfieldReconstruction'}]}\n"
     ]
    }
   ],
   "source": [
    "with open(path2data, encoding='utf-8') as f:\n",
    "    d = json.load(f)\n",
    "pp = pprint.PrettyPrinter(indent=4) \n",
    "pp.pprint(d) "
   ]
  },
  {
   "cell_type": "markdown",
   "id": "6f269734",
   "metadata": {
    "slideshow": {
     "slide_type": "notes"
    }
   },
   "source": [
    "\n",
    "Here we can see a representation of the RDF graph statement of the downloaded wind lidar concept, in this case Velocity azimuth display. It is important to use well-defined data models to document and maintain an ontology. Ideally they should be a mixture of human- and machine-readable data models that can be easily presented to users. In the current context, this is achieved using the Resource Description Framework (RDF) and the Simple Knowledge Organisation System (SKOS) data models. \n",
    "\n",
    "If we take a look to the acquired data we can see that it is nested dictionary with key-value arguments containing different information. The first part contains the definitions of the SKOS labels and, if we scroll a bit down, we start seeing the information contained in the downloaded concept, information about broader and narrower concepts related to it, meaning its position in the general structure of the whole ontology, preferred and alternative labels, definition in different languages, etc"
   ]
  },
  {
   "cell_type": "markdown",
   "id": "economic-boating",
   "metadata": {
    "slideshow": {
     "slide_type": "slide"
    }
   },
   "source": [
    "## Extract data\n",
    "- ``definition``\n",
    "- ``altLabel``\n",
    "- ``prefLabel`` "
   ]
  },
  {
   "cell_type": "markdown",
   "id": "d86a69ce",
   "metadata": {
    "slideshow": {
     "slide_type": "notes"
    }
   },
   "source": [
    "As already said, we want to make use of the fields 'Definition', \"Preferred label\" denoted as 'preflabel' and alternative label or 'altlabel'. Users are able to extract other elements by replacing label keys."
   ]
  },
  {
   "cell_type": "markdown",
   "id": "ancient-macedonia",
   "metadata": {
    "slideshow": {
     "slide_type": "slide"
    }
   },
   "source": [
    "## Extract data\n",
    "- ``definition``\n",
    "- ``altLabel``\n",
    "- ``prefLabel`` \n",
    "\n",
    "\n",
    "**Step 1**. Find the path to the data (dictionary keys):"
   ]
  },
  {
   "cell_type": "code",
   "execution_count": 4,
   "id": "pacific-coast",
   "metadata": {
    "slideshow": {
     "slide_type": "-"
    }
   },
   "outputs": [
    {
     "name": "stdout",
     "output_type": "stream",
     "text": [
      "dict_keys(['uri', 'type', 'altLabel', 'broader', 'skos:definition', 'skos:editorialNote', 'inScheme', 'prefLabel'])\n"
     ]
    }
   ],
   "source": [
    "index_inScheme=1\n",
    "m = d['graph'][index_inScheme].keys()\n",
    "while 'inScheme' not in m:\n",
    "    index_inScheme += 1\n",
    "    m = d['graph'][index_inScheme].keys()\n",
    "print(m)"
   ]
  },
  {
   "cell_type": "markdown",
   "id": "c35354da",
   "metadata": {
    "slideshow": {
     "slide_type": "fragment"
    }
   },
   "source": [
    "and let'store them"
   ]
  },
  {
   "cell_type": "code",
   "execution_count": 1,
   "id": "c61d4880",
   "metadata": {},
   "outputs": [],
   "source": [
    "KEYS = ['skos:definition','altLabel','prefLabel']"
   ]
  },
  {
   "cell_type": "markdown",
   "id": "3b6b0981",
   "metadata": {
    "slideshow": {
     "slide_type": "notes"
    }
   },
   "source": [
    "From the previous RDF schema, and making use of this snippet code, we can find the level, within the nested dictionary, where pertinent information is located and extract the keys where relevant values are encapsulated. \n",
    "\n",
    "(__<font color='red'>'skos:definition','altLabel','prefLabel' </font>__)"
   ]
  },
  {
   "cell_type": "markdown",
   "id": "enclosed-brain",
   "metadata": {
    "slideshow": {
     "slide_type": "slide"
    }
   },
   "source": [
    "## Extract data\n",
    "**Step 2**. Get information of the lidar concept provided by the lidar ontology"
   ]
  },
  {
   "cell_type": "code",
   "execution_count": 2,
   "id": "rising-slovak",
   "metadata": {
    "slideshow": {
     "slide_type": "-"
    }
   },
   "outputs": [
    {
     "ename": "NameError",
     "evalue": "name 'getLabel' is not defined",
     "output_type": "error",
     "traceback": [
      "\u001b[1;31m---------------------------------------------------------------------------\u001b[0m",
      "\u001b[1;31mNameError\u001b[0m                                 Traceback (most recent call last)",
      "Cell \u001b[1;32mIn[2], line 2\u001b[0m\n\u001b[0;32m      1\u001b[0m \u001b[38;5;66;03m# Get individual key-value pairs depending on the key requested\u001b[39;00m\n\u001b[1;32m----> 2\u001b[0m Definition        \u001b[38;5;241m=\u001b[39m getLabel(path2data, key \u001b[38;5;241m=\u001b[39m KEYS[\u001b[38;5;241m0\u001b[39m], lang\u001b[38;5;241m=\u001b[39m\u001b[38;5;124m'\u001b[39m\u001b[38;5;124men\u001b[39m\u001b[38;5;124m'\u001b[39m, index_inScheme\u001b[38;5;241m=\u001b[39m\u001b[38;5;241m1\u001b[39m)\n\u001b[0;32m      3\u001b[0m Alternative_Label \u001b[38;5;241m=\u001b[39m getLabel(path2data, key \u001b[38;5;241m=\u001b[39m KEYS[\u001b[38;5;241m1\u001b[39m], lang\u001b[38;5;241m=\u001b[39m\u001b[38;5;124m'\u001b[39m\u001b[38;5;124men\u001b[39m\u001b[38;5;124m'\u001b[39m, index_inScheme\u001b[38;5;241m=\u001b[39m\u001b[38;5;241m1\u001b[39m)\n\u001b[0;32m      4\u001b[0m Preferred_Label   \u001b[38;5;241m=\u001b[39m getLabel(path2data, key \u001b[38;5;241m=\u001b[39m KEYS[\u001b[38;5;241m2\u001b[39m], lang\u001b[38;5;241m=\u001b[39m\u001b[38;5;124m'\u001b[39m\u001b[38;5;124men\u001b[39m\u001b[38;5;124m'\u001b[39m, index_inScheme\u001b[38;5;241m=\u001b[39m\u001b[38;5;241m1\u001b[39m)\n",
      "\u001b[1;31mNameError\u001b[0m: name 'getLabel' is not defined"
     ]
    }
   ],
   "source": [
    "# Get individual key-value pairs depending on the key requested\n",
    "Definition        = getLabel(path2data, key = KEYS[0], lang='en', index_inScheme=1)\n",
    "Alternative_Label = getLabel(path2data, key = KEYS[1], lang='en', index_inScheme=1)\n",
    "Preferred_Label   = getLabel(path2data, key = KEYS[2], lang='en', index_inScheme=1)\n",
    "\n",
    "#Save in a new dictionary  \n",
    "Lidar_Dictionary['Definition']        = Definition\n",
    "Lidar_Dictionary['Alternative Label'] = Alternative_Label\n",
    "Lidar_Dictionary['Preferred Label']   = Preferred_Label\n",
    "\n",
    "print(Lidar_Dictionary)"
   ]
  },
  {
   "cell_type": "markdown",
   "id": "f78b950d",
   "metadata": {
    "slideshow": {
     "slide_type": "notes"
    }
   },
   "source": [
    "Once we reach the desired nested level, we can extract the information we are looking for that is Definition, Alternatve label and preferre label using the local function getLabel. Intro next slide: And now, what could we do with this information?"
   ]
  },
  {
   "cell_type": "markdown",
   "id": "devoted-ghost",
   "metadata": {
    "slideshow": {
     "slide_type": "slide"
    }
   },
   "source": [
    "## What to do with these data? "
   ]
  },
  {
   "cell_type": "markdown",
   "id": "b29c0159",
   "metadata": {
    "slideshow": {
     "slide_type": "-"
    }
   },
   "source": [
    "### Connect with local resources\n",
    "- __<font color='darkorange'>Edit/Update lidar simulator template </font>__\n",
    "- External database\n"
   ]
  },
  {
   "cell_type": "markdown",
   "id": "f44a1775",
   "metadata": {
    "slideshow": {
     "slide_type": "notes"
    }
   },
   "source": [
    "One valuable application of this data is to enhance local resources. For instance:\n",
    "\n",
    "- Extend/align input parameters for lidar simulators.\n",
    "- Establishing connections with external databases to expedite data analysis or integrate new knowledge.\n",
    "\n",
    "In our current demonstration, as you're aware, our focus will be on editing and updating a lidar simulator template.\n"
   ]
  },
  {
   "cell_type": "markdown",
   "id": "leading-honolulu",
   "metadata": {
    "slideshow": {
     "slide_type": "slide"
    }
   },
   "source": [
    "# Edit/update inputs template for a lidar simulator\n",
    "\n",
    "__1)__ Select our lidar simulator local template"
   ]
  },
  {
   "cell_type": "markdown",
   "id": "a9bc3a56",
   "metadata": {
    "slideshow": {
     "slide_type": "notes"
    }
   },
   "source": [
    "First, we will provide the path to our local template, in this case a yaml file"
   ]
  },
  {
   "cell_type": "code",
   "execution_count": 3,
   "id": "improving-rider",
   "metadata": {
    "slideshow": {
     "slide_type": "-"
    }
   },
   "outputs": [],
   "source": [
    "local_yaml = './Ontology_yml.yml'"
   ]
  },
  {
   "cell_type": "markdown",
   "id": "flexible-phase",
   "metadata": {
    "slideshow": {
     "slide_type": "slide"
    }
   },
   "source": [
    "# Example: Input for a lidar simulator\n",
    "\n",
    "<div style=\"max-width:1000px;margin-left: 0px; margin-right:200px;margin-top: 0px; margin-bottom:0px;\">\n",
    "<img src=\"Pictures_repo/Yaml_local.png\" width=\"2000px\"/>\n",
    "</div>"
   ]
  },
  {
   "cell_type": "markdown",
   "id": "furnished-paintball",
   "metadata": {
    "slideshow": {
     "slide_type": "slide"
    }
   },
   "source": [
    "## Example: Input for a lidar simulator\n",
    "__2)__ Select the lidar concept to be edited"
   ]
  },
  {
   "cell_type": "code",
   "execution_count": 4,
   "id": "answering-blink",
   "metadata": {
    "slideshow": {
     "slide_type": "-"
    }
   },
   "outputs": [],
   "source": [
    "tag = 'Velocity azimuth display'"
   ]
  },
  {
   "cell_type": "markdown",
   "id": "competitive-greenhouse",
   "metadata": {
    "slideshow": {
     "slide_type": "notes"
    }
   },
   "source": [
    "As said, we want to add definition, preferred label and alternative label to the 'Velocity azimuth display' field in our template"
   ]
  },
  {
   "cell_type": "markdown",
   "id": "reported-destruction",
   "metadata": {
    "slideshow": {
     "slide_type": "slide"
    }
   },
   "source": [
    "## Example: Input for a lidar simulator\n",
    "__3)__ Select the variable to be edited "
   ]
  },
  {
   "cell_type": "code",
   "execution_count": 9,
   "id": "honey-roommate",
   "metadata": {
    "slideshow": {
     "slide_type": "-"
    }
   },
   "outputs": [],
   "source": [
    "fields2change = ['Definition','Alternative Label','Preferred Label']"
   ]
  },
  {
   "cell_type": "markdown",
   "id": "infectious-hindu",
   "metadata": {
    "slideshow": {
     "slide_type": "notes"
    }
   },
   "source": [
    "'Definition','Alternative Label','Preferred Label'"
   ]
  },
  {
   "cell_type": "markdown",
   "id": "alternate-quest",
   "metadata": {
    "slideshow": {
     "slide_type": "slide"
    }
   },
   "source": [
    "## Example: Input for a lidar simulator\n",
    "__4)__ Edit the local yaml file"
   ]
  },
  {
   "cell_type": "markdown",
   "id": "formal-excerpt",
   "metadata": {
    "slideshow": {
     "slide_type": "notes"
    }
   },
   "source": [
    "The `edit_yaml_from_ontology.edit` function reads the user's lidar input template, finds and edits items and saves the updated yaml file. Gives priority to the information contained in the yaml file."
   ]
  },
  {
   "cell_type": "code",
   "execution_count": 10,
   "id": "departmental-croatia",
   "metadata": {
    "slideshow": {
     "slide_type": "-"
    }
   },
   "outputs": [],
   "source": [
    "edit(local_yaml,tag,fields2change,Lidar_Dictionary) "
   ]
  },
  {
   "cell_type": "markdown",
   "id": "caroline-opposition",
   "metadata": {
    "slideshow": {
     "slide_type": "fragment"
    }
   },
   "source": [
    "<div style=\"max-width:2000px;margin-left: 0px; margin-right:200px;margin-top: 20px; margin-bottom:0px;\">\n",
    "<img src=\"Pictures_repo/Yaml_edited.png\" width=\"1700px\"/>\n",
    "</div>"
   ]
  },
  {
   "cell_type": "markdown",
   "id": "plastic-potential",
   "metadata": {
    "slideshow": {
     "slide_type": "slide"
    }
   },
   "source": [
    "<div style=\"max-width:1000px;margin-left: 0px; margin-right:200px;margin-top: 20px; margin-bottom:50px;\">\n",
    "<img src=\"Pictures_repo/Article.png\" width=\"1000px\"/>\n",
    "</div>"
   ]
  },
  {
   "cell_type": "markdown",
   "id": "bbc39340",
   "metadata": {
    "slideshow": {
     "slide_type": "notes"
    }
   },
   "source": [
    "We're excited to announce the upcoming publication of our article, currently undergoing review, which provides a comprehensive summary of our work. Expected to be available in the next few weeks, this article delves into the creation process of the lidar ontology, highlights project outcomes, and explores potential applications, including a live example showcased in today's presentation—updating a local template for a lidar simulator.\n",
    "\n",
    "Our main objective in developing this ontology has been to foster a shared understanding, aiming to establish a solid consensus within the lidar community regarding wind lidar concepts and terminology."
   ]
  },
  {
   "cell_type": "markdown",
   "id": "0d371b9d",
   "metadata": {
    "slideshow": {
     "slide_type": "slide"
    }
   },
   "source": [
    "![f](Pictures_repo/Benefits_Ontology.png)"
   ]
  },
  {
   "cell_type": "markdown",
   "id": "bd50363b",
   "metadata": {
    "slideshow": {
     "slide_type": "notes"
    }
   },
   "source": [
    "Apart from the example showcased today, we could use this methodology to extract information for \n",
    "### Desing and use of lidar\n",
    "- Manufacturing processes\n",
    "- Deployment, operation and testing\n",
    "- Maintenance\n",
    "- Speed up Data sharing, data acquisition and data analysis processes\n",
    "### Lidar task-specific optimization\n",
    "- Lidar assisted wind turbine control \n",
    "- Pre- and post- campaign preparation\n",
    "\n",
    "### Market acceptance\n",
    "- Generic IEC standards and definitions\n",
    "- Generic Safety protocols (Lidar safety class for public purposes)"
   ]
  },
  {
   "cell_type": "markdown",
   "id": "functional-liquid",
   "metadata": {
    "slideshow": {
     "slide_type": "slide"
    }
   },
   "source": [
    "## An ontology for \n",
    "### Lidar data and resources\n",
    "- Avoid lidar black boxes \n",
    "- Increase the possibilities for innovation\n",
    "- Sharing data and knowledge and resources (code)"
   ]
  },
  {
   "cell_type": "markdown",
   "id": "framed-semiconductor",
   "metadata": {
    "slideshow": {
     "slide_type": "slide"
    }
   },
   "source": [
    "# Contact us\n",
    "\n",
    "- C. Ratti – carloar@enlightenergy.eu\n",
    "- D. Liu – liu@ifb.uni-stuttgart.de\n",
    "- A. Clifton – andy.clifton@enviconnect.de\n",
    "- A. Keane – aidan.keane@woodplc.com\n",
    "- A. Giyanani – ashim.giyanani@iwes.fraunhofer.de\n",
    "- F. Costa – costa@ifb.uni-stuttgart.de\n",
    "# Lidar Ontology --> [Lidar Ontology viewer](https://data.windenergy.dtu.dk/ontologies/view/ontolidar/en/)\n",
    "# GitHub repository --> [IEAWindTask52/Extract-lidar-ontology-concepts](https://github.com/IEAWindTask52/Extract-lidar-ontology-concepts.git)"
   ]
  }
 ],
 "metadata": {
  "celltoolbar": "Slideshow",
  "kernelspec": {
   "display_name": "Python 3 (ipykernel)",
   "language": "python",
   "name": "python3"
  },
  "language_info": {
   "codemirror_mode": {
    "name": "ipython",
    "version": 3
   },
   "file_extension": ".py",
   "mimetype": "text/x-python",
   "name": "python",
   "nbconvert_exporter": "python",
   "pygments_lexer": "ipython3",
   "version": "3.11.5"
  }
 },
 "nbformat": 4,
 "nbformat_minor": 5
}
