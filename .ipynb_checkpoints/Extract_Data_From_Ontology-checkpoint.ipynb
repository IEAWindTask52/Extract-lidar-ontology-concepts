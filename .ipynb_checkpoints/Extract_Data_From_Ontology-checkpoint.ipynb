{
 "cells": [
  {
   "cell_type": "markdown",
   "id": "06695f6a",
   "metadata": {},
   "source": [
    "## Connecting wind lidar - Working group (7): Lidar ontology - [IEA Task 52](https://iea-wind.org/task52/)\n",
    "\n",
    "This tutorial is part of the publication \" \"\n",
    "\n",
    "Authors: \n",
    "\n",
    "# Making lidar ontology concepts available and reusable\n",
    "\n",
    "This tutorial has been developed with the aim of showing a practical application of the lidar ontology e.g., for coding purposes. This particular application can be useful when sharing lidar-related code among researchers/organisations or to simplify the process of creating input files for lidar simulators. \n",
    "The idea is to download a lidar ontology concept and use its ```alternative label``` as input for user's in-built workflow. Along with this idea, users can download also other lidar concept descriptors, like definition, editorial notes, etc.\n",
    "\n",
    "In this tutorial, we only extract three labels (Definition, preferred label and alternative label) from a concept (say, wind velocity). The labels and the concept are further explained as follows:\n",
    "Definition - A detailed explanation of a term used in the context of wind speed measurement lidars, especially for the wind energy applications\n",
    "preferred label - A standard name applied to a variable used frequently in lidar applications\n",
    "alternative label - An abbreviated name for the variable used frequently in the wind energy industry.\n",
    "concept - A defined variable in the lidar ontology"
   ]
  },
  {
   "cell_type": "markdown",
   "id": "f9c345e9",
   "metadata": {},
   "source": [
    "### Downloading a lidar concept\n",
    "**Step 0**. Visit https://data.windenergy.dtu.dk/ontologies/view/ontolidar/en/\n",
    "\n",
    "\n",
    "**Step 1**. Click on the ontology concept you are interested in downloading\n",
    "<div style=\"max-width:1000px;margin-left: 0px; margin-right:200px;margin-top: 20px; margin-bottom:50px;\">\n",
    "<img src=\"Pictures_repo/Fig1.png\" width=\"200px\"/>\n",
    "</div>\n",
    "\n",
    "\n",
    "\n",
    "**Step 2**. Scroll down and click on ```Download this concept``` --> download JSON-LD format\n",
    "User can download other formats, but will be incompatible with this tutorial.\n",
    "\n",
    "<div style=\"max-width:1000px;margin-left: 0px; margin-right:410px;margin-top: 20px; margin-bottom:50px;\">\n",
    "<img src=\"Pictures_repo/Fig2.png\" width=\"550px\"/>\n",
    "</div>\n",
    "\n",
    "\n",
    "**Step 3**. Save the concept \n",
    "\n",
    "<div style=\"max-width:400px;margin-left: 0px; margin-right:auto;margin-top: 20px; margin-bottom:50px;\">\n",
    "<img src=\"./Pictures_repo/Fig3.png\" width=\"500px\"/>\n",
    "</div>\n",
    "\n"
   ]
  },
  {
   "cell_type": "code",
   "execution_count": 1,
   "id": "734f4cd9",
   "metadata": {},
   "outputs": [],
   "source": [
    "import json\n",
    "import sys\n",
    "import yaml\n",
    "import ruamel.yaml\n",
    "sys.path.append(\"C:/SWE_LOCAL/Task32/Lidar_ontology/Example_coding_efficiency/LidarOntologyConceptsRepo/Extract-lidar-ontology-concepts/fun/\") \n",
    "import edit_yaml_from_ontology as eyfo\n",
    "Preferred_Label,Alternative_Label,Definition='','',''\n",
    "Lidar_Dictionary = {}"
   ]
  },
  {
   "cell_type": "markdown",
   "id": "7688f7ec",
   "metadata": {},
   "source": [
    "Which language you want? The ontology is currently developed for `English`, `Italian`, ``Spanish`` and ``Chinese``. Input these to get the definition in your preferred language. \\\n",
    "Please get in touch with us, if you are interested in developing the ontology for your preferred language."
   ]
  },
  {
   "cell_type": "code",
   "execution_count": 2,
   "id": "21a01504",
   "metadata": {},
   "outputs": [
    {
     "name": "stdout",
     "output_type": "stream",
     "text": [
      "Language? daf\n"
     ]
    }
   ],
   "source": [
    "SelIdiom=input('Language? ') # \"English\", \"Spanish\", \"Chinese\" or \"Italian\"\n"
   ]
  },
  {
   "cell_type": "markdown",
   "id": "1e73ba6e",
   "metadata": {},
   "source": [
    "Save your downloaded json or rdf turtle files in the Ontology_Concepts folder. The script Extract_Data_From_Ontology.ipynb (this notebook) will guide you through the basics of lidar ontology use. The following ``dir`` command describes the folder structure. Use the Add_concepts.txt template to let us know if new concepts should be added or there should be any revision in the existing ones. "
   ]
  },
  {
   "cell_type": "code",
   "execution_count": 3,
   "id": "e3164d3d",
   "metadata": {},
   "outputs": [
    {
     "name": "stdout",
     "output_type": "stream",
     "text": [
      " Volume in drive C has no label.\n",
      " Volume Serial Number is 0C54-9785\n",
      "\n",
      " Directory of C:\\SWE_LOCAL\\Task32\\Lidar_ontology\\Example_coding_efficiency\\LidarOntologyConceptsRepo\\Extract-lidar-ontology-concepts\n",
      "\n",
      "05.04.2023  15:27    <DIR>          .\n",
      "05.04.2023  15:27    <DIR>          ..\n",
      "08.02.2023  14:14    <DIR>          .github\n",
      "25.01.2023  15:37                28 .gitignore\n",
      "04.04.2023  16:35    <DIR>          .ipynb_checkpoints\n",
      "05.04.2023  15:27            12.543 Extract_Data_From_Ontology.ipynb\n",
      "05.04.2023  15:04    <DIR>          fun\n",
      "08.02.2023  21:11             7.169 License.md\n",
      "12.12.2022  13:50           569.526 Lidar_ontology.nt\n",
      "04.04.2023  16:35    <DIR>          Ontology_Concepts\n",
      "05.04.2023  15:26             2.245 Ontology_yml.yml\n",
      "03.04.2023  20:31    <DIR>          Pictures_repo\n",
      "03.04.2023  20:31             7.438 README.md\n",
      "01.12.2022  19:47                10 tempCodeRunnerFile.ipynb\n",
      "12.12.2022  13:49    <DIR>          __pycache__\n",
      "               7 File(s)        598.959 bytes\n",
      "               8 Dir(s)  114.898.100.224 bytes free\n"
     ]
    }
   ],
   "source": [
    "!dir"
   ]
  },
  {
   "cell_type": "code",
   "execution_count": 4,
   "id": "e5cb3d39",
   "metadata": {},
   "outputs": [
    {
     "name": "stdout",
     "output_type": "stream",
     "text": [
      "{'@context': {'skos': 'http://www.w3.org/2004/02/skos/core#', 'isothes': 'http://purl.org/iso25964/skos-thes#', 'rdfs': 'http://www.w3.org/2000/01/rdf-schema#', 'owl': 'http://www.w3.org/2002/07/owl#', 'dct': 'http://purl.org/dc/terms/', 'dc11': 'http://purl.org/dc/elements/1.1/', 'uri': '@id', 'type': '@type', 'lang': '@language', 'value': '@value', 'graph': '@graph', 'label': 'rdfs:label', 'prefLabel': 'skos:prefLabel', 'altLabel': 'skos:altLabel', 'hiddenLabel': 'skos:hiddenLabel', 'broader': 'skos:broader', 'narrower': 'skos:narrower', 'related': 'skos:related', 'inScheme': 'skos:inScheme', 'exactMatch': 'skos:exactMatch', 'closeMatch': 'skos:closeMatch', 'broadMatch': 'skos:broadMatch', 'narrowMatch': 'skos:narrowMatch', 'relatedMatch': 'skos:relatedMatch'}, 'graph': [{'uri': 'http://vocab.ieawindtask32.org/wind-lidar-ontology/', 'type': 'skos:ConceptScheme', 'prefLabel': {'lang': 'en', 'value': 'IEA Wind Task 32 Wind Lidar Ontology'}}, {'uri': 'http://vocab.ieawindtask32.org/wind-lidar-ontology/AzimuthAngle', 'type': 'skos:Concept', 'http://vocab.ieawindtask32.org/wind-lidar-ontology/units': {'lang': 'en', 'value': 'degrees'}, 'altLabel': {'lang': 'en', 'value': 'Azimuth'}, 'broader': {'uri': 'http://vocab.ieawindtask32.org/wind-lidar-ontology/ScannerAzimuthPositioningServo'}, 'skos:definition': [{'lang': 'es', 'value': 'Angulo subtendido entre la línea de visión (line-of-sight o LOS, por sus siglas en inglés) del lidar y el vector de referencia del plano de referencia.'}, {'lang': 'it', 'value': \"L'angolo fra la direzione del fascio laser ed un vettore di riferimento in un piano di riferimento.\"}, {'lang': 'en', 'value': 'The angle between the line of sight of the lidar and a reference vector on the reference coordinate system.'}, {'lang': 'cn', 'value': '激光雷达的视线与基准平面上的参考向量之间的夹角。'}], 'skos:editorialNote': [{'lang': 'it', 'value': \"Il vettore di riferimento dell'angolo di azimith è spesso quello che indica il nord geografico. Un qualsiasi altro vettore, in realtà, potrebbe analogamente servire allo scopo.\"}, {'lang': 'es', 'value': 'El vector de referencia desde el que se define el ángulo azimut es a menudo el eje de coordenadas correspondiente al norte geográfico, pero cualquier otra definición es válida siempre y cuando la definición del sistema de coordenadas sea consistente.'}, {'lang': 'en', 'value': 'The reference vector from which the azimuth is defined is often true north, but could be some other defined vector.'}], 'inScheme': {'uri': 'http://vocab.ieawindtask32.org/wind-lidar-ontology/'}, 'prefLabel': [{'lang': 'it', 'value': 'Azimut'}, {'lang': 'es', 'value': 'Azimut'}, {'lang': 'en', 'value': 'Azimuth angle'}, {'lang': 'cn', 'value': '方位角'}]}, {'uri': 'http://vocab.ieawindtask32.org/wind-lidar-ontology/ScannerAzimuthPositioningServo', 'type': 'skos:Concept', 'narrower': {'uri': 'http://vocab.ieawindtask32.org/wind-lidar-ontology/AzimuthAngle'}, 'prefLabel': [{'lang': 'cn', 'value': '扫描器方位定位伺服'}, {'lang': 'es', 'value': 'Servomotor de posicionamiento azimut del escáner'}, {'lang': 'it', 'value': 'Servomotore per la scansione nella direzione azimutale'}, {'lang': 'en', 'value': 'Scanner azimuth positioning servo'}]}]}\n"
     ]
    }
   ],
   "source": [
    "# Open the file that users download from (https://data.windenergy.dtu.dk/ontologies/view/ontolidar/en/)\n",
    "with open(r'.\\Ontology_Concepts\\Azimuth', encoding='utf-8') as f:\n",
    "    d = json.load(f)\n",
    "\n",
    "print(d)"
   ]
  },
  {
   "cell_type": "markdown",
   "id": "fd30fc89",
   "metadata": {},
   "source": [
    "Let's have a quick look to the data. The json file is arranged in a key: value structure such that these can be extracted using the methods shown below"
   ]
  },
  {
   "cell_type": "markdown",
   "id": "b27e7533",
   "metadata": {},
   "source": [
    "## Extract data\n",
    "\n",
    "Within the json structure, the most important elements are arranged under graph.index_inScheme. The keys in this dict, can be accessed using the following scripts. In the subsequent sections, we will use the ``skos:definition``, ``prefLabel`` and ``altLabel`` labels only. However, the user is able to extract other elements by replacing the label keys (``m``)"
   ]
  },
  {
   "cell_type": "code",
   "execution_count": 5,
   "id": "a7b1023b",
   "metadata": {},
   "outputs": [
    {
     "name": "stdout",
     "output_type": "stream",
     "text": [
      "dict_keys(['uri', 'type', 'http://vocab.ieawindtask32.org/wind-lidar-ontology/units', 'altLabel', 'broader', 'skos:definition', 'skos:editorialNote', 'inScheme', 'prefLabel'])\n"
     ]
    }
   ],
   "source": [
    "# Find the index to the correct prefLabel    \n",
    "index_inScheme=1\n",
    "m=d['graph'][index_inScheme].keys()\n",
    "while 'inScheme' not in m:\n",
    "    index_inScheme+=1\n",
    "    m=d['graph'][index_inScheme].keys()\n",
    "print(m)\n",
    "    "
   ]
  },
  {
   "cell_type": "code",
   "execution_count": 6,
   "id": "casual-trinidad",
   "metadata": {},
   "outputs": [
    {
     "data": {
      "text/plain": [
       "dict_keys(['uri', 'type', 'http://vocab.ieawindtask32.org/wind-lidar-ontology/units', 'altLabel', 'broader', 'skos:definition', 'skos:editorialNote', 'inScheme', 'prefLabel'])"
      ]
     },
     "execution_count": 6,
     "metadata": {},
     "output_type": "execute_result"
    }
   ],
   "source": [
    "m"
   ]
  },
  {
   "cell_type": "markdown",
   "id": "b425b04a",
   "metadata": {},
   "source": [
    "### Get definition of the lidar concept provided by the lidar ontology"
   ]
  },
  {
   "cell_type": "code",
   "execution_count": 7,
   "id": "253c7008",
   "metadata": {},
   "outputs": [
    {
     "name": "stdout",
     "output_type": "stream",
     "text": [
      "The angle between the line of sight of the lidar and a reference vector on the reference coordinate system.\n"
     ]
    }
   ],
   "source": [
    "#Getting definition of the concept\n",
    "from fun.getLabel import getLabel\n",
    "path = r'./Ontology_Concepts/Azimuth'\n",
    "Alternative_Label = getLabel(path, key = \"altLabel\", lang='en', index_inScheme=1)\n",
    "\n",
    "# get individual key value pairs depending on the key requested\n",
    "Definition        = getLabel(path, key=\"skos:definition\", lang='en', index_inScheme=1)\n",
    "Preferred_Label   = getLabel(path, key=\"prefLabel\", lang='en', index_inScheme=1)\n",
    "Alternative_Label = getLabel(path, key = \"altLabel\", lang='en', index_inScheme=1)\n",
    "\n",
    "#Save in a new dictionary\n",
    "Lidar_Dictionary['Definition']=Definition\n",
    "Lidar_Dictionary['Preferred Label']=Preferred_Label\n",
    "Lidar_Dictionary['Alternative Label']=Alternative_Label\n",
    "print(Definition)\n"
   ]
  },
  {
   "cell_type": "markdown",
   "id": "00f89025",
   "metadata": {},
   "source": [
    "### Get the preferred label of the lidar concept provided by the lidar ontology"
   ]
  },
  {
   "cell_type": "code",
   "execution_count": 8,
   "id": "0a0e244b",
   "metadata": {},
   "outputs": [
    {
     "name": "stdout",
     "output_type": "stream",
     "text": [
      "Azimuth angle\n"
     ]
    }
   ],
   "source": [
    "# Getting preferred label of the concept\n",
    "for ind_1 in range(len(d['graph'][index_inScheme]['prefLabel'])):\n",
    "    dict0=d['graph'][index_inScheme]['prefLabel'][ind_1]\n",
    "\n",
    "    if SelIdiom=='English' and ('lang','en') in dict0.items():\n",
    "        Preferred_Label = list(dict0.values())[1]\n",
    "            \n",
    "    elif SelIdiom=='Spanish' and ('lang','es') in dict0.items():\n",
    "        Preferred_Label = list(dict0.values())[1]\n",
    "           \n",
    "    elif SelIdiom=='Chinesse' and ('lang','cn') in dict0.items():\n",
    "        Preferred_Label = list(dict0.values())[1]\n",
    "    \n",
    "    elif SelIdiom=='Italian' and ('lang','it') in dict0.items():\n",
    "        Preferred_Label = list(dict0.values())[1]\n",
    "\n",
    "#Save in a new dictionary\n",
    "Lidar_Dictionary['Preferred Label']=Preferred_Label\n",
    "print(Preferred_Label)"
   ]
  },
  {
   "cell_type": "markdown",
   "id": "d538ae8f",
   "metadata": {},
   "source": [
    "### Get the alternative label of the lidar concept provided by the lidar ontology"
   ]
  },
  {
   "cell_type": "code",
   "execution_count": 9,
   "id": "a5dba020",
   "metadata": {},
   "outputs": [
    {
     "name": "stdout",
     "output_type": "stream",
     "text": [
      "Azimuth\n"
     ]
    },
    {
     "data": {
      "text/plain": [
       "{'lang': 'en', 'value': 'Azimuth'}"
      ]
     },
     "execution_count": 9,
     "metadata": {},
     "output_type": "execute_result"
    }
   ],
   "source": [
    "# Getting alternative label of the concept\n",
    "if 'altLabel' in d['graph'][index_inScheme].keys():\n",
    "     Alternative_Label = d['graph'][index_inScheme]['altLabel']['value']\n",
    "else:\n",
    "    print('No alternative label available')\n",
    "    \n",
    "#Save in a new dictionary\n",
    "Lidar_Dictionary['Alternative Label']=Alternative_Label\n",
    "print(Alternative_Label)\n",
    "d['graph'][index_inScheme]['altLabel']"
   ]
  },
  {
   "cell_type": "markdown",
   "id": "b973caec",
   "metadata": {},
   "source": [
    "### Save the alternative label as variable name and assign values to the downloaded concept"
   ]
  },
  {
   "cell_type": "markdown",
   "id": "c1e88e2b",
   "metadata": {},
   "source": [
    "User might want to use the downloaded data for coding purposes. If we download the concept \"Azimuth angle\" from the ontology and, for constistency to other codes, we want to use its `Alternative Label` for variable naming, we can proceed as follows. \n"
   ]
  },
  {
   "cell_type": "code",
   "execution_count": 14,
   "id": "3963f74b",
   "metadata": {},
   "outputs": [
    {
     "ename": "IndentationError",
     "evalue": "expected an indented block (<ipython-input-14-2e7c97262fda>, line 12)",
     "output_type": "error",
     "traceback": [
      "\u001b[1;36m  File \u001b[1;32m\"<ipython-input-14-2e7c97262fda>\"\u001b[1;36m, line \u001b[1;32m12\u001b[0m\n\u001b[1;33m    eyfo.edit_yaml_from_ontology(file_name,Lidar_Dictionary,fields_edit_yaml)\u001b[0m\n\u001b[1;37m       ^\u001b[0m\n\u001b[1;31mIndentationError\u001b[0m\u001b[1;31m:\u001b[0m expected an indented block\n"
     ]
    }
   ],
   "source": [
    "file_name='./Ontology_yml.yml'\n",
    "\n",
    "# 1) Choose the fields we want to edit. The variable \"\" contains the fields we want to change\n",
    "#    The new field content is inherited from the ontology\n",
    "nestedfields = [['Components'],['Scanner module'],['Azimuth angle']]\n",
    "\n",
    "str_nestedfields = 'config'\n",
    "for inf in range (len(nestedfields)):   \n",
    "    str_nestedfields+='{}'.format(nestedfields[inf])\n",
    "\n",
    "\n",
    "#Edit, write and save edition\n",
    "eyfo.edit_yaml_from_ontology(file_name,Lidar_Dictionary,fields_edit_yaml)\n"
   ]
  },
  {
   "cell_type": "markdown",
   "id": "d0235a13",
   "metadata": {},
   "source": [
    "Now, we can load our input lidar simulator file identifying ontology and our simulator "
   ]
  },
  {
   "cell_type": "markdown",
   "id": "5807a8d1",
   "metadata": {},
   "source": [
    "If we want to see the edited data:"
   ]
  },
  {
   "cell_type": "code",
   "execution_count": 11,
   "id": "worst-observer",
   "metadata": {},
   "outputs": [
    {
     "name": "stdout",
     "output_type": "stream",
     "text": [
      "{'Main directory': '.', 'Components': {'Scanner module': {'Definition': '', 'Preferred label': '', 'Alternative label': '', 'Scanning sample rate': {'Value': None, 'Units': None, 'Definition': '', 'Preferred label': '', 'Alternative label': ''}, 'Opening angle': {'Value': None, 'Units': None, 'Definition': '', 'Preferred label': '', 'Alternative label': ''}, 'Azimuth angle': {'Value': 0.44, 'Units': 'Degrees', 'Definition': 'The angle between the line of sight of the lidar and a reference vector on the reference coordinate system.', 'Preferred label': '', 'Alternative label': '', 'Preferred Label': 'Azimuth angle', 'Alternative Label': 'Azimuth'}, 'Focus distance': {'Value': None, 'Units': None, 'Definition': '', 'Preferred label': '', 'Alternative label': ''}}, 'Photonics module': {'Definition': '', 'Preferred label': '', 'Alternative label': '', 'Optical amplifier': {'Optical amplifier bandwidth': None, 'Optical amplifier noise figure': None, 'Optical amplifier gain': None, 'Power interval': None, 'Definition': '', 'Preferred label': '', 'Alternative label': ''}, 'Optical amplifier bandwidth': None}}, 'Device': {'Manufacturer': '', 'Model': '', 'Technology': '', 'Chassis number': '', 'Definition': '', 'Preferred label': '', 'Alternative label': ''}}\n"
     ]
    }
   ],
   "source": [
    "with open(file_name, 'r') as fp2:\n",
    "    Edited_yaml = yaml.safe_load(fp2)\n",
    "print(Edited_yaml)"
   ]
  },
  {
   "cell_type": "markdown",
   "id": "a2450681",
   "metadata": {},
   "source": [
    "We "
   ]
  },
  {
   "cell_type": "code",
   "execution_count": 12,
   "id": "71af143c",
   "metadata": {},
   "outputs": [],
   "source": [
    "# Value of my variable and labelling with the alternative label in the ontology\n",
    "setattr(sys.modules[__name__],Lidar_Dictionary['Alternative Label'], Edited_yaml['Components']['Scanner module']['Azimuth angle']['Value'])"
   ]
  },
  {
   "cell_type": "code",
   "execution_count": 13,
   "id": "5ad938c6",
   "metadata": {},
   "outputs": [
    {
     "data": {
      "text/plain": [
       "0.44"
      ]
     },
     "execution_count": 13,
     "metadata": {},
     "output_type": "execute_result"
    }
   ],
   "source": [
    "Azimuth"
   ]
  },
  {
   "cell_type": "code",
   "execution_count": null,
   "id": "c11e102a",
   "metadata": {},
   "outputs": [],
   "source": []
  }
 ],
 "metadata": {
  "kernelspec": {
   "display_name": "Python 3",
   "language": "python",
   "name": "python3"
  },
  "language_info": {
   "codemirror_mode": {
    "name": "ipython",
    "version": 3
   },
   "file_extension": ".py",
   "mimetype": "text/x-python",
   "name": "python",
   "nbconvert_exporter": "python",
   "pygments_lexer": "ipython3",
   "version": "3.7.9"
  },
  "vscode": {
   "interpreter": {
    "hash": "ebb9ef074f1b645e55a315bd95863e3c93fc21be9d9cb40b64821b9a29fc31f1"
   }
  }
 },
 "nbformat": 4,
 "nbformat_minor": 5
}
